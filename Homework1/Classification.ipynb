{
  "cells": [
    {
      "cell_type": "markdown",
      "metadata": {
        "id": "cuaA4bNpTDcK"
      },
      "source": [
        "# 2) Classification task"
      ]
    },
    {
      "cell_type": "markdown",
      "metadata": {
        "id": "-3jxCEyozFRh"
      },
      "source": [
        "The following cells have all been run on Google Colab multiple times. This choice was mainly guided by the need of increasing the computational resources and reducing the necessary runtime to complete all the required tasks.\n",
        "\n",
        "Since I performed multiple runs of the notebook in order to test different aspects of the Convolutional Neural Network, I had the chance to realize that the computational effort, runtime and the final Classification results are strongly affected by the type of device used. \n",
        "\n",
        "Google Colab randomly associates each session to an available GPU, therefore it's usually quite hard to gain coherent reproducible results. With the same definition of Train, Validation and Test sets, with the same distribution of labels in the three dataloaders and with the same CNN architecture and hyperparameters, the final results happened to be extremely different, sometimes opposite, depending on the number of workers in use and on the type of GPU and its memory.\n",
        "\n",
        "The results reported in this notebook are strongly dependent on the device used and therefore not univocally reproducible."
      ]
    },
    {
      "cell_type": "code",
      "execution_count": 17,
      "metadata": {
        "id": "VDVjKhBJTKB2",
        "scrolled": true,
        "colab": {
          "base_uri": "https://localhost:8080/"
        },
        "outputId": "4802ef84-a1d7-491b-b421-e41d885b4b70"
      },
      "outputs": [
        {
          "output_type": "stream",
          "name": "stdout",
          "text": [
            "Looking in indexes: https://pypi.org/simple, https://us-python.pkg.dev/colab-wheels/public/simple/\n",
            "Requirement already satisfied: optuna in /usr/local/lib/python3.7/dist-packages (2.10.1)\n",
            "Requirement already satisfied: PyYAML in /usr/local/lib/python3.7/dist-packages (from optuna) (3.13)\n",
            "Requirement already satisfied: alembic in /usr/local/lib/python3.7/dist-packages (from optuna) (1.8.1)\n",
            "Requirement already satisfied: numpy in /usr/local/lib/python3.7/dist-packages (from optuna) (1.21.6)\n",
            "Requirement already satisfied: cmaes>=0.8.2 in /usr/local/lib/python3.7/dist-packages (from optuna) (0.8.2)\n",
            "Requirement already satisfied: colorlog in /usr/local/lib/python3.7/dist-packages (from optuna) (6.6.0)\n",
            "Requirement already satisfied: packaging>=20.0 in /usr/local/lib/python3.7/dist-packages (from optuna) (21.3)\n",
            "Requirement already satisfied: sqlalchemy>=1.1.0 in /usr/local/lib/python3.7/dist-packages (from optuna) (1.4.40)\n",
            "Requirement already satisfied: scipy!=1.4.0 in /usr/local/lib/python3.7/dist-packages (from optuna) (1.7.3)\n",
            "Requirement already satisfied: tqdm in /usr/local/lib/python3.7/dist-packages (from optuna) (4.64.0)\n",
            "Requirement already satisfied: cliff in /usr/local/lib/python3.7/dist-packages (from optuna) (3.10.1)\n",
            "Requirement already satisfied: pyparsing!=3.0.5,>=2.0.2 in /usr/local/lib/python3.7/dist-packages (from packaging>=20.0->optuna) (3.0.9)\n",
            "Requirement already satisfied: importlib-metadata in /usr/local/lib/python3.7/dist-packages (from sqlalchemy>=1.1.0->optuna) (4.12.0)\n",
            "Requirement already satisfied: greenlet!=0.4.17 in /usr/local/lib/python3.7/dist-packages (from sqlalchemy>=1.1.0->optuna) (1.1.2)\n",
            "Requirement already satisfied: Mako in /usr/local/lib/python3.7/dist-packages (from alembic->optuna) (1.2.1)\n",
            "Requirement already satisfied: importlib-resources in /usr/local/lib/python3.7/dist-packages (from alembic->optuna) (5.9.0)\n",
            "Requirement already satisfied: PrettyTable>=0.7.2 in /usr/local/lib/python3.7/dist-packages (from cliff->optuna) (3.3.0)\n",
            "Requirement already satisfied: stevedore>=2.0.1 in /usr/local/lib/python3.7/dist-packages (from cliff->optuna) (3.5.0)\n",
            "Requirement already satisfied: pbr!=2.1.0,>=2.0.0 in /usr/local/lib/python3.7/dist-packages (from cliff->optuna) (5.10.0)\n",
            "Requirement already satisfied: cmd2>=1.0.0 in /usr/local/lib/python3.7/dist-packages (from cliff->optuna) (2.4.2)\n",
            "Requirement already satisfied: autopage>=0.4.0 in /usr/local/lib/python3.7/dist-packages (from cliff->optuna) (0.5.1)\n",
            "Requirement already satisfied: pyperclip>=1.6 in /usr/local/lib/python3.7/dist-packages (from cmd2>=1.0.0->cliff->optuna) (1.8.2)\n",
            "Requirement already satisfied: wcwidth>=0.1.7 in /usr/local/lib/python3.7/dist-packages (from cmd2>=1.0.0->cliff->optuna) (0.2.5)\n",
            "Requirement already satisfied: attrs>=16.3.0 in /usr/local/lib/python3.7/dist-packages (from cmd2>=1.0.0->cliff->optuna) (22.1.0)\n",
            "Requirement already satisfied: typing-extensions in /usr/local/lib/python3.7/dist-packages (from cmd2>=1.0.0->cliff->optuna) (4.1.1)\n",
            "Requirement already satisfied: zipp>=0.5 in /usr/local/lib/python3.7/dist-packages (from importlib-metadata->sqlalchemy>=1.1.0->optuna) (3.8.1)\n",
            "Requirement already satisfied: MarkupSafe>=0.9.2 in /usr/local/lib/python3.7/dist-packages (from Mako->alembic->optuna) (2.0.1)\n"
          ]
        }
      ],
      "source": [
        "#run on Colab\n",
        "! pip install optuna"
      ]
    },
    {
      "cell_type": "code",
      "execution_count": 18,
      "metadata": {
        "id": "4PX7Zo3oTDcK"
      },
      "outputs": [],
      "source": [
        "import torch\n",
        "import torchvision\n",
        "import torch.optim as optim\n",
        "import torch.nn.functional as F\n",
        "from torch import nn\n",
        "from torch.utils.data import Dataset, DataLoader\n",
        "from torchvision import transforms\n",
        "\n",
        "from sklearn.model_selection import GridSearchCV,KFold\n",
        "from sklearn.metrics import confusion_matrix\n",
        "from optuna.visualization import plot_param_importances\n",
        "\n",
        "import random\n",
        "import numpy as np\n",
        "import matplotlib.pyplot as plt\n",
        "import matplotlib\n",
        "import optuna\n",
        "import time\n",
        "import seaborn as sns\n"
      ]
    },
    {
      "cell_type": "code",
      "execution_count": 19,
      "metadata": {
        "colab": {
          "base_uri": "https://localhost:8080/"
        },
        "id": "nbEM2FcMTDcM",
        "outputId": "0d0fec51-ca9f-4452-a9d6-94ae540bf3a4"
      },
      "outputs": [
        {
          "output_type": "execute_result",
          "data": {
            "text/plain": [
              "device(type='cpu')"
            ]
          },
          "metadata": {},
          "execution_count": 19
        }
      ],
      "source": [
        "#set seed\n",
        "seed = 5630\n",
        "torch.manual_seed(seed)\n",
        "\n",
        "#Select device\n",
        "device = torch.device(\"cuda\") if torch.cuda.is_available() else torch.device(\"cpu\")\n",
        "device"
      ]
    },
    {
      "cell_type": "markdown",
      "metadata": {
        "id": "jRSoLMdzTDcU"
      },
      "source": [
        "## 2.1) Preprocessing\n",
        "\n"
      ]
    },
    {
      "cell_type": "markdown",
      "metadata": {
        "id": "UC3TryFhzFRh"
      },
      "source": [
        "### 2.1.1) Download, Datasets and Dataloaders\n",
        "\n",
        "I downloaded the $\\texttt{train_dataset}$ and $\\texttt{test_dataset}$ and transformed them into tensors by applying the usual $\\texttt{ToTensor()}$ transformation.\n",
        "\n",
        "I divided the initial Training set into Train (75%) and Validation(25%); other combinations of percentages have been tested (80% Train 20% Val, 70% Train and 30% Val) but the results are not strongly dependent on these divisions.\n",
        "\n",
        "Moreover, I created Dataloader objects out of the previously mentioned Datasets, making sure to properly set the $\\texttt{batch_size}$ dimension and the $\\texttt{num_workers}$: these parameters should be tuned depending on the characteristics of the device in which the code is going to run.\n",
        "\n",
        "Eventually I printed some examples of the data I am dealing with and the amount of samples present in each set.\n"
      ]
    },
    {
      "cell_type": "code",
      "execution_count": 4,
      "metadata": {
        "colab": {
          "base_uri": "https://localhost:8080/",
          "height": 614,
          "referenced_widgets": [
            "c7d5df6290b244baa6db01ce790dd822",
            "68b3b4213b54490e93e34ca778dd6941",
            "b303990636fe491092d1ad88e9888856",
            "f63a6307441b4fbda32a398f595245b5",
            "12d6188539bd40ef80a32558476ddb74",
            "9be05849ea7041868369995d3e2c2679",
            "040bc90f06dc4a8e98cc1edf269d7fa2",
            "15e6958d16f94ad5a043308488242e00",
            "2c7cd54b56cb44efb279796c14f0985d",
            "c7f98fd90b25406cbe26c29a404ee1c9",
            "951c91f1bdfd47e48b8c4a4986f891be",
            "b76a27c458ab4b99a59cc9a559198eec",
            "10ad9731f25346fc8cd8557aa893d7d0",
            "c124c649733d4b0b8d4c4be88c2d974e",
            "91e078cfd17f4165835df8570f8bb474",
            "de43d93401ce4d58a7dd8b407f67f4a1",
            "6a20c3554f504d8591e01241b11b2368",
            "931b2f3132be4b03b52b472df0e5c1bd",
            "3cc160b95d4749298258fcec809d5b28",
            "de5fc6a1bf35419caa8c8c8cf0af3be1",
            "4cbd89b2f1a24f369a9a556c76551a66",
            "46afe2b87c9b40b8ab68efcba8a7e20c",
            "2760f3ed8d894f468ca5fc7ebcaeee29",
            "79888dea92fe47c89683234ff498f8be",
            "2fedffc896fb4dc9aa7056d62fd82910",
            "78f758c4ab064663b60be37292097d97",
            "50d5345c02434bd9b138822ae0ff0290",
            "1d5954bd3bb44e10a6251fbc65c1974f",
            "853cb0fa3a2247c19b7ad6c50029d0cd",
            "798f4e41df46425c9e03d4d3382a2625",
            "4984de740e38494f9720e1cdd709edf5",
            "9bb33b21fc9841fc82f41e9ca2910927",
            "76f0d53e9bfc4599adec9966f895196b",
            "9700cf4e53a84141a6f58205981d5fdc",
            "2012fc3d4b33408d95fdd1aaf9e8ff13",
            "86681b4f6bcd493fa10c9eeca692f6bf",
            "47c7b70f48df4e97aee0c18188725f73",
            "9afb60ca2b40444aa236a79b3a646a09",
            "be1189d7975e4b62850a3a2bc8bc57ff",
            "71c517b3dd9448c6a9a6b042213bcf92",
            "72e1236e312d464b8e504e62b40e5710",
            "52af89ac89864709baadd20f14abd18b",
            "e4ab702ffc9049a5a210a3fe2b661de1",
            "2640e330bc7e4ab98c46981251dfec0a"
          ]
        },
        "id": "W_SXTMVxTDcU",
        "outputId": "6300ef6e-aa5f-43a0-f7c6-ac4d39899f34"
      },
      "outputs": [
        {
          "output_type": "stream",
          "name": "stdout",
          "text": [
            "Downloading http://fashion-mnist.s3-website.eu-central-1.amazonaws.com/train-images-idx3-ubyte.gz\n",
            "Downloading http://fashion-mnist.s3-website.eu-central-1.amazonaws.com/train-images-idx3-ubyte.gz to classifier_data/FashionMNIST/raw/train-images-idx3-ubyte.gz\n"
          ]
        },
        {
          "output_type": "display_data",
          "data": {
            "text/plain": [
              "  0%|          | 0/26421880 [00:00<?, ?it/s]"
            ],
            "application/vnd.jupyter.widget-view+json": {
              "version_major": 2,
              "version_minor": 0,
              "model_id": "c7d5df6290b244baa6db01ce790dd822"
            }
          },
          "metadata": {}
        },
        {
          "output_type": "stream",
          "name": "stdout",
          "text": [
            "Extracting classifier_data/FashionMNIST/raw/train-images-idx3-ubyte.gz to classifier_data/FashionMNIST/raw\n",
            "\n",
            "Downloading http://fashion-mnist.s3-website.eu-central-1.amazonaws.com/train-labels-idx1-ubyte.gz\n",
            "Downloading http://fashion-mnist.s3-website.eu-central-1.amazonaws.com/train-labels-idx1-ubyte.gz to classifier_data/FashionMNIST/raw/train-labels-idx1-ubyte.gz\n"
          ]
        },
        {
          "output_type": "display_data",
          "data": {
            "text/plain": [
              "  0%|          | 0/29515 [00:00<?, ?it/s]"
            ],
            "application/vnd.jupyter.widget-view+json": {
              "version_major": 2,
              "version_minor": 0,
              "model_id": "b76a27c458ab4b99a59cc9a559198eec"
            }
          },
          "metadata": {}
        },
        {
          "output_type": "stream",
          "name": "stdout",
          "text": [
            "Extracting classifier_data/FashionMNIST/raw/train-labels-idx1-ubyte.gz to classifier_data/FashionMNIST/raw\n",
            "\n",
            "Downloading http://fashion-mnist.s3-website.eu-central-1.amazonaws.com/t10k-images-idx3-ubyte.gz\n",
            "Downloading http://fashion-mnist.s3-website.eu-central-1.amazonaws.com/t10k-images-idx3-ubyte.gz to classifier_data/FashionMNIST/raw/t10k-images-idx3-ubyte.gz\n"
          ]
        },
        {
          "output_type": "display_data",
          "data": {
            "text/plain": [
              "  0%|          | 0/4422102 [00:00<?, ?it/s]"
            ],
            "application/vnd.jupyter.widget-view+json": {
              "version_major": 2,
              "version_minor": 0,
              "model_id": "2760f3ed8d894f468ca5fc7ebcaeee29"
            }
          },
          "metadata": {}
        },
        {
          "output_type": "stream",
          "name": "stdout",
          "text": [
            "Extracting classifier_data/FashionMNIST/raw/t10k-images-idx3-ubyte.gz to classifier_data/FashionMNIST/raw\n",
            "\n",
            "Downloading http://fashion-mnist.s3-website.eu-central-1.amazonaws.com/t10k-labels-idx1-ubyte.gz\n",
            "Downloading http://fashion-mnist.s3-website.eu-central-1.amazonaws.com/t10k-labels-idx1-ubyte.gz to classifier_data/FashionMNIST/raw/t10k-labels-idx1-ubyte.gz\n"
          ]
        },
        {
          "output_type": "display_data",
          "data": {
            "text/plain": [
              "  0%|          | 0/5148 [00:00<?, ?it/s]"
            ],
            "application/vnd.jupyter.widget-view+json": {
              "version_major": 2,
              "version_minor": 0,
              "model_id": "9700cf4e53a84141a6f58205981d5fdc"
            }
          },
          "metadata": {}
        },
        {
          "output_type": "stream",
          "name": "stdout",
          "text": [
            "Extracting classifier_data/FashionMNIST/raw/t10k-labels-idx1-ubyte.gz to classifier_data/FashionMNIST/raw\n",
            "\n",
            "Number of Different Classes: 10\n",
            "Dimension of Training Set: 45000 \n",
            "Dimension of Validation Set: 15000 \n",
            "Dimension of Test Set: 10000\n"
          ]
        },
        {
          "output_type": "stream",
          "name": "stderr",
          "text": [
            "/usr/local/lib/python3.7/dist-packages/torch/utils/data/dataloader.py:566: UserWarning: This DataLoader will create 4 worker processes in total. Our suggested max number of worker in current system is 2, which is smaller than what this DataLoader is going to create. Please be aware that excessive worker creation might get DataLoader running slow or even freeze, lower the worker number to avoid potential slowness/freeze if necessary.\n",
            "  cpuset_checked))\n"
          ]
        }
      ],
      "source": [
        "#define transformations to apply to datasets\n",
        "dataset_transforms = transforms.Compose([transforms.ToTensor()])\n",
        "\n",
        "###DATASETS\n",
        "train_dataset = torchvision.datasets.FashionMNIST('classifier_data', train=True, \n",
        "                                                  transform=dataset_transforms, download=True)\n",
        "test_dataset  = torchvision.datasets.FashionMNIST('classifier_data', train=False, \n",
        "                                                  transform=dataset_transforms, download=True)\n",
        "\n",
        "#different classes\n",
        "label_names=['t-shirt','trouser','pullover','dress','coat','sandal','shirt',\n",
        "             'sneaker','bag','boot']\n",
        "n_classes = len(label_names)\n",
        "print(\"Number of Different Classes:\",n_classes)\n",
        "\n",
        "#define training, validation and test dimensions\n",
        "train_percentage = 0.75\n",
        "train_dim = int(train_percentage*len(train_dataset))\n",
        "val_dim = int(len(train_dataset) - train_dim)\n",
        "test_dim = len(test_dataset)\n",
        "\n",
        "#split training and validation data\n",
        "train_dataset, val_dataset = torch.utils.data.random_split(train_dataset, [train_dim, val_dim])\n",
        "print(\"Dimension of Training Set:\",train_dim,\"\\nDimension of Validation Set:\", val_dim,\n",
        "      \"\\nDimension of Test Set:\",test_dim)\n",
        "\n",
        "###DATALOADERS\n",
        "batch_size=1000\n",
        "train_dataloader = DataLoader(train_dataset, batch_size, num_workers=4,shuffle=True)\n",
        "val_dataloader = DataLoader(val_dataset, len(val_dataset), num_workers=4, shuffle=True)\n",
        "test_dataloader = DataLoader(test_dataset, len(test_dataset), num_workers=4,shuffle=False)\n"
      ]
    },
    {
      "cell_type": "code",
      "execution_count": null,
      "metadata": {
        "colab": {
          "base_uri": "https://localhost:8080/",
          "height": 619
        },
        "id": "qcD4ASxXTDcW",
        "outputId": "e5ac4c51-78d3-4aae-f419-a4b75a25fcf5"
      },
      "outputs": [
        {
          "output_type": "display_data",
          "data": {
            "text/plain": [
              "<Figure size 576x576 with 25 Axes>"
            ],
            "image/png": "[encoded data removed]"
          },
          "metadata": {}
        }
      ],
      "source": [
        "###PLOT SOME EXAMPLES\n",
        "fig, axs = plt.subplots(5, 5, figsize=(8,8))\n",
        "\n",
        "for ax in axs.flatten():\n",
        "    \n",
        "    #select random sample\n",
        "    img, label = random.choice(train_dataset)\n",
        "    img = img.squeeze(0)\n",
        "    \n",
        "    #show\n",
        "    ax.imshow(np.array(img), cmap='gist_gray')\n",
        "    ax.set_title(f'Label: {label_names[label]} [{label}]')\n",
        "    ax.set_xticks([])\n",
        "    ax.set_yticks([])\n",
        "plt.suptitle(\"Samples from Training Dataset\",fontsize=20,x=0.5,y=1.05)    \n",
        "plt.tight_layout()"
      ]
    },
    {
      "cell_type": "markdown",
      "metadata": {
        "id": "gNW4qOPVzFRj"
      },
      "source": [
        "### 2.1.2) Data Distribution\n",
        "\n",
        "I decided to dedicate a section of the notebook to study the distribution of the ten different classes in each of the three Datasets in use.\n",
        "\n",
        "I counted the occurences of each class in each dataset, represented their values as percentages with respect to the overall number of sample in each dataset and compared them to the Uniform Ditribution. \n",
        "\n",
        "As we can see from the plots below, the Test Dataset always has the same amount of samples for each class since, after its download, it is not undergoing any further division. The Training and Validation sets instead always present different distribution, slightly far from the Uniform one, because of different division of the samples and their reshuffling.\n",
        "\n",
        "It is important to perform this check because a Training set which doesn't present a reasonable amount of all the labels available might correspond to a non optimal learning: if the amount of data of a specific class is much higher in the Validation Set rather than in the Training Set, the NN might not have enough information to properly learn all the features corresponding to that class and the final results would be eventually negatively influenced.\n"
      ]
    },
    {
      "cell_type": "code",
      "execution_count": null,
      "metadata": {
        "id": "9ZHdpplMdRr-"
      },
      "outputs": [],
      "source": [
        "#for each class\n",
        "count_train = []\n",
        "count_val = []\n",
        "count_test = []\n",
        "\n",
        "for index, class_name in enumerate(label_names):\n",
        "\n",
        "    index_tensor = torch.tensor(np.repeat(index,batch_size))\n",
        "\n",
        "    #TRAIN DATALOADER\n",
        "    count = 0\n",
        "    for batch in train_dataloader:\n",
        "        #list of labels\n",
        "        label_batch = batch[1]\n",
        "        count = count + torch.sum(label_batch==index_tensor)\n",
        "    count_train.append(count)\n",
        "\n",
        "    index_tensor = torch.tensor(np.repeat(index,val_dim))\n",
        "\n",
        "    #VAL DATALOADER\n",
        "    count = 0\n",
        "    for batch in val_dataloader:\n",
        "        #list of labels\n",
        "        label_batch = batch[1]\n",
        "        count = count + torch.sum(label_batch==index_tensor)\n",
        "\n",
        "    count_val.append(count)\n",
        "\n",
        "    index_tensor = torch.tensor(np.repeat(index,10000))\n",
        "\n",
        "    #TEST DATALOADER\n",
        "    count = 0\n",
        "    for batch in test_dataloader:\n",
        "        #list of labels\n",
        "        label_batch = batch[1]\n",
        "        count = count + torch.sum(label_batch==index_tensor)\n",
        "\n",
        "    count_test.append(count)\n"
      ]
    },
    {
      "cell_type": "code",
      "execution_count": null,
      "metadata": {
        "colab": {
          "base_uri": "https://localhost:8080/",
          "height": 798
        },
        "id": "5X8SfN9EC4xg",
        "outputId": "1a1c319e-247e-4e1f-c79d-3ab7711a052e"
      },
      "outputs": [
        {
          "output_type": "display_data",
          "data": {
            "text/plain": [
              "<Figure size 1440x1440 with 3 Axes>"
            ],
            "image/png": "[encoded data removed]"
          },
          "metadata": {
            "needs_background": "light"
          }
        }
      ],
      "source": [
        "#plot distribution of datasets\n",
        "fig,ax = plt.subplots(3,1,figsize=(20,20))\n",
        "\n",
        "sets = ['Training Set','Validation Set','Test Set']\n",
        "counts = [count_train,count_val,count_test]\n",
        "dims = [train_dim,val_dim,test_dim]\n",
        "\n",
        "for i,s in enumerate(sets):\n",
        "\n",
        "    #normalize\n",
        "    count = counts[i]/np.sum(counts[i])\n",
        "\n",
        "    ax[i].scatter(np.arange(0,10),count*100,s=100,label=\"data\")\n",
        "    ax[i].set_title(f\"{s}: {dims[i]} samples\",fontsize=20)\n",
        "    ax[i].plot(np.arange(0,10),np.repeat(10,10),color='red',linewidth=2,label=\"Uniform Distribution\")\n",
        "    ax[i].set_xlabel(\"Classes\",fontsize=15)\n",
        "    ax[i].set_ylabel(\"Occurrence percentage\",fontsize=15)\n",
        "    ax[i].set_xticks(np.arange(0,10))\n",
        "    ax[i].set_yticks(np.arange(9.5,10.5,0.25))\n",
        "    ax[i].grid()\n",
        "    ax[i].legend(fontsize=20,loc=\"lower left\")\n",
        "\n",
        "plt.show()\n"
      ]
    },
    {
      "cell_type": "markdown",
      "metadata": {
        "id": "_LYTW4bOTDcX"
      },
      "source": [
        "## 2.2) Classes and functions\n",
        "\n",
        "In the following cells I'm defining a series of functions and classes that I will use throughout the whole notebook.\n",
        "\n",
        "The Convolutional Neural Network Class definition is not present in this cell because it will be used for different purposes in the following  sections and a unique definition of it would be too limiting."
      ]
    },
    {
      "cell_type": "markdown",
      "source": [
        "The training funcion works almost in the same way as the one defined in the Regression task. The difference this time is that I chose not to perform cross validation on the data in order to limit the computational effort of the code.\n",
        "\n",
        "Its fuctioning follows these main steps:\n",
        "\n",
        "* 1) A loop is performed on the total number of epochs.\n",
        "\n",
        "* 2) For each epoch the NN is set into training mode and the Train Dataloader is scanned batch per batch.\n",
        "\n",
        "* 3) For each training batch, data and labels are separately stored. The output of the data is computed and its distance from the actual labels is measured by means of the loss function ($\\texttt{nn.CrossEntropyLoss()}$). The NN weights are then updated accordingly through backpropagation and the batch training loss value is stored into a list.\n",
        "\n",
        "* 4) The NN is then moved into evaluation mode and the Validation Dataloader is scanned batch per batch. For each batch both the output and the loss are calculated, but the weights are not being updated to improve the NN efficiency.\n",
        "\n",
        "* 5) Eventually the mean loss values for all the batches in the training data and in the validation data are separately stored in two empty lists. These data will be used to plot and study the learning curves of the CNN architecture."
      ],
      "metadata": {
        "id": "jxYscmAPH1bD"
      }
    },
    {
      "cell_type": "code",
      "execution_count": 5,
      "metadata": {
        "id": "w8tt5LijTDcY"
      },
      "outputs": [],
      "source": [
        "def new_training(NN, num_epochs, loss_function, optimizer,verbose=False,test=False):\n",
        "    \n",
        "    #Learning Curve values\n",
        "    train_loss_log = []\n",
        "    val_loss_log = []\n",
        "    \n",
        "    #iteration over epochs\n",
        "    for epoch_num in range(num_epochs):\n",
        "        \n",
        "        if verbose:print(\"Epoch:\",epoch_num)\n",
        "        \n",
        "        # Training mode\n",
        "        NN.train() \n",
        "\n",
        "        train_loss = []\n",
        "        for sampled_batch in train_dataloader: \n",
        "\n",
        "            #move data to device\n",
        "            x_batch = sampled_batch[0].to(device)\n",
        "            label_batch = sampled_batch[1].to(device)\n",
        "\n",
        "            #Compute output of NN\n",
        "            out = NN(x_batch)\n",
        "\n",
        "            #Compute loss with loss_function\n",
        "            loss = loss_function(out, label_batch)\n",
        "\n",
        "            #Backpropagation\n",
        "            NN.zero_grad()\n",
        "            loss.backward()\n",
        "\n",
        "            #Update the weights according to the optimizer\n",
        "            optimizer.step()\n",
        "\n",
        "            #Save train loss for this batch\n",
        "            loss_batch = loss.detach().cpu().numpy()\n",
        "            train_loss.append(loss_batch)\n",
        "            \n",
        "        \n",
        "        if verbose: print(\"TRAINING LOSS:\",np.mean(train_loss))\n",
        "            \n",
        "        #Evaluation mode \n",
        "        NN.eval() \n",
        "        \n",
        "        #Validation or Test set according to input flag\n",
        "        if test:\n",
        "            dataloader = test_dataloader\n",
        "        else:\n",
        "            dataloader = val_dataloader\n",
        "\n",
        "        with torch.no_grad():\n",
        "\n",
        "            val_loss = []\n",
        "            for sampled_batch in dataloader:\n",
        "\n",
        "                #Move data to device\n",
        "                x_batch = sampled_batch[0].to(device)\n",
        "                label_batch = sampled_batch[1].to(device)\n",
        "\n",
        "                #Compute output of NN\n",
        "                out = NN(x_batch)\n",
        "\n",
        "                #Compute loss with loss_function\n",
        "                loss = loss_function(out, label_batch)\n",
        "\n",
        "                #Save val loss for this batch\n",
        "                loss_batch = loss.detach().cpu().numpy()\n",
        "                val_loss.append(loss_batch)\n",
        "                \n",
        "            if verbose: print(\"VALIDATION LOSS:\",np.mean(val_loss))\n",
        "      \n",
        "        #save mean loss values for each epoch    \n",
        "        train_loss_log.append(np.mean(train_loss))\n",
        "        val_loss_log.append(np.mean(val_loss))\n",
        "    \n",
        "    print(\"Network Trained\")\n",
        "        \n",
        "    return [train_loss_log, val_loss_log] "
      ]
    },
    {
      "cell_type": "markdown",
      "source": [
        "The following is a simple function that takes as input the training and validation loss lists and plot them together in the same figure, in order to better visualize the learning proces of the CNN."
      ],
      "metadata": {
        "id": "YiYsb5X4MGsA"
      }
    },
    {
      "cell_type": "code",
      "execution_count": 6,
      "metadata": {
        "id": "0JFu_EAxTDcZ"
      },
      "outputs": [],
      "source": [
        "def plot_learningcurves(train, val):\n",
        "    \n",
        "    # Plot losses\n",
        "    plt.figure(figsize=(12,8))\n",
        "    plt.semilogy(val, label='Validation loss')\n",
        "    plt.semilogy(train, label='Train loss')\n",
        "    plt.title(f\"Learning Curves for CNN:\",fontsize=20)\n",
        "    plt.xlabel('Epochs',fontsize=20)\n",
        "    plt.ylabel('Loss',fontsize=20)\n",
        "    plt.grid()\n",
        "    plt.legend(fontsize=20)\n",
        "    plt.show()"
      ]
    },
    {
      "cell_type": "markdown",
      "source": [
        "The $\\texttt{pooling_dim}$ function will allow me to keep track of the dimension of flattened linear layer after the convolutional section of the Neural Network. \n",
        "\n",
        "It performs a for loop over each convolutional layer in the architecture. For each layer it counts how many data are being collected: starting from a 28x28 pixel image, each channel of the following layer will have a different dimension depending on the $\\texttt{kernel_size}$ (only 3x3 or 5x5 in this notebook) and on the $\\texttt{stride}$ pace.\n",
        "Between each convolutional layer, the dimension of each channel is updated accordingly.\n",
        "\n",
        "Eventually the final flattened layer will have a total number of neurons corresponding to the number of final channels times the square of the dimension of each channel halved (due to the MaxPooling of stride too performed between the convolutional and linear sections). The second linear layer, when present is set to have exactely one half of the neurons present in the first linear layer.\n",
        "\n"
      ],
      "metadata": {
        "id": "Tottnm2sGl1l"
      }
    },
    {
      "cell_type": "code",
      "execution_count": 7,
      "metadata": {
        "id": "GocNRcYgTDcX"
      },
      "outputs": [],
      "source": [
        "def pooling_dim(n_cl,channel, kernel_size,padding=0,stride=1):\n",
        "        \n",
        "    dim = 28\n",
        "\n",
        "    #for each convolutional layer update dimension\n",
        "    for i in range(n_cl):\n",
        "        dim = len(np.arange(0,dim-kernel_size+1,stride))\n",
        "        \n",
        "    #update dimensions of linear layers\n",
        "    first_linear = int(channel*(dim/2)**2)\n",
        "    second_linear = int(first_linear/2)\n",
        "\n",
        "    return [first_linear,second_linear]\n",
        " "
      ]
    },
    {
      "cell_type": "markdown",
      "source": [
        "The following function allows me to plot the confusion matrix between the actual labels and the predicted ones from the Convolutional Neural Network. The predicted labels are computed exactely like in the evaluation section of the $\\texttt{new_training}$ function; by applying the CNN to the batch data, the output array is computed. The predicted label will correspond to the index of the output neuron corresponding to the maximum output value.\n",
        "\n",
        "\n",
        "The input arguments $\\texttt{dataloader}$ and $\\texttt{dataset}$ allow me to choose on which set of data the confusion matrix is computed, so to be able to visualize the performances both at the Validation and at the Testing level. \n"
      ],
      "metadata": {
        "id": "UUTgyn41O1G5"
      }
    },
    {
      "cell_type": "code",
      "execution_count": 8,
      "metadata": {
        "id": "ho-OndoCTDcY"
      },
      "outputs": [],
      "source": [
        "def plot_confusion_matrix(model,dataloader,dataset,params_dict):\n",
        "        \n",
        "    #set params\n",
        "    loss_fn = nn.CrossEntropyLoss()\n",
        "\n",
        "    #model's prediction\n",
        "    prediction = []\n",
        "    preds_correct = 0\n",
        "    len_preds_correct = 0\n",
        "\n",
        "    #evaluation mode\n",
        "    model.eval() \n",
        "    with torch.no_grad(): \n",
        "        for sample_batched in dataloader:\n",
        "            x_batch = sample_batched[0].to(device)\n",
        "            label_batch = sample_batched[1].to(device)\n",
        "\n",
        "            out = model(x_batch)\n",
        "            loss = loss_fn(out, label_batch)\n",
        "            loss_batch = loss.detach().cpu().numpy()\n",
        "            \n",
        "            preds = torch.max(out,1)[1]\n",
        "            prediction.append(preds.cpu().numpy())\n",
        "            preds_correct += torch.sum(preds==label_batch.data)\n",
        "            len_preds_correct += len(label_batch)\n",
        "    \n",
        "        accuracy = preds_correct.detach().cpu().numpy()/len_preds_correct\n",
        "    \n",
        "    #compare predictions and true values\n",
        "    y_pred = np.concatenate(prediction).ravel()\n",
        "    y_true = np.array([x[1] for x in dataset])\n",
        "\n",
        "    #create confusion matrix\n",
        "    matrix = confusion_matrix(y_true, y_pred)\n",
        "    \n",
        "    #plot\n",
        "    plt.figure(figsize = (9,7))\n",
        "    sns.heatmap(matrix/1000, annot=True, fmt =  \"1.2f\", cmap='Blues'  )\n",
        "    plt.xlabel(\"Predicted Label\")\n",
        "    plt.ylabel(\"True Label\")\n",
        "    plt.title('Confusion matrix', size=16)\n",
        "    plt.show()"
      ]
    },
    {
      "cell_type": "markdown",
      "metadata": {
        "id": "jpbSupaeTDcZ"
      },
      "source": [
        "## 2.3) Compare Architectures\n",
        "\n",
        "\n",
        "As a first step, I decided to compare four different Convolutional Neural Network Architectures, in order to have a general idea about their learning behaviour.\n",
        "\n",
        "This kind of study is more of a qualitative evaluation of the CNNs. I was not expecting to retrieve meaningful results, since all the hyperparameters have just been set in a fixed but random manner, therefore they are not optimized a priori for this classification task.\n",
        "\n",
        "I decided to test the following architectures:\n",
        "\n",
        "|Architecture | Channels Conv 1 | Channels Conv 2 | Channels Conv 3 | Max Pooling 2 | Linear 1 | Linear 2 | Output |\n",
        "| --- | --- | --- | --- | --- | --- | --- | --- |\n",
        "| 1 | 4 | 8 | / | TRUE | 1152 | / | 10 |\n",
        "| 2 | 4 | 8 | / | TRUE | 1152 | 576 | 10 |\n",
        "| 3 | 4 | 8 | 16 | TRUE | 1936 | / | 10 |\n",
        "| 4 | 4 | 8 | 16 | TRUE | 1152 | 968 | 10 |\n",
        "\n",
        "For all the previous, the following parameters remained fixed:\n",
        "\n",
        "| Loss Function | Optimizer | Epochs | Stride | Padding |\n",
        "| --- | --- | --- | --- | --- |\n",
        "| CrossEntropyLoss | Adam | 20 | 1 | 0 | \n",
        "\n",
        "\n",
        "I stored the training and validation losses for all the architeectures and eventually compared their learning curves. I also stored the runtime used to train each architecture.\n"
      ]
    },
    {
      "cell_type": "code",
      "execution_count": null,
      "metadata": {
        "id": "JFbCuTasTDca"
      },
      "outputs": [],
      "source": [
        "train_losses = []\n",
        "val_losses = []\n",
        "times = []\n",
        "archs = []"
      ]
    },
    {
      "cell_type": "markdown",
      "metadata": {
        "id": "Y32IAETOTDca"
      },
      "source": [
        "### 2.3.1) Arch 1"
      ]
    },
    {
      "cell_type": "code",
      "execution_count": null,
      "metadata": {
        "id": "jyU-aYAkTDca"
      },
      "outputs": [],
      "source": [
        "class CNN_1(nn.Module):\n",
        "    \n",
        "    def __init__(self,params_dict):\n",
        "        super().__init__()\n",
        "        \n",
        "        ###Read parameters from dict\n",
        "        cl_out1 = params_dict[\"cl_out1\"]\n",
        "        cl_out2 = params_dict[\"cl_out2\"]\n",
        "        \n",
        "        ### Convolutional section\n",
        "        self.conv = nn.Sequential(\n",
        "            # First convolutional layer\n",
        "            nn.Conv2d(in_channels=1, out_channels=cl_out1, kernel_size=3,\n",
        "                                  stride=1, padding=0),nn.ReLU(True),\n",
        "            # Second convolutional layer\n",
        "            nn.Conv2d(in_channels=cl_out1, out_channels=cl_out2, kernel_size=3,\n",
        "                        stride=1, padding=0),nn.ReLU(True),          \n",
        "        )\n",
        "   \n",
        "        #MAX POOLING of stride 2\n",
        "        #update dimensions of linear layers\n",
        "        first_linear,second_linear = pooling_dim(2, cl_out2,3,padding=0,stride=1);\n",
        "        \n",
        "        ###Linear Section\n",
        "        self.linear = nn.Sequential(\n",
        "            # First linear layer\n",
        "            nn.Linear(in_features=first_linear, out_features=n_classes),nn.ReLU(True),\n",
        "        )\n",
        "        \n",
        "    def forward(self, x):\n",
        "        x = self.conv(x) \n",
        "        x = F.max_pool2d(x, 2)\n",
        "        x = torch.flatten(x,1)\n",
        "        x = self.linear(x)\n",
        "        return x"
      ]
    },
    {
      "cell_type": "code",
      "execution_count": null,
      "metadata": {
        "colab": {
          "base_uri": "https://localhost:8080/"
        },
        "id": "We2mhR3iTDcb",
        "outputId": "a21f1741-f878-4c7e-96d6-d1d4db5358d8",
        "scrolled": true
      },
      "outputs": [
        {
          "output_type": "stream",
          "name": "stdout",
          "text": [
            "Epoch: 0\n",
            "TRAINING LOSS: 2.1969786\n",
            "VALIDATION LOSS: 2.033932\n",
            "Epoch: 1\n",
            "TRAINING LOSS: 1.9299576\n",
            "VALIDATION LOSS: 1.884191\n",
            "Epoch: 2\n",
            "TRAINING LOSS: 1.8562895\n",
            "VALIDATION LOSS: 1.8446636\n",
            "Epoch: 3\n",
            "TRAINING LOSS: 1.8231266\n",
            "VALIDATION LOSS: 1.8214048\n",
            "Epoch: 4\n",
            "TRAINING LOSS: 1.802599\n",
            "VALIDATION LOSS: 1.8040855\n",
            "Epoch: 5\n",
            "TRAINING LOSS: 1.7894384\n",
            "VALIDATION LOSS: 1.7944959\n",
            "Epoch: 6\n",
            "TRAINING LOSS: 1.7814828\n",
            "VALIDATION LOSS: 1.787634\n",
            "Epoch: 7\n",
            "TRAINING LOSS: 1.7750528\n",
            "VALIDATION LOSS: 1.7810379\n",
            "Epoch: 8\n",
            "TRAINING LOSS: 1.7689694\n",
            "VALIDATION LOSS: 1.7757157\n",
            "Epoch: 9\n",
            "TRAINING LOSS: 1.7648118\n",
            "VALIDATION LOSS: 1.7712919\n",
            "Epoch: 10\n",
            "TRAINING LOSS: 1.761018\n",
            "VALIDATION LOSS: 1.7721176\n",
            "Epoch: 11\n",
            "TRAINING LOSS: 1.7593387\n",
            "VALIDATION LOSS: 1.7653829\n",
            "Epoch: 12\n",
            "TRAINING LOSS: 1.7551664\n",
            "VALIDATION LOSS: 1.7618353\n",
            "Epoch: 13\n",
            "TRAINING LOSS: 1.7521391\n",
            "VALIDATION LOSS: 1.7578704\n",
            "Epoch: 14\n",
            "TRAINING LOSS: 1.7493405\n",
            "VALIDATION LOSS: 1.7561293\n",
            "Epoch: 15\n",
            "TRAINING LOSS: 1.7479695\n",
            "VALIDATION LOSS: 1.7531762\n",
            "Epoch: 16\n",
            "TRAINING LOSS: 1.7451411\n",
            "VALIDATION LOSS: 1.7509204\n",
            "Epoch: 17\n",
            "TRAINING LOSS: 1.7451584\n",
            "VALIDATION LOSS: 1.7512218\n",
            "Epoch: 18\n",
            "TRAINING LOSS: 1.7418562\n",
            "VALIDATION LOSS: 1.7484081\n",
            "Epoch: 19\n",
            "TRAINING LOSS: 1.7402014\n",
            "VALIDATION LOSS: 1.7471396\n",
            "Network Trained\n",
            "{'cl': [4, 8], 'll': [1152]}\n",
            "--- 107.7126317024231 seconds ---\n"
          ]
        }
      ],
      "source": [
        "#TIME CONSUMING CELL\n",
        "start_time = time.time()\n",
        "\n",
        "#Dictionary Parameters\n",
        "params_NN_1 = {\n",
        "    'cl_out1' : 4,\n",
        "    'cl_out2' : 8\n",
        "}\n",
        "\n",
        "#initialize NN\n",
        "NN_1 = CNN_1(params_NN_1)\n",
        "\n",
        "#move NN to device\n",
        "NN_1.to(device)\n",
        "\n",
        "# Define the optimizer\n",
        "optimizer = optim.Adam(NN_1.parameters())\n",
        "\n",
        "#train NN\n",
        "train_loss_1, val_loss_1 = new_training(NN_1, num_epochs=20,loss_function=nn.CrossEntropyLoss(),\n",
        "                                     optimizer=optimizer,verbose=True)\n",
        "\n",
        "#store loss values\n",
        "train_losses.append(train_loss_1)\n",
        "val_losses.append(val_loss_1)\n",
        "\n",
        "#store architecture\n",
        "architecture_1 = {\n",
        "    'cl' : [params_NN_1['cl_out1'],params_NN_1['cl_out2']],\n",
        "    'll' : [pooling_dim(2, params_NN_1['cl_out2'], 3,padding=0,stride=1)[0]]\n",
        "}\n",
        "\n",
        "archs.append(architecture_1)\n",
        "print(architecture_1)\n",
        "\n",
        "#store time value\n",
        "time_1 = (time.time() - start_time)\n",
        "times.append(time_1)\n",
        "print(\"--- %s seconds ---\" % time_1)\n",
        "\n",
        "#clear GPU memory\n",
        "torch.cuda.empty_cache()"
      ]
    },
    {
      "cell_type": "markdown",
      "metadata": {
        "id": "FTctTyYxTDcb"
      },
      "source": [
        "### 2.3.2) Arch 2"
      ]
    },
    {
      "cell_type": "code",
      "execution_count": null,
      "metadata": {
        "id": "FTnSAVjgTDcc"
      },
      "outputs": [],
      "source": [
        "class CNN_2(nn.Module):\n",
        "    \n",
        "    def __init__(self,params_dict):\n",
        "        super().__init__()\n",
        "        \n",
        "        ###Read parameters from dict\n",
        "        cl_out1 = params_dict[\"cl_out1\"]\n",
        "        cl_out2 = params_dict[\"cl_out2\"]\n",
        "        \n",
        "        ### Convolutional section\n",
        "        self.conv = nn.Sequential(\n",
        "            # First convolutional layer\n",
        "            nn.Conv2d(in_channels=1, out_channels=cl_out1, kernel_size=3,\n",
        "                                  stride=1, padding=0),nn.ReLU(True),\n",
        "            # Second convolutional layer\n",
        "            nn.Conv2d(in_channels=cl_out1, out_channels=cl_out2, kernel_size=3,\n",
        "                        stride=1, padding=0),nn.ReLU(True),          \n",
        "        )\n",
        "        \n",
        "        #MAX POOLING of stride 2\n",
        "        #update dimensions of linear layers\n",
        "        first_linear,second_linear = pooling_dim(2,cl_out2, 3,padding=0,stride=1);\n",
        "        \n",
        "        ###Linear Section\n",
        "        self.linear = nn.Sequential(\n",
        "            # First linear layer\n",
        "            nn.Linear(in_features=first_linear, out_features=second_linear),nn.ReLU(True),\n",
        "            # Second linear layer\n",
        "            nn.Linear(in_features=second_linear, out_features=n_classes),nn.ReLU(True)\n",
        "        )\n",
        "        \n",
        "    def forward(self, x):\n",
        "        x = self.conv(x) \n",
        "        x = F.max_pool2d(x, 2)\n",
        "        x = torch.flatten(x,1)\n",
        "        x = self.linear(x)\n",
        "        return x"
      ]
    },
    {
      "cell_type": "code",
      "execution_count": null,
      "metadata": {
        "colab": {
          "base_uri": "https://localhost:8080/"
        },
        "id": "zMGDEGL2TDcc",
        "outputId": "3d49ae75-2e4d-44e6-dd3b-9cba493dd7f3",
        "scrolled": true
      },
      "outputs": [
        {
          "output_type": "stream",
          "name": "stdout",
          "text": [
            "Epoch: 0\n",
            "TRAINING LOSS: 1.844459\n",
            "VALIDATION LOSS: 1.4440844\n",
            "Epoch: 1\n",
            "TRAINING LOSS: 1.3626938\n",
            "VALIDATION LOSS: 1.2985426\n",
            "Epoch: 2\n",
            "TRAINING LOSS: 1.2843633\n",
            "VALIDATION LOSS: 1.2479674\n",
            "Epoch: 3\n",
            "TRAINING LOSS: 1.247307\n",
            "VALIDATION LOSS: 1.2206018\n",
            "Epoch: 4\n",
            "TRAINING LOSS: 1.2220845\n",
            "VALIDATION LOSS: 1.2036028\n",
            "Epoch: 5\n",
            "TRAINING LOSS: 1.2064457\n",
            "VALIDATION LOSS: 1.1890984\n",
            "Epoch: 6\n",
            "TRAINING LOSS: 1.1967384\n",
            "VALIDATION LOSS: 1.1781526\n",
            "Epoch: 7\n",
            "TRAINING LOSS: 1.1838938\n",
            "VALIDATION LOSS: 1.1666553\n",
            "Epoch: 8\n",
            "TRAINING LOSS: 1.1735803\n",
            "VALIDATION LOSS: 1.1632792\n",
            "Epoch: 9\n",
            "TRAINING LOSS: 1.1669276\n",
            "VALIDATION LOSS: 1.154952\n",
            "Epoch: 10\n",
            "TRAINING LOSS: 1.1595315\n",
            "VALIDATION LOSS: 1.1546212\n",
            "Epoch: 11\n",
            "TRAINING LOSS: 1.1548449\n",
            "VALIDATION LOSS: 1.1508833\n",
            "Epoch: 12\n",
            "TRAINING LOSS: 1.1461092\n",
            "VALIDATION LOSS: 1.1434116\n",
            "Epoch: 13\n",
            "TRAINING LOSS: 1.1393427\n",
            "VALIDATION LOSS: 1.1326596\n",
            "Epoch: 14\n",
            "TRAINING LOSS: 1.132901\n",
            "VALIDATION LOSS: 1.1309606\n",
            "Epoch: 15\n",
            "TRAINING LOSS: 1.1308388\n",
            "VALIDATION LOSS: 1.1380091\n",
            "Epoch: 16\n",
            "TRAINING LOSS: 1.1279718\n",
            "VALIDATION LOSS: 1.1272033\n",
            "Epoch: 17\n",
            "TRAINING LOSS: 1.1202874\n",
            "VALIDATION LOSS: 1.1281406\n",
            "Epoch: 18\n",
            "TRAINING LOSS: 1.1181223\n",
            "VALIDATION LOSS: 1.120408\n",
            "Epoch: 19\n",
            "TRAINING LOSS: 1.1128119\n",
            "VALIDATION LOSS: 1.1170492\n",
            "Network Trained\n",
            "{'cl': [4, 8], 'll': [1152, 576]}\n",
            "--- 106.0846254825592 seconds ---\n"
          ]
        }
      ],
      "source": [
        "#TIME CONSUMING CELL\n",
        "start_time = time.time()\n",
        "\n",
        "#Dictionary Parameters\n",
        "params_NN_2 = {\n",
        "    'cl_out1' : 4,\n",
        "    'cl_out2' : 8\n",
        "}\n",
        "\n",
        "#initialize NN\n",
        "NN_2 = CNN_2(params_NN_2)\n",
        "\n",
        "#move NN to device\n",
        "NN_2.to(device)\n",
        "\n",
        "# Define the optimizer\n",
        "optimizer = optim.Adam(NN_2.parameters())\n",
        "\n",
        "#train NN\n",
        "train_loss_2, val_loss_2 = new_training(NN_2, num_epochs=20,loss_function=nn.CrossEntropyLoss(),\n",
        "                                     optimizer=optimizer,verbose=True)\n",
        "\n",
        "train_losses.append(train_loss_2)\n",
        "val_losses.append(val_loss_2)\n",
        "\n",
        "#store architecture\n",
        "architecture_2 = {\n",
        "    'cl' : [params_NN_2['cl_out1'],params_NN_2['cl_out2']],\n",
        "    'll' : pooling_dim(2, params_NN_2['cl_out2'], 3, padding=0,stride=1)\n",
        "}\n",
        "\n",
        "archs.append(architecture_2)\n",
        "print(architecture_2)\n",
        "\n",
        "#store time\n",
        "time_2 = (time.time() - start_time)\n",
        "times.append(time_2)\n",
        "print(\"--- %s seconds ---\" % time_2)\n",
        "\n",
        "#clear GPU memory\n",
        "torch.cuda.empty_cache()"
      ]
    },
    {
      "cell_type": "markdown",
      "metadata": {
        "id": "BWMTlIKZTDcd"
      },
      "source": [
        "### 2.3.3) Arch 3"
      ]
    },
    {
      "cell_type": "code",
      "execution_count": null,
      "metadata": {
        "id": "mSoohNwxTDcd"
      },
      "outputs": [],
      "source": [
        "class CNN_3(nn.Module):\n",
        "    \n",
        "    def __init__(self,params_dict):\n",
        "        super().__init__()\n",
        "        \n",
        "        ###Read parameters from dict\n",
        "        cl_out1 = params_dict[\"cl_out1\"]\n",
        "        cl_out2 = params_dict[\"cl_out2\"]\n",
        "        cl_out3 = params_dict[\"cl_out3\"]\n",
        "        \n",
        "        ### Convolutional section\n",
        "        self.conv = nn.Sequential(\n",
        "            # First convolutional layer\n",
        "            nn.Conv2d(in_channels=1, out_channels=cl_out1, kernel_size=3,\n",
        "                        stride=1, padding=0),nn.ReLU(True),\n",
        "            # Second convolutional layer\n",
        "            nn.Conv2d(in_channels=cl_out1, out_channels=cl_out2, kernel_size=3,\n",
        "                        stride=1, padding=0),nn.ReLU(True),  \n",
        "            # Third convolutional layer\n",
        "            nn.Conv2d(in_channels=cl_out2, out_channels=cl_out3, kernel_size=3,\n",
        "                        stride=1, padding=0),nn.ReLU(True),  \n",
        "        )\n",
        "   \n",
        "        #MAX POOLING of stride 2\n",
        "        #update dimensions of linear layers\n",
        "        first_linear,second_linear = pooling_dim(3,cl_out3, 3,padding=0,stride=1);\n",
        "        \n",
        "        ###Linear Section\n",
        "        self.linear = nn.Sequential(\n",
        "            # First linear layer\n",
        "            nn.Linear(in_features=first_linear, out_features=n_classes),nn.ReLU(True),\n",
        "        )\n",
        "        \n",
        "    def forward(self, x):\n",
        "        x = self.conv(x) \n",
        "        x = F.max_pool2d(x, 2)\n",
        "        x = torch.flatten(x,1)\n",
        "        x = self.linear(x)\n",
        "        return x"
      ]
    },
    {
      "cell_type": "code",
      "execution_count": null,
      "metadata": {
        "colab": {
          "base_uri": "https://localhost:8080/"
        },
        "id": "NHBu5U4KTDce",
        "outputId": "58f1c799-b61b-4f74-f146-91522b2337e1",
        "scrolled": true
      },
      "outputs": [
        {
          "output_type": "stream",
          "name": "stdout",
          "text": [
            "Epoch: 0\n",
            "TRAINING LOSS: 1.8090444\n",
            "VALIDATION LOSS: 1.4179375\n",
            "Epoch: 1\n",
            "TRAINING LOSS: 1.3404323\n",
            "VALIDATION LOSS: 1.3210921\n",
            "Epoch: 2\n",
            "TRAINING LOSS: 1.2909882\n",
            "VALIDATION LOSS: 1.2946233\n",
            "Epoch: 3\n",
            "TRAINING LOSS: 1.2705191\n",
            "VALIDATION LOSS: 1.2779291\n",
            "Epoch: 4\n",
            "TRAINING LOSS: 1.254918\n",
            "VALIDATION LOSS: 1.2638845\n",
            "Epoch: 5\n",
            "TRAINING LOSS: 1.2433413\n",
            "VALIDATION LOSS: 1.25906\n",
            "Epoch: 6\n",
            "TRAINING LOSS: 1.2374732\n",
            "VALIDATION LOSS: 1.2525946\n",
            "Epoch: 7\n",
            "TRAINING LOSS: 1.2313054\n",
            "VALIDATION LOSS: 1.2464777\n",
            "Epoch: 8\n",
            "TRAINING LOSS: 1.2300458\n",
            "VALIDATION LOSS: 1.2443204\n",
            "Epoch: 9\n",
            "TRAINING LOSS: 1.2278905\n",
            "VALIDATION LOSS: 1.2421768\n",
            "Epoch: 10\n",
            "TRAINING LOSS: 1.2227573\n",
            "VALIDATION LOSS: 1.2410542\n",
            "Epoch: 11\n",
            "TRAINING LOSS: 1.2202189\n",
            "VALIDATION LOSS: 1.2407606\n",
            "Epoch: 12\n",
            "TRAINING LOSS: 1.2180549\n",
            "VALIDATION LOSS: 1.2385113\n",
            "Epoch: 13\n",
            "TRAINING LOSS: 1.2145356\n",
            "VALIDATION LOSS: 1.234765\n",
            "Epoch: 14\n",
            "TRAINING LOSS: 1.2128801\n",
            "VALIDATION LOSS: 1.2359025\n",
            "Epoch: 15\n",
            "TRAINING LOSS: 1.2110442\n",
            "VALIDATION LOSS: 1.2344093\n",
            "Epoch: 16\n",
            "TRAINING LOSS: 1.2106967\n",
            "VALIDATION LOSS: 1.2321708\n",
            "Epoch: 17\n",
            "TRAINING LOSS: 1.2077405\n",
            "VALIDATION LOSS: 1.231282\n",
            "Epoch: 18\n",
            "TRAINING LOSS: 1.2072036\n",
            "VALIDATION LOSS: 1.2355472\n",
            "Epoch: 19\n",
            "TRAINING LOSS: 1.2079662\n",
            "VALIDATION LOSS: 1.2296485\n",
            "Network Trained\n",
            "{'cl': [4, 8, 16], 'll': 1936}\n",
            "--- 113.08811283111572 seconds ---\n"
          ]
        }
      ],
      "source": [
        "#TIME CONSUMING CELL\n",
        "start_time = time.time()\n",
        "\n",
        "#Dictionary Parameters\n",
        "params_NN_3 = {\n",
        "    'cl_out1' : 4,\n",
        "    'cl_out2' : 8,\n",
        "    'cl_out3' : 16\n",
        "}\n",
        "\n",
        "#initialize NN\n",
        "NN_3 = CNN_3(params_NN_3)\n",
        "\n",
        "#move NN to device\n",
        "NN_3.to(device)\n",
        "\n",
        "# Define the optimizer\n",
        "optimizer = optim.Adam(NN_3.parameters())\n",
        "\n",
        "#train NN\n",
        "train_loss_3, val_loss_3 = new_training(NN_3, num_epochs=20,loss_function=nn.CrossEntropyLoss(),\n",
        "                                     optimizer=optimizer,verbose=True)\n",
        "\n",
        "#store losses\n",
        "train_losses.append(train_loss_3)\n",
        "val_losses.append(val_loss_3)\n",
        "\n",
        "#store architecture\n",
        "architecture_3 = {\n",
        "    'cl' : [params_NN_3['cl_out1'],params_NN_3['cl_out2'],params_NN_3['cl_out3']],\n",
        "    'll' : pooling_dim(3, params_NN_3['cl_out3'], 3, padding=0,stride=1)[0]\n",
        "}\n",
        "archs.append(architecture_3)\n",
        "print(architecture_3)\n",
        "\n",
        "#store time\n",
        "time_3 = time.time() - start_time\n",
        "times.append(time_3)\n",
        "print(\"--- %s seconds ---\" % time_3)\n",
        "\n",
        "#clear GPU memory\n",
        "torch.cuda.empty_cache()"
      ]
    },
    {
      "cell_type": "markdown",
      "metadata": {
        "id": "OX6C9TtnTDce"
      },
      "source": [
        "### 2.3.4) Arch 4\n"
      ]
    },
    {
      "cell_type": "code",
      "execution_count": null,
      "metadata": {
        "id": "o3OupGwVTDce"
      },
      "outputs": [],
      "source": [
        "class CNN_4(nn.Module):\n",
        "    \n",
        "    def __init__(self,params_dict):\n",
        "        super().__init__()\n",
        "        \n",
        "        ###Read parameters from dict\n",
        "        cl_out1 = params_dict[\"cl_out1\"]\n",
        "        cl_out2 = params_dict[\"cl_out2\"]\n",
        "        cl_out3 = params_dict[\"cl_out3\"]\n",
        "    \n",
        "        ### Convolutional section\n",
        "        self.conv = nn.Sequential(\n",
        "            # First convolutional layer\n",
        "            nn.Conv2d(in_channels=1, out_channels=cl_out1, kernel_size=3,\n",
        "                                  stride=1, padding=0),nn.ReLU(True),\n",
        "            # Second convolutional layer\n",
        "            nn.Conv2d(in_channels=cl_out1, out_channels=cl_out2, kernel_size=3,\n",
        "                        stride=1, padding=0),nn.ReLU(True),  \n",
        "            # Third convolutional layer\n",
        "            nn.Conv2d(in_channels=cl_out2, out_channels=cl_out3, kernel_size=3,\n",
        "                        stride=1, padding=0),nn.ReLU(True),  \n",
        "        )\n",
        "   \n",
        "        ###Dropout\n",
        "        #self.dropout1 = nn.Dropout(dropout)\n",
        "        \n",
        "        #MAX POOLING of stride 2\n",
        "        #update dimensions of linear layers\n",
        "        first_linear,second_linear = pooling_dim(3, cl_out3, 3,padding=0,stride=1);\n",
        "        \n",
        "        ###Linear Section\n",
        "        self.linear = nn.Sequential(\n",
        "            # First linear layer\n",
        "            nn.Linear(in_features=first_linear, out_features=second_linear),nn.ReLU(True),\n",
        "            # Second linear layer\n",
        "            nn.Linear(in_features=second_linear, out_features=n_classes),nn.ReLU(True)\n",
        "        )\n",
        "        \n",
        "        \n",
        "    def forward(self, x):\n",
        "        x = self.conv(x) \n",
        "        x = F.max_pool2d(x, 2)\n",
        "        x = torch.flatten(x,1)\n",
        "        x = self.linear(x)\n",
        "        return x"
      ]
    },
    {
      "cell_type": "code",
      "execution_count": null,
      "metadata": {
        "colab": {
          "base_uri": "https://localhost:8080/"
        },
        "id": "Py3Fz7m6TDce",
        "outputId": "b0af2702-c30a-47d4-ab9d-c5219685ce59",
        "scrolled": true
      },
      "outputs": [
        {
          "output_type": "stream",
          "name": "stdout",
          "text": [
            "Epoch: 0\n",
            "TRAINING LOSS: 1.500063\n",
            "VALIDATION LOSS: 1.106821\n",
            "Epoch: 1\n",
            "TRAINING LOSS: 1.0446409\n",
            "VALIDATION LOSS: 1.0254049\n",
            "Epoch: 2\n",
            "TRAINING LOSS: 0.99269485\n",
            "VALIDATION LOSS: 0.994783\n",
            "Epoch: 3\n",
            "TRAINING LOSS: 0.953626\n",
            "VALIDATION LOSS: 0.9533133\n",
            "Epoch: 4\n",
            "TRAINING LOSS: 0.91720575\n",
            "VALIDATION LOSS: 0.92370397\n",
            "Epoch: 5\n",
            "TRAINING LOSS: 0.89906377\n",
            "VALIDATION LOSS: 0.9133739\n",
            "Epoch: 6\n",
            "TRAINING LOSS: 0.883504\n",
            "VALIDATION LOSS: 0.90865654\n",
            "Epoch: 7\n",
            "TRAINING LOSS: 0.8773484\n",
            "VALIDATION LOSS: 0.89416146\n",
            "Epoch: 8\n",
            "TRAINING LOSS: 0.8640889\n",
            "VALIDATION LOSS: 0.8962904\n",
            "Epoch: 9\n",
            "TRAINING LOSS: 0.85576534\n",
            "VALIDATION LOSS: 0.88718235\n",
            "Epoch: 10\n",
            "TRAINING LOSS: 0.8563497\n",
            "VALIDATION LOSS: 0.88306534\n",
            "Epoch: 11\n",
            "TRAINING LOSS: 0.84619194\n",
            "VALIDATION LOSS: 0.8764129\n",
            "Epoch: 12\n",
            "TRAINING LOSS: 0.84329724\n",
            "VALIDATION LOSS: 0.8692871\n",
            "Epoch: 13\n",
            "TRAINING LOSS: 0.83493906\n",
            "VALIDATION LOSS: 0.8746872\n",
            "Epoch: 14\n",
            "TRAINING LOSS: 0.82857007\n",
            "VALIDATION LOSS: 0.86580896\n",
            "Epoch: 15\n",
            "TRAINING LOSS: 0.82356626\n",
            "VALIDATION LOSS: 0.8747989\n",
            "Epoch: 16\n",
            "TRAINING LOSS: 0.8209468\n",
            "VALIDATION LOSS: 0.85919523\n",
            "Epoch: 17\n",
            "TRAINING LOSS: 0.8154975\n",
            "VALIDATION LOSS: 0.8600227\n",
            "Epoch: 18\n",
            "TRAINING LOSS: 0.81074077\n",
            "VALIDATION LOSS: 0.8543798\n",
            "Epoch: 19\n",
            "TRAINING LOSS: 0.80659443\n",
            "VALIDATION LOSS: 0.8558278\n",
            "Network Trained\n",
            "--- 116.51524829864502 seconds ---\n"
          ]
        }
      ],
      "source": [
        "#TIME CONSUMING CELL\n",
        "start_time = time.time()\n",
        "\n",
        "#Dictionary Parameters\n",
        "params_NN_4 = {\n",
        "    'cl_out1' : 4,\n",
        "    'cl_out2' : 8,\n",
        "    'cl_out3' : 16\n",
        "}\n",
        "\n",
        "#initialize NN\n",
        "NN_4 = CNN_4(params_NN_4)\n",
        "\n",
        "#move NN to device\n",
        "NN_4.to(device)\n",
        "\n",
        "# Define the optimizer\n",
        "optimizer = optim.Adam(NN_4.parameters())\n",
        "\n",
        "#train NN\n",
        "train_loss_4, val_loss_4 = new_training(NN_4, num_epochs=20,loss_function=nn.CrossEntropyLoss(),\n",
        "                                     optimizer=optimizer,verbose=True)\n",
        "#store losses\n",
        "train_losses.append(train_loss_4)\n",
        "val_losses.append(val_loss_4)\n",
        "\n",
        "#architecture\n",
        "architecture_4 = {\n",
        "    'cl' : [params_NN_4['cl_out1'],params_NN_4['cl_out2'],params_NN_4['cl_out3']],\n",
        "    'll' : pooling_dim(3, params_NN_4['cl_out3'], 3, padding=0,stride=1)\n",
        "}\n",
        "archs.append(architecture_4)\n",
        "\n",
        "#store time\n",
        "time_4 = time.time() - start_time\n",
        "times.append(time_4)\n",
        "print(\"--- %s seconds ---\" % time_4)\n",
        "\n",
        "#clear GPU memory\n",
        "torch.cuda.empty_cache()"
      ]
    },
    {
      "cell_type": "markdown",
      "metadata": {
        "id": "HDRlXMiDTDcf"
      },
      "source": [
        "### 2.3.5) Comparison plot\n",
        "\n",
        "As expected, the following comparison is not sufficiently informative. There is no way to understand a priori which architecture would better fit my Classification task. The learning process is depending on a whole series of different parameters and the number of convolutional/linear layers looks to be not relevant at this level of my study.\n",
        "\n",
        "As a dummy, I wanted to verify if the number of convolutional/linear layers would present any lower or upper bound beyond which the CNN would not work properly. Of course if one decides to perform such a study, a wider range of different architectures should be explored in order to be able to hopefully retrieve some significant results.\n",
        "Also, a qualitative comparison of the learning curves is not the most informative method to compare the effectiveness of the architectures.\n",
        "\n",
        "In my case, a part from some expected differences in the stability of the curves, their behaviours are substantially equal. The number of epochs is not high enough for any of the architecture to reach a satisfying loss result, nonetheless the last architecture happens to be the fastest in gaining a loss value smaller than 1.\n",
        "\n",
        "I am gonna keep this architecture for the rest of the notebook and properly tune its hyperparameters.\n",
        "\n",
        "\n"
      ]
    },
    {
      "cell_type": "code",
      "execution_count": null,
      "metadata": {
        "colab": {
          "base_uri": "https://localhost:8080/",
          "height": 840
        },
        "id": "doCDe8QPTDcf",
        "outputId": "1e3a7f4e-ff68-42d3-e6c3-a1476cc251a6"
      },
      "outputs": [
        {
          "output_type": "display_data",
          "data": {
            "text/plain": [
              "<Figure size 1440x1440 with 4 Axes>"
            ],
            "image/png": "[encoded data removed]"
          },
          "metadata": {
            "needs_background": "light"
          }
        }
      ],
      "source": [
        "fig, ax = plt.subplots(2,2, figsize=(20,20))\n",
        "for i in range(2):\n",
        "    for j in range(2):\n",
        "        \n",
        "        #select data from storage lists\n",
        "        arch = archs[2*i+j]\n",
        "        val = val_losses[2*i+j]\n",
        "        train = train_losses[2*i+j]\n",
        "        t = times[2*i+j]\n",
        "        epochs = np.arange(0,20)\n",
        "    \n",
        "        ax[i,j].plot(epochs,val,label=\"Validation Loss\")\n",
        "        ax[i,j].plot(epochs,train, label=\"Train Loss\")\n",
        "        ax[i,j].set_title(f\"CNN: {arch},runtime={int(t)} sec.\",fontsize=20)\n",
        "        ax[i,j].set_xlabel('Epochs',fontsize=20)\n",
        "        ax[i,j].set_ylabel('Loss',fontsize=20)\n",
        "        ax[i,j].legend(fontsize=20)\n",
        "        ax[i,j].grid()\n",
        "\n",
        "    \n",
        "plt.suptitle(\"Comparison of Learning Curves for different Architectures\",fontsize=35,x=0.5,y=0.95)\n",
        "plt.show()"
      ]
    },
    {
      "cell_type": "markdown",
      "metadata": {
        "id": "j4tdgUXSTDcg"
      },
      "source": [
        "## 2.5) Optimization of Hyper parameters\n",
        "\n"
      ]
    },
    {
      "cell_type": "markdown",
      "source": [
        "### 2.5.1) Convolutional Neural Network\n",
        "\n",
        "In the following cell I define the CNN class that I will use in the whole notebook.\n",
        "\n",
        "I decided to keep three convolutional layers with variable number of channels followed by two linear layers. Between the convolutional and linear section of the network, I am performing a 2x2 Max Pooling: this helps me reducing the overall number of trainable parameters in the CNN.\n",
        "\n",
        "In the following, the number of neurons in the second linear layer is left variable and not fixed to the half of the number of neurons in the first linear layer, as it was before.\n",
        "\n",
        "The CNN class takes as input the $\\texttt{params_dict}$ dictionary, from which all the necessary parameters to build the architecture are read."
      ],
      "metadata": {
        "id": "jVFWUpRsWE9i"
      }
    },
    {
      "cell_type": "code",
      "execution_count": 22,
      "metadata": {
        "id": "DF-eQmXkTDcg"
      },
      "outputs": [],
      "source": [
        "class CNN(nn.Module):\n",
        "    \n",
        "    def __init__(self,params_dict):\n",
        "        super().__init__()\n",
        "        \n",
        "        ###Read parameters from dict\n",
        "        cl_out1 = params_dict[\"cl_out1\"]\n",
        "        cl_out2 = params_dict[\"cl_out2\"]\n",
        "        cl_out3 = params_dict[\"cl_out3\"]\n",
        "        second_linear = params_dict[\"second_linear\"]\n",
        "        kernel = params_dict[\"kernel_size\"]\n",
        "        \n",
        "        ### Convolutional section\n",
        "        self.conv = nn.Sequential(\n",
        "            # First convolutional layer\n",
        "            nn.Conv2d(in_channels=1, out_channels=cl_out1, kernel_size=kernel,\n",
        "                                  stride=1, padding=0),nn.ReLU(True),\n",
        "            # Second convolutional layer\n",
        "            nn.Conv2d(in_channels=cl_out1, out_channels=cl_out2, kernel_size=kernel,\n",
        "                        stride=1, padding=0),nn.ReLU(True),\n",
        "            # Third convolutional layer\n",
        "            nn.Conv2d(in_channels=cl_out2, out_channels=cl_out3, kernel_size=kernel,\n",
        "                        stride=1, padding=0),nn.ReLU(True)         \n",
        "        )\n",
        "        \n",
        "        #MAX POOLING of stride 2\n",
        "        #update dimensions of linear layers\n",
        "        first_linear = pooling_dim(3,cl_out3, kernel,padding=0,stride=1)[0];\n",
        "        \n",
        "        ###Linear Section\n",
        "        self.linear = nn.Sequential(\n",
        "            # First linear layer\n",
        "            nn.Linear(in_features=first_linear, out_features=second_linear),nn.ReLU(True),\n",
        "            # Second linear layer\n",
        "            nn.Linear(in_features=second_linear, out_features=n_classes),nn.ReLU(True)\n",
        "        )\n",
        "        \n",
        "    def forward(self, x):\n",
        "        x = self.conv(x) \n",
        "        x = F.max_pool2d(x, 2)\n",
        "        x = torch.flatten(x,1)\n",
        "        x = self.linear(x)\n",
        "        return x"
      ]
    },
    {
      "cell_type": "markdown",
      "source": [
        "### 2.5.2) Optuna Objective function \n",
        "\n",
        "Optuna requires the definition of an $\\texttt{objective}$ function to perform the hyperparameter optimization.\n",
        "The $\\texttt{objective}$ function behaviour can be described by the following steps:\n",
        "\n",
        "* 1) The function firstly chooses the parameters according to the random search requirements. The fixed parameters are stored into a dedicated dictionary.\n",
        "\n",
        "* 2) The model is then initialized with the selected parameters and the Training and Validation sections begin, exactely as they are performed in the previously defined $\\texttt{new_training}$ function.\n",
        "\n",
        "* 3) The only difference with respect to the $\\texttt{new_training}$ function is that, in the Validation section, the predicted labels are computed and compared with the actual labels of each batch. \n",
        "\n",
        "* 4) An accuracy value is stored, defined as the ratio of the number of correct predictions with respect to the total number of data analyzed. This value will be used by Optuna as a reference for the performances of each trial.\n",
        "\n",
        "* 5) The $\\texttt{trial.report}$ method allows to keep track of the accuracy value with respect to the epoch number. In this way, Optuna will decide wheter to prune or not each trial.\n",
        "\n",
        "* 6) The pruning of a trial is a form of early stopping. Optuna compares the values of the accuracies of each trial with respect to each epoch, therefore it can recognize if the learning process corresponding to a certain set of parameters is not promising and it can decide to end it.\n",
        "\n",
        "\n",
        "The values of the parameters are set by a random search using the $\\texttt{trial.suggest_}$ functions, according to the ranges and options set by the user in the following way:\n",
        "\n",
        "| Parameter | Search type | Range/Options |\n",
        "| --- | --- | --- |\n",
        "| Channels_conv1 | int | [4,30] |\n",
        "| Channels_conv2 | int | [ch_conv1,30] |\n",
        "| Channels_conv3 | int | [ch_conv2,30] | \n",
        "| Neurons_second_linear | int | [10,60] |\n",
        "| Kernel size | categorical | (3,5) |\n",
        "| Loss Function | / | nn.CrossEntropyLoss |\n",
        "| Optimizer | categorical | (Adam,SGD) |\n",
        "| Learning Rate | loguniform | [$10^{-5},10^{-1}$] |\n",
        "| Weight Decay | loguniform | [$10^{-5},10^{-1}$] |\n",
        "| Epochs | / | 30 |\n",
        "\n",
        "In the range definition for the number of channels for the second and third convolutional layers, I imposed the restriction to have an increasing number of channels with the increasing depth of the CNN, therefore each selection range is limited by the number of channels selected in the previous layer.\n",
        "\n",
        "In the above table the Search Type column refers to the way in which Optuna looks for the trial parameters. For an \"int\" search, the program looks for an integer in the defined range, while for the \"categorical\" search the options are limited to the choice of one single element of one list. The \"loguniform\" search is instead referring to a random sample of a float number from a loguniform distribution defined over a specific range."
      ],
      "metadata": {
        "id": "MqHEpQITXpxc"
      }
    },
    {
      "cell_type": "code",
      "execution_count": 9,
      "metadata": {
        "id": "NmBdXap1TDcg"
      },
      "outputs": [],
      "source": [
        "#optuna objective function definition\n",
        "def objective(trial):\n",
        "\n",
        "    #random search of hyperparameters\n",
        "    cl_out1 = trial.suggest_int('cl_out1', 4, 30)\n",
        "    cl_out2 = trial.suggest_int('cl_out2', cl_out1, 30)\n",
        "    cl_out3 = trial.suggest_int('cl_out3', cl_out2, 30)\n",
        "    second_linear = trial.suggest_int('second_linear',10,60)\n",
        "    param_dict ={\n",
        "          'cl_out1' : cl_out1,\n",
        "          'cl_out2' : cl_out2,\n",
        "          'cl_out3' : cl_out3,\n",
        "          'second_linear' : second_linear,\n",
        "          'kernel_size' : trial.suggest_int('kernel_size', 3, 5, 2),\n",
        "          'loss': nn.CrossEntropyLoss(),\n",
        "          'optimizer': trial.suggest_categorical('optimizer', ['Adam', 'SGD']),\n",
        "          'learning_rate': trial.suggest_loguniform('lr', 1e-5, 1e-1),\n",
        "          'weight_decay': trial.suggest_loguniform('weight_decay',1e-5, 1e-1),\n",
        "          'num_epochs': 30\n",
        "      }    \n",
        "\n",
        "    #define the model\n",
        "    model = CNN(param_dict).to(device)\n",
        "    \n",
        "    #store training parameters\n",
        "    epochs = param_dict['num_epochs']\n",
        "    loss_fn = param_dict['loss']\n",
        "    optimizer_name = param_dict['optimizer']\n",
        "    lr = param_dict['learning_rate']\n",
        "    weight_decay = param_dict['weight_decay']\n",
        "    optimizer = getattr(optim, optimizer_name)(model.parameters(),lr=lr, weight_decay=weight_decay)\n",
        "    \n",
        "    acc_log=[]\n",
        "    \n",
        "    print(\"Params\",param_dict)\n",
        "        \n",
        "    for epoch in range(epochs):\n",
        "        \n",
        "        train_loss= []\n",
        "        \n",
        "        # Training mode \n",
        "        model.train()\n",
        "        for sample_batched in train_dataloader:\n",
        "            #move data to device\n",
        "            x_batch = sample_batched[0].to(device)\n",
        "            label_batch = sample_batched[1].to(device)\n",
        "            \n",
        "            #compute output\n",
        "            out = model(x_batch)\n",
        "            \n",
        "            #compute loss\n",
        "            loss = loss_fn(out, label_batch)\n",
        "            \n",
        "            model.zero_grad()\n",
        "            \n",
        "            #backpropagation\n",
        "            loss.backward() \n",
        "            optimizer.step()\n",
        "            \n",
        "            #store losss values\n",
        "            loss_batch = loss.detach().cpu().numpy()\n",
        "            train_loss.append(loss_batch)\n",
        "      \n",
        "        preds_correct = 0\n",
        "        len_preds_correct = 0\n",
        "        \n",
        "        #Validation\n",
        "        model.eval() \n",
        "        with torch.no_grad(): \n",
        "            \n",
        "            val_loss = []\n",
        "            for sample_batched in val_dataloader:\n",
        "                \n",
        "                #move data to device\n",
        "                x_batch = sample_batched[0].to(device)\n",
        "                label_batch = sample_batched[1].to(device)\n",
        "                \n",
        "                #compute output\n",
        "                out = model(x_batch)\n",
        "                \n",
        "                #compute loss function\n",
        "                loss = loss_fn(out, label_batch)\n",
        "                \n",
        "                #store loss values\n",
        "                loss_batch = loss.detach().cpu().numpy()\n",
        "                val_loss.append(loss_batch)\n",
        "                \n",
        "                #select NN predicted labels\n",
        "                predicted_labels = torch.max(out,1)[1]\n",
        "                \n",
        "                #count how many predicted_labels are correct\n",
        "                preds_correct += torch.sum(predicted_labels==label_batch.data)\n",
        "                \n",
        "                #keep track of how many labels are being analized\n",
        "                len_preds_correct += len(label_batch)\n",
        "\n",
        "            #compute accuracy ratio    \n",
        "            accuracy = preds_correct.detach().cpu().numpy()/len_preds_correct\n",
        "            print(\"Epoch:\",epoch,\",acc:\",accuracy)\n",
        "            \n",
        "            #The reported values are used by the pruners to determine whether this trial should be pruned.\n",
        "            trial.report(accuracy, epoch)\n",
        "            \n",
        "            # Handle pruning based on the intermediate value.\n",
        "            if trial.should_prune():\n",
        "                raise optuna.exceptions.TrialPruned()\n",
        "        \n",
        "    return accuracy"
      ]
    },
    {
      "cell_type": "markdown",
      "source": [
        "In order to properly run Optuna, a $\\texttt{study}$ object has to be created.\n",
        "\n",
        "The optuna method $\\texttt{optuna.optimize}$ allows us to train the CNN $\\texttt{n_trials}$ times with different combinations of parameters randomly searched according to the ranges and options given in the parameters dictionary inside the $\\texttt{objective}$ function.\n",
        "\n",
        "I decided to try with 15 different combinations of parameters and I saved the study results in an SQL database, in order to be able not to run the optimization cell multiple times."
      ],
      "metadata": {
        "id": "Ry0vXf8SfCVw"
      }
    },
    {
      "cell_type": "code",
      "execution_count": null,
      "metadata": {
        "colab": {
          "base_uri": "https://localhost:8080/",
          "height": 1000,
          "referenced_widgets": [
            "4e8a67ad507741fa9aaf6cd98482d853",
            "1a5e917e5040476ea2ce85d910b97373",
            "9600caf709464e08baac2aaaf08a9ebe",
            "c057cc677acb44a2bc84f518d8f46906",
            "c7e7b21cf3c646a59c0e1720396fe34e",
            "0e5a1793c0644484b5a311db975837b8",
            "33c80bc035564ee4b850fb213692093b",
            "1b2f955de2754a6bb0ec3de85fed812f",
            "62d1be8de23442178f1443d41808e34e",
            "9b79041f39b2423a9396e9e2c763853d",
            "99da7332a9b14cc6b024dfdb1f705d99"
          ]
        },
        "id": "Bkw3PkunTDch",
        "outputId": "7e2db1dd-6bcd-4763-f102-46c32e4b2608",
        "scrolled": true
      },
      "outputs": [
        {
          "name": "stderr",
          "output_type": "stream",
          "text": [
            "\u001b[32m[I 2022-08-13 13:21:19,146]\u001b[0m A new study created in memory with name: Hyperparameter_optimization\u001b[0m\n",
            "/usr/local/lib/python3.7/dist-packages/optuna/progress_bar.py:47: ExperimentalWarning: Progress bar is experimental (supported from v1.2.0). The interface can change in the future.\n",
            "  self._init_valid()\n"
          ]
        },
        {
          "data": {
            "application/vnd.jupyter.widget-view+json": {
              "model_id": "4e8a67ad507741fa9aaf6cd98482d853",
              "version_major": 2,
              "version_minor": 0
            },
            "text/plain": [
              "  0%|          | 0/15 [00:00<?, ?it/s]"
            ]
          },
          "metadata": {},
          "output_type": "display_data"
        },
        {
          "name": "stdout",
          "output_type": "stream",
          "text": [
            "Params {'cl_out1': 16, 'cl_out2': 19, 'cl_out3': 20, 'second_linear': 36, 'kernel_size': 5, 'loss': CrossEntropyLoss(), 'optimizer': 'Adam', 'learning_rate': 0.004584258255274391, 'weight_decay': 0.08829478656619529, 'num_epochs': 30}\n"
          ]
        },
        {
          "name": "stderr",
          "output_type": "stream",
          "text": [
            "/usr/local/lib/python3.7/dist-packages/torch/utils/data/dataloader.py:566: UserWarning: This DataLoader will create 4 worker processes in total. Our suggested max number of worker in current system is 2, which is smaller than what this DataLoader is going to create. Please be aware that excessive worker creation might get DataLoader running slow or even freeze, lower the worker number to avoid potential slowness/freeze if necessary.\n",
            "  cpuset_checked))\n"
          ]
        },
        {
          "name": "stdout",
          "output_type": "stream",
          "text": [
            "Epoch: 0 ,acc: 0.5392\n",
            "Epoch: 1 ,acc: 0.6265333333333334\n",
            "Epoch: 2 ,acc: 0.6700666666666667\n",
            "Epoch: 3 ,acc: 0.7320666666666666\n",
            "Epoch: 4 ,acc: 0.7404\n",
            "Epoch: 5 ,acc: 0.7345333333333334\n",
            "Epoch: 6 ,acc: 0.7453333333333333\n",
            "Epoch: 7 ,acc: 0.7558666666666667\n",
            "Epoch: 8 ,acc: 0.7550666666666667\n",
            "Epoch: 9 ,acc: 0.7562\n",
            "Epoch: 10 ,acc: 0.7526\n",
            "Epoch: 11 ,acc: 0.7445333333333334\n",
            "Epoch: 12 ,acc: 0.7524666666666666\n",
            "Epoch: 13 ,acc: 0.7607333333333334\n",
            "Epoch: 14 ,acc: 0.7723333333333333\n",
            "Epoch: 15 ,acc: 0.7660666666666667\n",
            "Epoch: 16 ,acc: 0.7602666666666666\n",
            "Epoch: 17 ,acc: 0.7519333333333333\n",
            "Epoch: 18 ,acc: 0.7464666666666666\n",
            "Epoch: 19 ,acc: 0.7412\n",
            "Epoch: 20 ,acc: 0.7588\n",
            "Epoch: 21 ,acc: 0.7584\n",
            "Epoch: 22 ,acc: 0.7579333333333333\n",
            "Epoch: 23 ,acc: 0.7374\n",
            "Epoch: 24 ,acc: 0.7412666666666666\n",
            "Epoch: 25 ,acc: 0.7645333333333333\n",
            "Epoch: 26 ,acc: 0.7469333333333333\n",
            "Epoch: 27 ,acc: 0.7642\n",
            "Epoch: 28 ,acc: 0.7663333333333333\n",
            "Epoch: 29 ,acc: 0.7469333333333333\n",
            "\u001b[32m[I 2022-08-13 13:24:20,064]\u001b[0m Trial 0 finished with value: 0.7469333333333333 and parameters: {'cl_out1': 16, 'cl_out2': 19, 'cl_out3': 20, 'second_linear': 36, 'kernel_size': 5, 'optimizer': 'Adam', 'lr': 0.004584258255274391, 'weight_decay': 0.08829478656619529}. Best is trial 0 with value: 0.7469333333333333.\u001b[0m\n",
            "Params {'cl_out1': 7, 'cl_out2': 17, 'cl_out3': 22, 'second_linear': 12, 'kernel_size': 3, 'loss': CrossEntropyLoss(), 'optimizer': 'SGD', 'learning_rate': 0.004000997256529309, 'weight_decay': 0.0338347209943456, 'num_epochs': 30}\n"
          ]
        },
        {
          "name": "stderr",
          "output_type": "stream",
          "text": [
            "/usr/local/lib/python3.7/dist-packages/torch/utils/data/dataloader.py:566: UserWarning: This DataLoader will create 4 worker processes in total. Our suggested max number of worker in current system is 2, which is smaller than what this DataLoader is going to create. Please be aware that excessive worker creation might get DataLoader running slow or even freeze, lower the worker number to avoid potential slowness/freeze if necessary.\n",
            "  cpuset_checked))\n"
          ]
        },
        {
          "name": "stdout",
          "output_type": "stream",
          "text": [
            "Epoch: 0 ,acc: 0.09973333333333333\n",
            "Epoch: 1 ,acc: 0.09973333333333333\n",
            "Epoch: 2 ,acc: 0.09973333333333333\n",
            "Epoch: 3 ,acc: 0.09973333333333333\n",
            "Epoch: 4 ,acc: 0.09973333333333333\n",
            "Epoch: 5 ,acc: 0.09973333333333333\n",
            "Epoch: 6 ,acc: 0.09973333333333333\n",
            "Epoch: 7 ,acc: 0.09973333333333333\n",
            "Epoch: 8 ,acc: 0.09973333333333333\n",
            "Epoch: 9 ,acc: 0.09973333333333333\n",
            "Epoch: 10 ,acc: 0.09973333333333333\n",
            "Epoch: 11 ,acc: 0.09986666666666667\n",
            "Epoch: 12 ,acc: 0.10053333333333334\n",
            "Epoch: 13 ,acc: 0.1138\n",
            "Epoch: 14 ,acc: 0.1554\n",
            "Epoch: 15 ,acc: 0.19226666666666667\n",
            "Epoch: 16 ,acc: 0.2212\n",
            "Epoch: 17 ,acc: 0.24346666666666666\n",
            "Epoch: 18 ,acc: 0.2581333333333333\n",
            "Epoch: 19 ,acc: 0.26813333333333333\n",
            "Epoch: 20 ,acc: 0.2754\n",
            "Epoch: 21 ,acc: 0.2793333333333333\n",
            "Epoch: 22 ,acc: 0.314\n",
            "Epoch: 23 ,acc: 0.3434\n",
            "Epoch: 24 ,acc: 0.3588\n",
            "Epoch: 25 ,acc: 0.36173333333333335\n",
            "Epoch: 26 ,acc: 0.3612666666666667\n",
            "Epoch: 27 ,acc: 0.36133333333333334\n",
            "Epoch: 28 ,acc: 0.35773333333333335\n",
            "Epoch: 29 ,acc: 0.4072\n",
            "\u001b[32m[I 2022-08-13 13:27:10,427]\u001b[0m Trial 1 finished with value: 0.4072 and parameters: {'cl_out1': 7, 'cl_out2': 17, 'cl_out3': 22, 'second_linear': 12, 'kernel_size': 3, 'optimizer': 'SGD', 'lr': 0.004000997256529309, 'weight_decay': 0.0338347209943456}. Best is trial 0 with value: 0.7469333333333333.\u001b[0m\n",
            "Params {'cl_out1': 26, 'cl_out2': 28, 'cl_out3': 28, 'second_linear': 40, 'kernel_size': 5, 'loss': CrossEntropyLoss(), 'optimizer': 'Adam', 'learning_rate': 0.001299852048654386, 'weight_decay': 1.5579535475754423e-05, 'num_epochs': 30}\n"
          ]
        },
        {
          "name": "stderr",
          "output_type": "stream",
          "text": [
            "/usr/local/lib/python3.7/dist-packages/torch/utils/data/dataloader.py:566: UserWarning: This DataLoader will create 4 worker processes in total. Our suggested max number of worker in current system is 2, which is smaller than what this DataLoader is going to create. Please be aware that excessive worker creation might get DataLoader running slow or even freeze, lower the worker number to avoid potential slowness/freeze if necessary.\n",
            "  cpuset_checked))\n"
          ]
        },
        {
          "name": "stdout",
          "output_type": "stream",
          "text": [
            "Epoch: 0 ,acc: 0.7160666666666666\n",
            "Epoch: 1 ,acc: 0.7578666666666667\n",
            "Epoch: 2 ,acc: 0.7947333333333333\n",
            "Epoch: 3 ,acc: 0.8162666666666667\n",
            "Epoch: 4 ,acc: 0.8231333333333334\n",
            "Epoch: 5 ,acc: 0.8356\n",
            "Epoch: 6 ,acc: 0.8446666666666667\n",
            "Epoch: 7 ,acc: 0.8488666666666667\n",
            "Epoch: 8 ,acc: 0.8595333333333334\n",
            "Epoch: 9 ,acc: 0.8564666666666667\n",
            "Epoch: 10 ,acc: 0.8595333333333334\n",
            "Epoch: 11 ,acc: 0.8710666666666667\n",
            "Epoch: 12 ,acc: 0.8633333333333333\n",
            "Epoch: 13 ,acc: 0.8741333333333333\n",
            "Epoch: 14 ,acc: 0.8702\n",
            "Epoch: 15 ,acc: 0.8732\n",
            "Epoch: 16 ,acc: 0.8788666666666667\n",
            "Epoch: 17 ,acc: 0.8791333333333333\n",
            "Epoch: 18 ,acc: 0.8814666666666666\n",
            "Epoch: 19 ,acc: 0.8806\n",
            "Epoch: 20 ,acc: 0.8828\n",
            "Epoch: 21 ,acc: 0.8809333333333333\n",
            "Epoch: 22 ,acc: 0.8850666666666667\n",
            "Epoch: 23 ,acc: 0.8883333333333333\n",
            "Epoch: 24 ,acc: 0.8866\n",
            "Epoch: 25 ,acc: 0.8859333333333334\n",
            "Epoch: 26 ,acc: 0.889\n",
            "Epoch: 27 ,acc: 0.8932666666666667\n",
            "Epoch: 28 ,acc: 0.8923333333333333\n",
            "Epoch: 29 ,acc: 0.8953333333333333\n",
            "\u001b[32m[I 2022-08-13 13:30:04,915]\u001b[0m Trial 2 finished with value: 0.8953333333333333 and parameters: {'cl_out1': 26, 'cl_out2': 28, 'cl_out3': 28, 'second_linear': 40, 'kernel_size': 5, 'optimizer': 'Adam', 'lr': 0.001299852048654386, 'weight_decay': 1.5579535475754423e-05}. Best is trial 2 with value: 0.8953333333333333.\u001b[0m\n",
            "Params {'cl_out1': 8, 'cl_out2': 25, 'cl_out3': 30, 'second_linear': 16, 'kernel_size': 3, 'loss': CrossEntropyLoss(), 'optimizer': 'Adam', 'learning_rate': 0.0022141451930582264, 'weight_decay': 0.054371741983251634, 'num_epochs': 30}\n"
          ]
        },
        {
          "name": "stderr",
          "output_type": "stream",
          "text": [
            "/usr/local/lib/python3.7/dist-packages/torch/utils/data/dataloader.py:566: UserWarning: This DataLoader will create 4 worker processes in total. Our suggested max number of worker in current system is 2, which is smaller than what this DataLoader is going to create. Please be aware that excessive worker creation might get DataLoader running slow or even freeze, lower the worker number to avoid potential slowness/freeze if necessary.\n",
            "  cpuset_checked))\n"
          ]
        },
        {
          "name": "stdout",
          "output_type": "stream",
          "text": [
            "Epoch: 0 ,acc: 0.6077333333333333\n",
            "Epoch: 1 ,acc: 0.6569333333333334\n",
            "Epoch: 2 ,acc: 0.6584\n",
            "Epoch: 3 ,acc: 0.6721333333333334\n",
            "Epoch: 4 ,acc: 0.6638\n",
            "Epoch: 5 ,acc: 0.6769333333333334\n",
            "Epoch: 6 ,acc: 0.7664\n",
            "Epoch: 7 ,acc: 0.7632666666666666\n",
            "Epoch: 8 ,acc: 0.7740666666666667\n",
            "Epoch: 9 ,acc: 0.7754\n",
            "Epoch: 10 ,acc: 0.7790666666666667\n",
            "Epoch: 11 ,acc: 0.7857333333333333\n",
            "Epoch: 12 ,acc: 0.7855333333333333\n",
            "Epoch: 13 ,acc: 0.778\n",
            "Epoch: 14 ,acc: 0.7772\n",
            "Epoch: 15 ,acc: 0.7853333333333333\n",
            "Epoch: 16 ,acc: 0.7638\n",
            "Epoch: 17 ,acc: 0.7888\n",
            "Epoch: 18 ,acc: 0.7834666666666666\n",
            "Epoch: 19 ,acc: 0.7854\n",
            "Epoch: 20 ,acc: 0.7933333333333333\n",
            "Epoch: 21 ,acc: 0.7740666666666667\n",
            "Epoch: 22 ,acc: 0.7821333333333333\n",
            "Epoch: 23 ,acc: 0.7905333333333333\n",
            "Epoch: 24 ,acc: 0.7782666666666667\n",
            "Epoch: 25 ,acc: 0.7812666666666667\n",
            "Epoch: 26 ,acc: 0.7917333333333333\n",
            "Epoch: 27 ,acc: 0.7837333333333333\n",
            "Epoch: 28 ,acc: 0.7846\n",
            "Epoch: 29 ,acc: 0.7938\n",
            "\u001b[32m[I 2022-08-13 13:33:04,458]\u001b[0m Trial 3 finished with value: 0.7938 and parameters: {'cl_out1': 8, 'cl_out2': 25, 'cl_out3': 30, 'second_linear': 16, 'kernel_size': 3, 'optimizer': 'Adam', 'lr': 0.0022141451930582264, 'weight_decay': 0.054371741983251634}. Best is trial 2 with value: 0.8953333333333333.\u001b[0m\n",
            "Params {'cl_out1': 22, 'cl_out2': 27, 'cl_out3': 28, 'second_linear': 24, 'kernel_size': 5, 'loss': CrossEntropyLoss(), 'optimizer': 'Adam', 'learning_rate': 3.0862400849816844e-05, 'weight_decay': 0.00010684660083905494, 'num_epochs': 30}\n"
          ]
        },
        {
          "name": "stderr",
          "output_type": "stream",
          "text": [
            "/usr/local/lib/python3.7/dist-packages/torch/utils/data/dataloader.py:566: UserWarning: This DataLoader will create 4 worker processes in total. Our suggested max number of worker in current system is 2, which is smaller than what this DataLoader is going to create. Please be aware that excessive worker creation might get DataLoader running slow or even freeze, lower the worker number to avoid potential slowness/freeze if necessary.\n",
            "  cpuset_checked))\n"
          ]
        },
        {
          "name": "stdout",
          "output_type": "stream",
          "text": [
            "Epoch: 0 ,acc: 0.18233333333333332\n",
            "Epoch: 1 ,acc: 0.4335333333333333\n",
            "Epoch: 2 ,acc: 0.41233333333333333\n",
            "Epoch: 3 ,acc: 0.4952\n",
            "Epoch: 4 ,acc: 0.5288666666666667\n",
            "Epoch: 5 ,acc: 0.5616666666666666\n",
            "Epoch: 6 ,acc: 0.6320666666666667\n",
            "Epoch: 7 ,acc: 0.6380666666666667\n",
            "Epoch: 8 ,acc: 0.6486666666666666\n",
            "Epoch: 9 ,acc: 0.6578666666666667\n",
            "Epoch: 10 ,acc: 0.661\n",
            "Epoch: 11 ,acc: 0.6641333333333334\n",
            "Epoch: 12 ,acc: 0.6676\n",
            "Epoch: 13 ,acc: 0.6699333333333334\n",
            "Epoch: 14 ,acc: 0.6727333333333333\n",
            "Epoch: 15 ,acc: 0.6752\n",
            "Epoch: 16 ,acc: 0.6764\n",
            "Epoch: 17 ,acc: 0.6824666666666667\n",
            "Epoch: 18 ,acc: 0.6854666666666667\n",
            "Epoch: 19 ,acc: 0.685\n",
            "Epoch: 20 ,acc: 0.6878666666666666\n",
            "Epoch: 21 ,acc: 0.6895333333333333\n",
            "Epoch: 22 ,acc: 0.6918\n",
            "Epoch: 23 ,acc: 0.6928666666666666\n",
            "Epoch: 24 ,acc: 0.6943333333333334\n",
            "Epoch: 25 ,acc: 0.6970666666666666\n",
            "Epoch: 26 ,acc: 0.6969333333333333\n",
            "Epoch: 27 ,acc: 0.6977333333333333\n",
            "Epoch: 28 ,acc: 0.6988666666666666\n",
            "Epoch: 29 ,acc: 0.7030666666666666\n",
            "\u001b[32m[I 2022-08-13 13:36:12,966]\u001b[0m Trial 4 finished with value: 0.7030666666666666 and parameters: {'cl_out1': 22, 'cl_out2': 27, 'cl_out3': 28, 'second_linear': 24, 'kernel_size': 5, 'optimizer': 'Adam', 'lr': 3.0862400849816844e-05, 'weight_decay': 0.00010684660083905494}. Best is trial 2 with value: 0.8953333333333333.\u001b[0m\n",
            "Params {'cl_out1': 8, 'cl_out2': 26, 'cl_out3': 29, 'second_linear': 36, 'kernel_size': 5, 'loss': CrossEntropyLoss(), 'optimizer': 'SGD', 'learning_rate': 0.001487729197412801, 'weight_decay': 5.043867050834096e-05, 'num_epochs': 30}\n"
          ]
        },
        {
          "name": "stderr",
          "output_type": "stream",
          "text": [
            "/usr/local/lib/python3.7/dist-packages/torch/utils/data/dataloader.py:566: UserWarning: This DataLoader will create 4 worker processes in total. Our suggested max number of worker in current system is 2, which is smaller than what this DataLoader is going to create. Please be aware that excessive worker creation might get DataLoader running slow or even freeze, lower the worker number to avoid potential slowness/freeze if necessary.\n",
            "  cpuset_checked))\n"
          ]
        },
        {
          "name": "stdout",
          "output_type": "stream",
          "text": [
            "Epoch: 0 ,acc: 0.09513333333333333\n",
            "\u001b[32m[I 2022-08-13 13:36:19,174]\u001b[0m Trial 5 pruned. \u001b[0m\n",
            "Params {'cl_out1': 21, 'cl_out2': 24, 'cl_out3': 26, 'second_linear': 34, 'kernel_size': 3, 'loss': CrossEntropyLoss(), 'optimizer': 'SGD', 'learning_rate': 0.00019171339072110227, 'weight_decay': 4.036959939678296e-05, 'num_epochs': 30}\n"
          ]
        },
        {
          "name": "stderr",
          "output_type": "stream",
          "text": [
            "/usr/local/lib/python3.7/dist-packages/torch/utils/data/dataloader.py:566: UserWarning: This DataLoader will create 4 worker processes in total. Our suggested max number of worker in current system is 2, which is smaller than what this DataLoader is going to create. Please be aware that excessive worker creation might get DataLoader running slow or even freeze, lower the worker number to avoid potential slowness/freeze if necessary.\n",
            "  cpuset_checked))\n"
          ]
        },
        {
          "name": "stdout",
          "output_type": "stream",
          "text": [
            "Epoch: 0 ,acc: 0.09726666666666667\n",
            "\u001b[32m[I 2022-08-13 13:36:25,462]\u001b[0m Trial 6 pruned. \u001b[0m\n",
            "Params {'cl_out1': 7, 'cl_out2': 23, 'cl_out3': 29, 'second_linear': 12, 'kernel_size': 3, 'loss': CrossEntropyLoss(), 'optimizer': 'SGD', 'learning_rate': 0.0005364968849316807, 'weight_decay': 4.5124960916888225e-05, 'num_epochs': 30}\n"
          ]
        },
        {
          "name": "stderr",
          "output_type": "stream",
          "text": [
            "/usr/local/lib/python3.7/dist-packages/torch/utils/data/dataloader.py:566: UserWarning: This DataLoader will create 4 worker processes in total. Our suggested max number of worker in current system is 2, which is smaller than what this DataLoader is going to create. Please be aware that excessive worker creation might get DataLoader running slow or even freeze, lower the worker number to avoid potential slowness/freeze if necessary.\n",
            "  cpuset_checked))\n"
          ]
        },
        {
          "name": "stdout",
          "output_type": "stream",
          "text": [
            "Epoch: 0 ,acc: 0.09893333333333333\n",
            "\u001b[32m[I 2022-08-13 13:36:31,663]\u001b[0m Trial 7 pruned. \u001b[0m\n",
            "Params {'cl_out1': 12, 'cl_out2': 18, 'cl_out3': 21, 'second_linear': 42, 'kernel_size': 3, 'loss': CrossEntropyLoss(), 'optimizer': 'SGD', 'learning_rate': 0.00010796410226179201, 'weight_decay': 0.003825931332091961, 'num_epochs': 30}\n"
          ]
        },
        {
          "name": "stderr",
          "output_type": "stream",
          "text": [
            "/usr/local/lib/python3.7/dist-packages/torch/utils/data/dataloader.py:566: UserWarning: This DataLoader will create 4 worker processes in total. Our suggested max number of worker in current system is 2, which is smaller than what this DataLoader is going to create. Please be aware that excessive worker creation might get DataLoader running slow or even freeze, lower the worker number to avoid potential slowness/freeze if necessary.\n",
            "  cpuset_checked))\n"
          ]
        },
        {
          "name": "stdout",
          "output_type": "stream",
          "text": [
            "Epoch: 0 ,acc: 0.08033333333333334\n",
            "\u001b[32m[I 2022-08-13 13:36:37,738]\u001b[0m Trial 8 pruned. \u001b[0m\n",
            "Params {'cl_out1': 6, 'cl_out2': 27, 'cl_out3': 28, 'second_linear': 51, 'kernel_size': 3, 'loss': CrossEntropyLoss(), 'optimizer': 'SGD', 'learning_rate': 0.0019508802202706727, 'weight_decay': 0.00011792274328009193, 'num_epochs': 30}\n"
          ]
        },
        {
          "name": "stderr",
          "output_type": "stream",
          "text": [
            "/usr/local/lib/python3.7/dist-packages/torch/utils/data/dataloader.py:566: UserWarning: This DataLoader will create 4 worker processes in total. Our suggested max number of worker in current system is 2, which is smaller than what this DataLoader is going to create. Please be aware that excessive worker creation might get DataLoader running slow or even freeze, lower the worker number to avoid potential slowness/freeze if necessary.\n",
            "  cpuset_checked))\n"
          ]
        },
        {
          "name": "stdout",
          "output_type": "stream",
          "text": [
            "Epoch: 0 ,acc: 0.101\n",
            "\u001b[32m[I 2022-08-13 13:36:43,989]\u001b[0m Trial 9 pruned. \u001b[0m\n",
            "Params {'cl_out1': 29, 'cl_out2': 30, 'cl_out3': 30, 'second_linear': 57, 'kernel_size': 5, 'loss': CrossEntropyLoss(), 'optimizer': 'Adam', 'learning_rate': 0.05032129201770178, 'weight_decay': 0.0008277478452155218, 'num_epochs': 30}\n"
          ]
        },
        {
          "name": "stderr",
          "output_type": "stream",
          "text": [
            "/usr/local/lib/python3.7/dist-packages/torch/utils/data/dataloader.py:566: UserWarning: This DataLoader will create 4 worker processes in total. Our suggested max number of worker in current system is 2, which is smaller than what this DataLoader is going to create. Please be aware that excessive worker creation might get DataLoader running slow or even freeze, lower the worker number to avoid potential slowness/freeze if necessary.\n",
            "  cpuset_checked))\n"
          ]
        },
        {
          "name": "stdout",
          "output_type": "stream",
          "text": [
            "Epoch: 0 ,acc: 0.09973333333333333\n",
            "\u001b[32m[I 2022-08-13 13:36:51,369]\u001b[0m Trial 10 pruned. \u001b[0m\n",
            "Params {'cl_out1': 28, 'cl_out2': 29, 'cl_out3': 30, 'second_linear': 23, 'kernel_size': 5, 'loss': CrossEntropyLoss(), 'optimizer': 'Adam', 'learning_rate': 0.024912348340861794, 'weight_decay': 0.006368698622747539, 'num_epochs': 30}\n"
          ]
        },
        {
          "name": "stderr",
          "output_type": "stream",
          "text": [
            "/usr/local/lib/python3.7/dist-packages/torch/utils/data/dataloader.py:566: UserWarning: This DataLoader will create 4 worker processes in total. Our suggested max number of worker in current system is 2, which is smaller than what this DataLoader is going to create. Please be aware that excessive worker creation might get DataLoader running slow or even freeze, lower the worker number to avoid potential slowness/freeze if necessary.\n",
            "  cpuset_checked))\n"
          ]
        },
        {
          "name": "stdout",
          "output_type": "stream",
          "text": [
            "Epoch: 0 ,acc: 0.101\n",
            "\u001b[32m[I 2022-08-13 13:36:57,741]\u001b[0m Trial 11 pruned. \u001b[0m\n",
            "Params {'cl_out1': 22, 'cl_out2': 25, 'cl_out3': 26, 'second_linear': 24, 'kernel_size': 3, 'loss': CrossEntropyLoss(), 'optimizer': 'Adam', 'learning_rate': 0.014229005068548364, 'weight_decay': 0.0005477804928895546, 'num_epochs': 30}\n"
          ]
        },
        {
          "name": "stderr",
          "output_type": "stream",
          "text": [
            "/usr/local/lib/python3.7/dist-packages/torch/utils/data/dataloader.py:566: UserWarning: This DataLoader will create 4 worker processes in total. Our suggested max number of worker in current system is 2, which is smaller than what this DataLoader is going to create. Please be aware that excessive worker creation might get DataLoader running slow or even freeze, lower the worker number to avoid potential slowness/freeze if necessary.\n",
            "  cpuset_checked))\n"
          ]
        },
        {
          "name": "stdout",
          "output_type": "stream",
          "text": [
            "Epoch: 0 ,acc: 0.4288666666666667\n",
            "\u001b[32m[I 2022-08-13 13:37:04,209]\u001b[0m Trial 12 pruned. \u001b[0m\n",
            "Params {'cl_out1': 13, 'cl_out2': 13, 'cl_out3': 13, 'second_linear': 45, 'kernel_size': 5, 'loss': CrossEntropyLoss(), 'optimizer': 'Adam', 'learning_rate': 0.0004391659134089337, 'weight_decay': 1.4594252481354854e-05, 'num_epochs': 30}\n"
          ]
        },
        {
          "name": "stderr",
          "output_type": "stream",
          "text": [
            "/usr/local/lib/python3.7/dist-packages/torch/utils/data/dataloader.py:566: UserWarning: This DataLoader will create 4 worker processes in total. Our suggested max number of worker in current system is 2, which is smaller than what this DataLoader is going to create. Please be aware that excessive worker creation might get DataLoader running slow or even freeze, lower the worker number to avoid potential slowness/freeze if necessary.\n",
            "  cpuset_checked))\n"
          ]
        },
        {
          "name": "stdout",
          "output_type": "stream",
          "text": [
            "Epoch: 0 ,acc: 0.5135333333333333\n",
            "\u001b[32m[I 2022-08-13 13:37:10,393]\u001b[0m Trial 13 pruned. \u001b[0m\n",
            "Params {'cl_out1': 26, 'cl_out2': 28, 'cl_out3': 30, 'second_linear': 19, 'kernel_size': 5, 'loss': CrossEntropyLoss(), 'optimizer': 'Adam', 'learning_rate': 0.007025173509561834, 'weight_decay': 0.009349890252350546, 'num_epochs': 30}\n"
          ]
        },
        {
          "name": "stderr",
          "output_type": "stream",
          "text": [
            "/usr/local/lib/python3.7/dist-packages/torch/utils/data/dataloader.py:566: UserWarning: This DataLoader will create 4 worker processes in total. Our suggested max number of worker in current system is 2, which is smaller than what this DataLoader is going to create. Please be aware that excessive worker creation might get DataLoader running slow or even freeze, lower the worker number to avoid potential slowness/freeze if necessary.\n",
            "  cpuset_checked))\n"
          ]
        },
        {
          "name": "stdout",
          "output_type": "stream",
          "text": [
            "Epoch: 0 ,acc: 0.5659333333333333\n",
            "Epoch: 1 ,acc: 0.7008666666666666\n",
            "Epoch: 2 ,acc: 0.8082666666666667\n",
            "Epoch: 3 ,acc: 0.8310666666666666\n",
            "Epoch: 4 ,acc: 0.8258666666666666\n",
            "Epoch: 5 ,acc: 0.8396\n",
            "Epoch: 6 ,acc: 0.8359333333333333\n",
            "Epoch: 7 ,acc: 0.8256\n",
            "Epoch: 8 ,acc: 0.8436666666666667\n",
            "Epoch: 9 ,acc: 0.8415333333333334\n",
            "Epoch: 10 ,acc: 0.8465333333333334\n",
            "Epoch: 11 ,acc: 0.854\n",
            "Epoch: 12 ,acc: 0.8515333333333334\n",
            "Epoch: 13 ,acc: 0.8580666666666666\n",
            "Epoch: 14 ,acc: 0.8608666666666667\n",
            "Epoch: 15 ,acc: 0.8312666666666667\n",
            "Epoch: 16 ,acc: 0.8623333333333333\n",
            "Epoch: 17 ,acc: 0.8596\n",
            "Epoch: 18 ,acc: 0.864\n",
            "Epoch: 19 ,acc: 0.8550666666666666\n",
            "Epoch: 20 ,acc: 0.8148\n",
            "Epoch: 21 ,acc: 0.8629333333333333\n",
            "Epoch: 22 ,acc: 0.8654\n",
            "Epoch: 23 ,acc: 0.863\n",
            "Epoch: 24 ,acc: 0.8684666666666667\n",
            "Epoch: 25 ,acc: 0.871\n",
            "Epoch: 26 ,acc: 0.8649333333333333\n",
            "Epoch: 27 ,acc: 0.8653333333333333\n",
            "Epoch: 28 ,acc: 0.8701333333333333\n",
            "Epoch: 29 ,acc: 0.8623333333333333\n",
            "\u001b[32m[I 2022-08-13 13:40:21,013]\u001b[0m Trial 14 finished with value: 0.8623333333333333 and parameters: {'cl_out1': 26, 'cl_out2': 28, 'cl_out3': 30, 'second_linear': 19, 'kernel_size': 5, 'optimizer': 'Adam', 'lr': 0.007025173509561834, 'weight_decay': 0.009349890252350546}. Best is trial 2 with value: 0.8953333333333333.\u001b[0m\n"
          ]
        },
        {
          "name": "stderr",
          "output_type": "stream",
          "text": [
            "\u001b[32m[I 2022-08-13 13:40:21,416]\u001b[0m A new study created in RDB with name: overall_study\u001b[0m\n",
            "/usr/local/lib/python3.7/dist-packages/ipykernel_launcher.py:14: ExperimentalWarning: add_trials is experimental (supported from v2.5.0). The interface can change in the future.\n",
            "  \n",
            "/usr/local/lib/python3.7/dist-packages/optuna/study/study.py:969: ExperimentalWarning: add_trial is experimental (supported from v2.0.0). The interface can change in the future.\n",
            "  self.add_trial(trial)\n"
          ]
        },
        {
          "name": "stdout",
          "output_type": "stream",
          "text": [
            "--- 1143.0903713703156 seconds ---\n"
          ]
        }
      ],
      "source": [
        "#Run on Colab\n",
        "#TIME CONSUMING CELL\n",
        "start_time = time.time()\n",
        "\n",
        "#create an optuna study to optimize the hyperparameters\n",
        "study = optuna.create_study(study_name=\"Hyperparameter_optimization\", direction=\"maximize\",\n",
        "                            pruner=optuna.pruners.MedianPruner())\n",
        "\n",
        "#call optuna to optimize the objective function\n",
        "study.optimize(objective, n_trials=15, timeout=None, show_progress_bar=True)\n",
        "\n",
        "#save the study on a sql database\n",
        "saved_study = optuna.create_study(study_name=\"overall_study\", direction=\"maximize\", storage=\"sqlite:///classification_hyperpar.db\")\n",
        "saved_study.add_trials(study.trials)\n",
        "\n",
        "#runtime\n",
        "print(\"--- %s seconds ---\" % (time.time() - start_time))"
      ]
    },
    {
      "cell_type": "markdown",
      "source": [
        "Once each trial has been completed and the database has been saved in an external file, I was able to reload the parameters and their corresponding accuracy values into a pandas dataframe, thanks to the method $\\texttt{optuna.load_study}$."
      ],
      "metadata": {
        "id": "qqRO0MIAga8d"
      }
    },
    {
      "cell_type": "code",
      "execution_count": 10,
      "metadata": {
        "colab": {
          "base_uri": "https://localhost:8080/",
          "height": 844
        },
        "id": "_IXUq3oxYsmF",
        "outputId": "7848076b-3837-46c9-d93f-279a7a5940e4"
      },
      "outputs": [
        {
          "output_type": "execute_result",
          "data": {
            "text/plain": [
              "    number     value             datetime_start          datetime_complete  \\\n",
              "0        0  0.746933 2022-08-13 13:21:19.202187 2022-08-13 13:24:20.063830   \n",
              "1        1  0.407200 2022-08-13 13:24:20.074157 2022-08-13 13:27:10.427340   \n",
              "2        2  0.895333 2022-08-13 13:27:10.435742 2022-08-13 13:30:04.914945   \n",
              "3        3  0.793800 2022-08-13 13:30:04.923978 2022-08-13 13:33:04.457733   \n",
              "4        4  0.703067 2022-08-13 13:33:04.472078 2022-08-13 13:36:12.966193   \n",
              "5        5  0.095133 2022-08-13 13:36:12.974910 2022-08-13 13:36:19.174234   \n",
              "6        6  0.097267 2022-08-13 13:36:19.181955 2022-08-13 13:36:25.462591   \n",
              "7        7  0.098933 2022-08-13 13:36:25.471744 2022-08-13 13:36:31.663428   \n",
              "8        8  0.080333 2022-08-13 13:36:31.672921 2022-08-13 13:36:37.738880   \n",
              "9        9  0.101000 2022-08-13 13:36:37.745857 2022-08-13 13:36:43.989111   \n",
              "10      10  0.099733 2022-08-13 13:36:43.996169 2022-08-13 13:36:51.369102   \n",
              "11      11  0.101000 2022-08-13 13:36:51.376608 2022-08-13 13:36:57.741153   \n",
              "12      12  0.428867 2022-08-13 13:36:57.749181 2022-08-13 13:37:04.209215   \n",
              "13      13  0.513533 2022-08-13 13:37:04.217448 2022-08-13 13:37:10.393468   \n",
              "14      14  0.862333 2022-08-13 13:37:10.405309 2022-08-13 13:40:21.012452   \n",
              "\n",
              "                 duration  params_cl_out1  params_cl_out2  params_cl_out3  \\\n",
              "0  0 days 00:03:00.861643              16              19              20   \n",
              "1  0 days 00:02:50.353183               7              17              22   \n",
              "2  0 days 00:02:54.479203              26              28              28   \n",
              "3  0 days 00:02:59.533755               8              25              30   \n",
              "4  0 days 00:03:08.494115              22              27              28   \n",
              "5  0 days 00:00:06.199324               8              26              29   \n",
              "6  0 days 00:00:06.280636              21              24              26   \n",
              "7  0 days 00:00:06.191684               7              23              29   \n",
              "8  0 days 00:00:06.065959              12              18              21   \n",
              "9  0 days 00:00:06.243254               6              27              28   \n",
              "10 0 days 00:00:07.372933              29              30              30   \n",
              "11 0 days 00:00:06.364545              28              29              30   \n",
              "12 0 days 00:00:06.460034              22              25              26   \n",
              "13 0 days 00:00:06.176020              13              13              13   \n",
              "14 0 days 00:03:10.607143              26              28              30   \n",
              "\n",
              "    params_kernel_size  params_lr params_optimizer  params_second_linear  \\\n",
              "0                    5   0.004584             Adam                    36   \n",
              "1                    3   0.004001              SGD                    12   \n",
              "2                    5   0.001300             Adam                    40   \n",
              "3                    3   0.002214             Adam                    16   \n",
              "4                    5   0.000031             Adam                    24   \n",
              "5                    5   0.001488              SGD                    36   \n",
              "6                    3   0.000192              SGD                    34   \n",
              "7                    3   0.000536              SGD                    12   \n",
              "8                    3   0.000108              SGD                    42   \n",
              "9                    3   0.001951              SGD                    51   \n",
              "10                   5   0.050321             Adam                    57   \n",
              "11                   5   0.024912             Adam                    23   \n",
              "12                   3   0.014229             Adam                    24   \n",
              "13                   5   0.000439             Adam                    45   \n",
              "14                   5   0.007025             Adam                    19   \n",
              "\n",
              "    params_weight_decay     state  \n",
              "0              0.088295  COMPLETE  \n",
              "1              0.033835  COMPLETE  \n",
              "2              0.000016  COMPLETE  \n",
              "3              0.054372  COMPLETE  \n",
              "4              0.000107  COMPLETE  \n",
              "5              0.000050    PRUNED  \n",
              "6              0.000040    PRUNED  \n",
              "7              0.000045    PRUNED  \n",
              "8              0.003826    PRUNED  \n",
              "9              0.000118    PRUNED  \n",
              "10             0.000828    PRUNED  \n",
              "11             0.006369    PRUNED  \n",
              "12             0.000548    PRUNED  \n",
              "13             0.000015    PRUNED  \n",
              "14             0.009350  COMPLETE  "
            ],
            "text/html": [
              "\n",
              "  <div id=\"df-f68f00f1-76ea-4c88-ab14-4830d717dd61\">\n",
              "    <div class=\"colab-df-container\">\n",
              "      <div>\n",
              "<style scoped>\n",
              "    .dataframe tbody tr th:only-of-type {\n",
              "        vertical-align: middle;\n",
              "    }\n",
              "\n",
              "    .dataframe tbody tr th {\n",
              "        vertical-align: top;\n",
              "    }\n",
              "\n",
              "    .dataframe thead th {\n",
              "        text-align: right;\n",
              "    }\n",
              "</style>\n",
              "<table border=\"1\" class=\"dataframe\">\n",
              "  <thead>\n",
              "    <tr style=\"text-align: right;\">\n",
              "      <th></th>\n",
              "      <th>number</th>\n",
              "      <th>value</th>\n",
              "      <th>datetime_start</th>\n",
              "      <th>datetime_complete</th>\n",
              "      <th>duration</th>\n",
              "      <th>params_cl_out1</th>\n",
              "      <th>params_cl_out2</th>\n",
              "      <th>params_cl_out3</th>\n",
              "      <th>params_kernel_size</th>\n",
              "      <th>params_lr</th>\n",
              "      <th>params_optimizer</th>\n",
              "      <th>params_second_linear</th>\n",
              "      <th>params_weight_decay</th>\n",
              "      <th>state</th>\n",
              "    </tr>\n",
              "  </thead>\n",
              "  <tbody>\n",
              "    <tr>\n",
              "      <th>0</th>\n",
              "      <td>0</td>\n",
              "      <td>0.746933</td>\n",
              "      <td>2022-08-13 13:21:19.202187</td>\n",
              "      <td>2022-08-13 13:24:20.063830</td>\n",
              "      <td>0 days 00:03:00.861643</td>\n",
              "      <td>16</td>\n",
              "      <td>19</td>\n",
              "      <td>20</td>\n",
              "      <td>5</td>\n",
              "      <td>0.004584</td>\n",
              "      <td>Adam</td>\n",
              "      <td>36</td>\n",
              "      <td>0.088295</td>\n",
              "      <td>COMPLETE</td>\n",
              "    </tr>\n",
              "    <tr>\n",
              "      <th>1</th>\n",
              "      <td>1</td>\n",
              "      <td>0.407200</td>\n",
              "      <td>2022-08-13 13:24:20.074157</td>\n",
              "      <td>2022-08-13 13:27:10.427340</td>\n",
              "      <td>0 days 00:02:50.353183</td>\n",
              "      <td>7</td>\n",
              "      <td>17</td>\n",
              "      <td>22</td>\n",
              "      <td>3</td>\n",
              "      <td>0.004001</td>\n",
              "      <td>SGD</td>\n",
              "      <td>12</td>\n",
              "      <td>0.033835</td>\n",
              "      <td>COMPLETE</td>\n",
              "    </tr>\n",
              "    <tr>\n",
              "      <th>2</th>\n",
              "      <td>2</td>\n",
              "      <td>0.895333</td>\n",
              "      <td>2022-08-13 13:27:10.435742</td>\n",
              "      <td>2022-08-13 13:30:04.914945</td>\n",
              "      <td>0 days 00:02:54.479203</td>\n",
              "      <td>26</td>\n",
              "      <td>28</td>\n",
              "      <td>28</td>\n",
              "      <td>5</td>\n",
              "      <td>0.001300</td>\n",
              "      <td>Adam</td>\n",
              "      <td>40</td>\n",
              "      <td>0.000016</td>\n",
              "      <td>COMPLETE</td>\n",
              "    </tr>\n",
              "    <tr>\n",
              "      <th>3</th>\n",
              "      <td>3</td>\n",
              "      <td>0.793800</td>\n",
              "      <td>2022-08-13 13:30:04.923978</td>\n",
              "      <td>2022-08-13 13:33:04.457733</td>\n",
              "      <td>0 days 00:02:59.533755</td>\n",
              "      <td>8</td>\n",
              "      <td>25</td>\n",
              "      <td>30</td>\n",
              "      <td>3</td>\n",
              "      <td>0.002214</td>\n",
              "      <td>Adam</td>\n",
              "      <td>16</td>\n",
              "      <td>0.054372</td>\n",
              "      <td>COMPLETE</td>\n",
              "    </tr>\n",
              "    <tr>\n",
              "      <th>4</th>\n",
              "      <td>4</td>\n",
              "      <td>0.703067</td>\n",
              "      <td>2022-08-13 13:33:04.472078</td>\n",
              "      <td>2022-08-13 13:36:12.966193</td>\n",
              "      <td>0 days 00:03:08.494115</td>\n",
              "      <td>22</td>\n",
              "      <td>27</td>\n",
              "      <td>28</td>\n",
              "      <td>5</td>\n",
              "      <td>0.000031</td>\n",
              "      <td>Adam</td>\n",
              "      <td>24</td>\n",
              "      <td>0.000107</td>\n",
              "      <td>COMPLETE</td>\n",
              "    </tr>\n",
              "    <tr>\n",
              "      <th>5</th>\n",
              "      <td>5</td>\n",
              "      <td>0.095133</td>\n",
              "      <td>2022-08-13 13:36:12.974910</td>\n",
              "      <td>2022-08-13 13:36:19.174234</td>\n",
              "      <td>0 days 00:00:06.199324</td>\n",
              "      <td>8</td>\n",
              "      <td>26</td>\n",
              "      <td>29</td>\n",
              "      <td>5</td>\n",
              "      <td>0.001488</td>\n",
              "      <td>SGD</td>\n",
              "      <td>36</td>\n",
              "      <td>0.000050</td>\n",
              "      <td>PRUNED</td>\n",
              "    </tr>\n",
              "    <tr>\n",
              "      <th>6</th>\n",
              "      <td>6</td>\n",
              "      <td>0.097267</td>\n",
              "      <td>2022-08-13 13:36:19.181955</td>\n",
              "      <td>2022-08-13 13:36:25.462591</td>\n",
              "      <td>0 days 00:00:06.280636</td>\n",
              "      <td>21</td>\n",
              "      <td>24</td>\n",
              "      <td>26</td>\n",
              "      <td>3</td>\n",
              "      <td>0.000192</td>\n",
              "      <td>SGD</td>\n",
              "      <td>34</td>\n",
              "      <td>0.000040</td>\n",
              "      <td>PRUNED</td>\n",
              "    </tr>\n",
              "    <tr>\n",
              "      <th>7</th>\n",
              "      <td>7</td>\n",
              "      <td>0.098933</td>\n",
              "      <td>2022-08-13 13:36:25.471744</td>\n",
              "      <td>2022-08-13 13:36:31.663428</td>\n",
              "      <td>0 days 00:00:06.191684</td>\n",
              "      <td>7</td>\n",
              "      <td>23</td>\n",
              "      <td>29</td>\n",
              "      <td>3</td>\n",
              "      <td>0.000536</td>\n",
              "      <td>SGD</td>\n",
              "      <td>12</td>\n",
              "      <td>0.000045</td>\n",
              "      <td>PRUNED</td>\n",
              "    </tr>\n",
              "    <tr>\n",
              "      <th>8</th>\n",
              "      <td>8</td>\n",
              "      <td>0.080333</td>\n",
              "      <td>2022-08-13 13:36:31.672921</td>\n",
              "      <td>2022-08-13 13:36:37.738880</td>\n",
              "      <td>0 days 00:00:06.065959</td>\n",
              "      <td>12</td>\n",
              "      <td>18</td>\n",
              "      <td>21</td>\n",
              "      <td>3</td>\n",
              "      <td>0.000108</td>\n",
              "      <td>SGD</td>\n",
              "      <td>42</td>\n",
              "      <td>0.003826</td>\n",
              "      <td>PRUNED</td>\n",
              "    </tr>\n",
              "    <tr>\n",
              "      <th>9</th>\n",
              "      <td>9</td>\n",
              "      <td>0.101000</td>\n",
              "      <td>2022-08-13 13:36:37.745857</td>\n",
              "      <td>2022-08-13 13:36:43.989111</td>\n",
              "      <td>0 days 00:00:06.243254</td>\n",
              "      <td>6</td>\n",
              "      <td>27</td>\n",
              "      <td>28</td>\n",
              "      <td>3</td>\n",
              "      <td>0.001951</td>\n",
              "      <td>SGD</td>\n",
              "      <td>51</td>\n",
              "      <td>0.000118</td>\n",
              "      <td>PRUNED</td>\n",
              "    </tr>\n",
              "    <tr>\n",
              "      <th>10</th>\n",
              "      <td>10</td>\n",
              "      <td>0.099733</td>\n",
              "      <td>2022-08-13 13:36:43.996169</td>\n",
              "      <td>2022-08-13 13:36:51.369102</td>\n",
              "      <td>0 days 00:00:07.372933</td>\n",
              "      <td>29</td>\n",
              "      <td>30</td>\n",
              "      <td>30</td>\n",
              "      <td>5</td>\n",
              "      <td>0.050321</td>\n",
              "      <td>Adam</td>\n",
              "      <td>57</td>\n",
              "      <td>0.000828</td>\n",
              "      <td>PRUNED</td>\n",
              "    </tr>\n",
              "    <tr>\n",
              "      <th>11</th>\n",
              "      <td>11</td>\n",
              "      <td>0.101000</td>\n",
              "      <td>2022-08-13 13:36:51.376608</td>\n",
              "      <td>2022-08-13 13:36:57.741153</td>\n",
              "      <td>0 days 00:00:06.364545</td>\n",
              "      <td>28</td>\n",
              "      <td>29</td>\n",
              "      <td>30</td>\n",
              "      <td>5</td>\n",
              "      <td>0.024912</td>\n",
              "      <td>Adam</td>\n",
              "      <td>23</td>\n",
              "      <td>0.006369</td>\n",
              "      <td>PRUNED</td>\n",
              "    </tr>\n",
              "    <tr>\n",
              "      <th>12</th>\n",
              "      <td>12</td>\n",
              "      <td>0.428867</td>\n",
              "      <td>2022-08-13 13:36:57.749181</td>\n",
              "      <td>2022-08-13 13:37:04.209215</td>\n",
              "      <td>0 days 00:00:06.460034</td>\n",
              "      <td>22</td>\n",
              "      <td>25</td>\n",
              "      <td>26</td>\n",
              "      <td>3</td>\n",
              "      <td>0.014229</td>\n",
              "      <td>Adam</td>\n",
              "      <td>24</td>\n",
              "      <td>0.000548</td>\n",
              "      <td>PRUNED</td>\n",
              "    </tr>\n",
              "    <tr>\n",
              "      <th>13</th>\n",
              "      <td>13</td>\n",
              "      <td>0.513533</td>\n",
              "      <td>2022-08-13 13:37:04.217448</td>\n",
              "      <td>2022-08-13 13:37:10.393468</td>\n",
              "      <td>0 days 00:00:06.176020</td>\n",
              "      <td>13</td>\n",
              "      <td>13</td>\n",
              "      <td>13</td>\n",
              "      <td>5</td>\n",
              "      <td>0.000439</td>\n",
              "      <td>Adam</td>\n",
              "      <td>45</td>\n",
              "      <td>0.000015</td>\n",
              "      <td>PRUNED</td>\n",
              "    </tr>\n",
              "    <tr>\n",
              "      <th>14</th>\n",
              "      <td>14</td>\n",
              "      <td>0.862333</td>\n",
              "      <td>2022-08-13 13:37:10.405309</td>\n",
              "      <td>2022-08-13 13:40:21.012452</td>\n",
              "      <td>0 days 00:03:10.607143</td>\n",
              "      <td>26</td>\n",
              "      <td>28</td>\n",
              "      <td>30</td>\n",
              "      <td>5</td>\n",
              "      <td>0.007025</td>\n",
              "      <td>Adam</td>\n",
              "      <td>19</td>\n",
              "      <td>0.009350</td>\n",
              "      <td>COMPLETE</td>\n",
              "    </tr>\n",
              "  </tbody>\n",
              "</table>\n",
              "</div>\n",
              "      <button class=\"colab-df-convert\" onclick=\"convertToInteractive('df-f68f00f1-76ea-4c88-ab14-4830d717dd61')\"\n",
              "              title=\"Convert this dataframe to an interactive table.\"\n",
              "              style=\"display:none;\">\n",
              "        \n",
              "  <svg xmlns=\"http://www.w3.org/2000/svg\" height=\"24px\"viewBox=\"0 0 24 24\"\n",
              "       width=\"24px\">\n",
              "    <path d=\"M0 0h24v24H0V0z\" fill=\"none\"/>\n",
              "    <path d=\"M18.56 5.44l.94 2.06.94-2.06 2.06-.94-2.06-.94-.94-2.06-.94 2.06-2.06.94zm-11 1L8.5 8.5l.94-2.06 2.06-.94-2.06-.94L8.5 2.5l-.94 2.06-2.06.94zm10 10l.94 2.06.94-2.06 2.06-.94-2.06-.94-.94-2.06-.94 2.06-2.06.94z\"/><path d=\"M17.41 7.96l-1.37-1.37c-.4-.4-.92-.59-1.43-.59-.52 0-1.04.2-1.43.59L10.3 9.45l-7.72 7.72c-.78.78-.78 2.05 0 2.83L4 21.41c.39.39.9.59 1.41.59.51 0 1.02-.2 1.41-.59l7.78-7.78 2.81-2.81c.8-.78.8-2.07 0-2.86zM5.41 20L4 18.59l7.72-7.72 1.47 1.35L5.41 20z\"/>\n",
              "  </svg>\n",
              "      </button>\n",
              "      \n",
              "  <style>\n",
              "    .colab-df-container {\n",
              "      display:flex;\n",
              "      flex-wrap:wrap;\n",
              "      gap: 12px;\n",
              "    }\n",
              "\n",
              "    .colab-df-convert {\n",
              "      background-color: #E8F0FE;\n",
              "      border: none;\n",
              "      border-radius: 50%;\n",
              "      cursor: pointer;\n",
              "      display: none;\n",
              "      fill: #1967D2;\n",
              "      height: 32px;\n",
              "      padding: 0 0 0 0;\n",
              "      width: 32px;\n",
              "    }\n",
              "\n",
              "    .colab-df-convert:hover {\n",
              "      background-color: #E2EBFA;\n",
              "      box-shadow: 0px 1px 2px rgba(60, 64, 67, 0.3), 0px 1px 3px 1px rgba(60, 64, 67, 0.15);\n",
              "      fill: #174EA6;\n",
              "    }\n",
              "\n",
              "    [theme=dark] .colab-df-convert {\n",
              "      background-color: #3B4455;\n",
              "      fill: #D2E3FC;\n",
              "    }\n",
              "\n",
              "    [theme=dark] .colab-df-convert:hover {\n",
              "      background-color: #434B5C;\n",
              "      box-shadow: 0px 1px 3px 1px rgba(0, 0, 0, 0.15);\n",
              "      filter: drop-shadow(0px 1px 2px rgba(0, 0, 0, 0.3));\n",
              "      fill: #FFFFFF;\n",
              "    }\n",
              "  </style>\n",
              "\n",
              "      <script>\n",
              "        const buttonEl =\n",
              "          document.querySelector('#df-f68f00f1-76ea-4c88-ab14-4830d717dd61 button.colab-df-convert');\n",
              "        buttonEl.style.display =\n",
              "          google.colab.kernel.accessAllowed ? 'block' : 'none';\n",
              "\n",
              "        async function convertToInteractive(key) {\n",
              "          const element = document.querySelector('#df-f68f00f1-76ea-4c88-ab14-4830d717dd61');\n",
              "          const dataTable =\n",
              "            await google.colab.kernel.invokeFunction('convertToInteractive',\n",
              "                                                     [key], {});\n",
              "          if (!dataTable) return;\n",
              "\n",
              "          const docLinkHtml = 'Like what you see? Visit the ' +\n",
              "            '<a target=\"_blank\" href=https://colab.research.google.com/notebooks/data_table.ipynb>data table notebook</a>'\n",
              "            + ' to learn more about interactive tables.';\n",
              "          element.innerHTML = '';\n",
              "          dataTable['output_type'] = 'display_data';\n",
              "          await google.colab.output.renderOutput(dataTable, element);\n",
              "          const docLink = document.createElement('div');\n",
              "          docLink.innerHTML = docLinkHtml;\n",
              "          element.appendChild(docLink);\n",
              "        }\n",
              "      </script>\n",
              "    </div>\n",
              "  </div>\n",
              "  "
            ]
          },
          "metadata": {},
          "execution_count": 10
        }
      ],
      "source": [
        "#Load the optuna study and generate dataframe\n",
        "study_load = optuna.load_study(study_name=\"overall_study\", storage=\"sqlite:///classification_hyperpar_final.db\")\n",
        "df_study = study_load.trials_dataframe(attrs={'number','value', 'duration', 'params', 'state'})\n",
        "df_study = study_load.trials_dataframe()\n",
        "df_study"
      ]
    },
    {
      "cell_type": "markdown",
      "source": [
        "Optuna also comes with a series of useful built-in functions that allow me to better understand the performances of each combination of hyperparameters and their learning process.\n",
        "\n",
        "For Example, with the $\\texttt{plot_params_importances}$ we are able to visualize and identify which parameter has a greater weight on the performances of the CNN.\n",
        "\n",
        "As we can see from the graph below, the number of channels in the first convolutional layer happens to have the biggest influence on performances, followed by the choice of the optimizer.\n",
        "\n",
        "Since the first convolutional layer is the structure that deals first with the real data, one would want to have a higher number of channels in the first layer in order to gather and summarize better all the available information in the 28x28 input image matrix. The choice of the optimizer as well can extremely modify the effectiveness of the learning process, therefore it has  an undeniably huge importance in the evalution of the CNN performances. \n",
        "\n",
        "The parameters that happen to have the least importance for the task are the kernel size and the learning rate. "
      ],
      "metadata": {
        "id": "R27TpW0Ug5B7"
      }
    },
    {
      "cell_type": "code",
      "execution_count": 11,
      "metadata": {
        "id": "4eqKcXPtTDcm",
        "outputId": "c87ef5ec-ec39-4d81-ccb7-437004d7973f",
        "colab": {
          "base_uri": "https://localhost:8080/",
          "height": 542
        }
      },
      "outputs": [
        {
          "output_type": "display_data",
          "data": {
            "text/html": [
              "<html>\n",
              "<head><meta charset=\"utf-8\" /></head>\n",
              "<body>\n",
              "    <div>            <script src=\"https://cdnjs.cloudflare.com/ajax/libs/mathjax/2.7.5/MathJax.js?config=TeX-AMS-MML_SVG\"></script><script type=\"text/javascript\">if (window.MathJax) {MathJax.Hub.Config({SVG: {font: \"STIX-Web\"}});}</script>                <script type=\"text/javascript\">window.PlotlyConfig = {MathJaxConfig: 'local'};</script>\n",
              "        <script src=\"https://cdn.plot.ly/plotly-2.8.3.min.js\"></script>                <div id=\"f9519f4d-40cf-4e2a-bef6-6f481a2cc4b8\" class=\"plotly-graph-div\" style=\"height:525px; width:100%;\"></div>            <script type=\"text/javascript\">                                    window.PLOTLYENV=window.PLOTLYENV || {};                                    if (document.getElementById(\"f9519f4d-40cf-4e2a-bef6-6f481a2cc4b8\")) {                    Plotly.newPlot(                        \"f9519f4d-40cf-4e2a-bef6-6f481a2cc4b8\",                        [{\"cliponaxis\":false,\"hovertemplate\":[\"kernel_size (IntUniformDistribution): 0.02357310333794612<extra></extra>\",\"lr (LogUniformDistribution): 0.05147283304935966<extra></extra>\",\"weight_decay (LogUniformDistribution): 0.12012309646782716<extra></extra>\",\"second_linear (IntUniformDistribution): 0.1992662176107506<extra></extra>\",\"optimizer (CategoricalDistribution): 0.2618648342010367<extra></extra>\",\"cl_out1 (IntUniformDistribution): 0.34369991533307986<extra></extra>\"],\"marker\":{\"color\":\"rgb(66,146,198)\"},\"orientation\":\"h\",\"text\":[\"0.02357310333794612\",\"0.05147283304935966\",\"0.12012309646782716\",\"0.1992662176107506\",\"0.2618648342010367\",\"0.34369991533307986\"],\"textposition\":\"outside\",\"texttemplate\":\"%{text:.2f}\",\"x\":[0.02357310333794612,0.05147283304935966,0.12012309646782716,0.1992662176107506,0.2618648342010367,0.34369991533307986],\"y\":[\"kernel_size\",\"lr\",\"weight_decay\",\"second_linear\",\"optimizer\",\"cl_out1\"],\"type\":\"bar\"}],                        {\"showlegend\":false,\"title\":{\"text\":\"Hyperparameter Importances\"},\"xaxis\":{\"title\":{\"text\":\"Importance for Objective Value\"}},\"yaxis\":{\"title\":{\"text\":\"Hyperparameter\"}},\"template\":{\"data\":{\"bar\":[{\"error_x\":{\"color\":\"#2a3f5f\"},\"error_y\":{\"color\":\"#2a3f5f\"},\"marker\":{\"line\":{\"color\":\"#E5ECF6\",\"width\":0.5},\"pattern\":{\"fillmode\":\"overlay\",\"size\":10,\"solidity\":0.2}},\"type\":\"bar\"}],\"barpolar\":[{\"marker\":{\"line\":{\"color\":\"#E5ECF6\",\"width\":0.5},\"pattern\":{\"fillmode\":\"overlay\",\"size\":10,\"solidity\":0.2}},\"type\":\"barpolar\"}],\"carpet\":[{\"aaxis\":{\"endlinecolor\":\"#2a3f5f\",\"gridcolor\":\"white\",\"linecolor\":\"white\",\"minorgridcolor\":\"white\",\"startlinecolor\":\"#2a3f5f\"},\"baxis\":{\"endlinecolor\":\"#2a3f5f\",\"gridcolor\":\"white\",\"linecolor\":\"white\",\"minorgridcolor\":\"white\",\"startlinecolor\":\"#2a3f5f\"},\"type\":\"carpet\"}],\"choropleth\":[{\"colorbar\":{\"outlinewidth\":0,\"ticks\":\"\"},\"type\":\"choropleth\"}],\"contour\":[{\"colorbar\":{\"outlinewidth\":0,\"ticks\":\"\"},\"colorscale\":[[0.0,\"#0d0887\"],[0.1111111111111111,\"#46039f\"],[0.2222222222222222,\"#7201a8\"],[0.3333333333333333,\"#9c179e\"],[0.4444444444444444,\"#bd3786\"],[0.5555555555555556,\"#d8576b\"],[0.6666666666666666,\"#ed7953\"],[0.7777777777777778,\"#fb9f3a\"],[0.8888888888888888,\"#fdca26\"],[1.0,\"#f0f921\"]],\"type\":\"contour\"}],\"contourcarpet\":[{\"colorbar\":{\"outlinewidth\":0,\"ticks\":\"\"},\"type\":\"contourcarpet\"}],\"heatmap\":[{\"colorbar\":{\"outlinewidth\":0,\"ticks\":\"\"},\"colorscale\":[[0.0,\"#0d0887\"],[0.1111111111111111,\"#46039f\"],[0.2222222222222222,\"#7201a8\"],[0.3333333333333333,\"#9c179e\"],[0.4444444444444444,\"#bd3786\"],[0.5555555555555556,\"#d8576b\"],[0.6666666666666666,\"#ed7953\"],[0.7777777777777778,\"#fb9f3a\"],[0.8888888888888888,\"#fdca26\"],[1.0,\"#f0f921\"]],\"type\":\"heatmap\"}],\"heatmapgl\":[{\"colorbar\":{\"outlinewidth\":0,\"ticks\":\"\"},\"colorscale\":[[0.0,\"#0d0887\"],[0.1111111111111111,\"#46039f\"],[0.2222222222222222,\"#7201a8\"],[0.3333333333333333,\"#9c179e\"],[0.4444444444444444,\"#bd3786\"],[0.5555555555555556,\"#d8576b\"],[0.6666666666666666,\"#ed7953\"],[0.7777777777777778,\"#fb9f3a\"],[0.8888888888888888,\"#fdca26\"],[1.0,\"#f0f921\"]],\"type\":\"heatmapgl\"}],\"histogram\":[{\"marker\":{\"pattern\":{\"fillmode\":\"overlay\",\"size\":10,\"solidity\":0.2}},\"type\":\"histogram\"}],\"histogram2d\":[{\"colorbar\":{\"outlinewidth\":0,\"ticks\":\"\"},\"colorscale\":[[0.0,\"#0d0887\"],[0.1111111111111111,\"#46039f\"],[0.2222222222222222,\"#7201a8\"],[0.3333333333333333,\"#9c179e\"],[0.4444444444444444,\"#bd3786\"],[0.5555555555555556,\"#d8576b\"],[0.6666666666666666,\"#ed7953\"],[0.7777777777777778,\"#fb9f3a\"],[0.8888888888888888,\"#fdca26\"],[1.0,\"#f0f921\"]],\"type\":\"histogram2d\"}],\"histogram2dcontour\":[{\"colorbar\":{\"outlinewidth\":0,\"ticks\":\"\"},\"colorscale\":[[0.0,\"#0d0887\"],[0.1111111111111111,\"#46039f\"],[0.2222222222222222,\"#7201a8\"],[0.3333333333333333,\"#9c179e\"],[0.4444444444444444,\"#bd3786\"],[0.5555555555555556,\"#d8576b\"],[0.6666666666666666,\"#ed7953\"],[0.7777777777777778,\"#fb9f3a\"],[0.8888888888888888,\"#fdca26\"],[1.0,\"#f0f921\"]],\"type\":\"histogram2dcontour\"}],\"mesh3d\":[{\"colorbar\":{\"outlinewidth\":0,\"ticks\":\"\"},\"type\":\"mesh3d\"}],\"parcoords\":[{\"line\":{\"colorbar\":{\"outlinewidth\":0,\"ticks\":\"\"}},\"type\":\"parcoords\"}],\"pie\":[{\"automargin\":true,\"type\":\"pie\"}],\"scatter\":[{\"marker\":{\"colorbar\":{\"outlinewidth\":0,\"ticks\":\"\"}},\"type\":\"scatter\"}],\"scatter3d\":[{\"line\":{\"colorbar\":{\"outlinewidth\":0,\"ticks\":\"\"}},\"marker\":{\"colorbar\":{\"outlinewidth\":0,\"ticks\":\"\"}},\"type\":\"scatter3d\"}],\"scattercarpet\":[{\"marker\":{\"colorbar\":{\"outlinewidth\":0,\"ticks\":\"\"}},\"type\":\"scattercarpet\"}],\"scattergeo\":[{\"marker\":{\"colorbar\":{\"outlinewidth\":0,\"ticks\":\"\"}},\"type\":\"scattergeo\"}],\"scattergl\":[{\"marker\":{\"colorbar\":{\"outlinewidth\":0,\"ticks\":\"\"}},\"type\":\"scattergl\"}],\"scattermapbox\":[{\"marker\":{\"colorbar\":{\"outlinewidth\":0,\"ticks\":\"\"}},\"type\":\"scattermapbox\"}],\"scatterpolar\":[{\"marker\":{\"colorbar\":{\"outlinewidth\":0,\"ticks\":\"\"}},\"type\":\"scatterpolar\"}],\"scatterpolargl\":[{\"marker\":{\"colorbar\":{\"outlinewidth\":0,\"ticks\":\"\"}},\"type\":\"scatterpolargl\"}],\"scatterternary\":[{\"marker\":{\"colorbar\":{\"outlinewidth\":0,\"ticks\":\"\"}},\"type\":\"scatterternary\"}],\"surface\":[{\"colorbar\":{\"outlinewidth\":0,\"ticks\":\"\"},\"colorscale\":[[0.0,\"#0d0887\"],[0.1111111111111111,\"#46039f\"],[0.2222222222222222,\"#7201a8\"],[0.3333333333333333,\"#9c179e\"],[0.4444444444444444,\"#bd3786\"],[0.5555555555555556,\"#d8576b\"],[0.6666666666666666,\"#ed7953\"],[0.7777777777777778,\"#fb9f3a\"],[0.8888888888888888,\"#fdca26\"],[1.0,\"#f0f921\"]],\"type\":\"surface\"}],\"table\":[{\"cells\":{\"fill\":{\"color\":\"#EBF0F8\"},\"line\":{\"color\":\"white\"}},\"header\":{\"fill\":{\"color\":\"#C8D4E3\"},\"line\":{\"color\":\"white\"}},\"type\":\"table\"}]},\"layout\":{\"annotationdefaults\":{\"arrowcolor\":\"#2a3f5f\",\"arrowhead\":0,\"arrowwidth\":1},\"autotypenumbers\":\"strict\",\"coloraxis\":{\"colorbar\":{\"outlinewidth\":0,\"ticks\":\"\"}},\"colorscale\":{\"diverging\":[[0,\"#8e0152\"],[0.1,\"#c51b7d\"],[0.2,\"#de77ae\"],[0.3,\"#f1b6da\"],[0.4,\"#fde0ef\"],[0.5,\"#f7f7f7\"],[0.6,\"#e6f5d0\"],[0.7,\"#b8e186\"],[0.8,\"#7fbc41\"],[0.9,\"#4d9221\"],[1,\"#276419\"]],\"sequential\":[[0.0,\"#0d0887\"],[0.1111111111111111,\"#46039f\"],[0.2222222222222222,\"#7201a8\"],[0.3333333333333333,\"#9c179e\"],[0.4444444444444444,\"#bd3786\"],[0.5555555555555556,\"#d8576b\"],[0.6666666666666666,\"#ed7953\"],[0.7777777777777778,\"#fb9f3a\"],[0.8888888888888888,\"#fdca26\"],[1.0,\"#f0f921\"]],\"sequentialminus\":[[0.0,\"#0d0887\"],[0.1111111111111111,\"#46039f\"],[0.2222222222222222,\"#7201a8\"],[0.3333333333333333,\"#9c179e\"],[0.4444444444444444,\"#bd3786\"],[0.5555555555555556,\"#d8576b\"],[0.6666666666666666,\"#ed7953\"],[0.7777777777777778,\"#fb9f3a\"],[0.8888888888888888,\"#fdca26\"],[1.0,\"#f0f921\"]]},\"colorway\":[\"#636efa\",\"#EF553B\",\"#00cc96\",\"#ab63fa\",\"#FFA15A\",\"#19d3f3\",\"#FF6692\",\"#B6E880\",\"#FF97FF\",\"#FECB52\"],\"font\":{\"color\":\"#2a3f5f\"},\"geo\":{\"bgcolor\":\"white\",\"lakecolor\":\"white\",\"landcolor\":\"#E5ECF6\",\"showlakes\":true,\"showland\":true,\"subunitcolor\":\"white\"},\"hoverlabel\":{\"align\":\"left\"},\"hovermode\":\"closest\",\"mapbox\":{\"style\":\"light\"},\"paper_bgcolor\":\"white\",\"plot_bgcolor\":\"#E5ECF6\",\"polar\":{\"angularaxis\":{\"gridcolor\":\"white\",\"linecolor\":\"white\",\"ticks\":\"\"},\"bgcolor\":\"#E5ECF6\",\"radialaxis\":{\"gridcolor\":\"white\",\"linecolor\":\"white\",\"ticks\":\"\"}},\"scene\":{\"xaxis\":{\"backgroundcolor\":\"#E5ECF6\",\"gridcolor\":\"white\",\"gridwidth\":2,\"linecolor\":\"white\",\"showbackground\":true,\"ticks\":\"\",\"zerolinecolor\":\"white\"},\"yaxis\":{\"backgroundcolor\":\"#E5ECF6\",\"gridcolor\":\"white\",\"gridwidth\":2,\"linecolor\":\"white\",\"showbackground\":true,\"ticks\":\"\",\"zerolinecolor\":\"white\"},\"zaxis\":{\"backgroundcolor\":\"#E5ECF6\",\"gridcolor\":\"white\",\"gridwidth\":2,\"linecolor\":\"white\",\"showbackground\":true,\"ticks\":\"\",\"zerolinecolor\":\"white\"}},\"shapedefaults\":{\"line\":{\"color\":\"#2a3f5f\"}},\"ternary\":{\"aaxis\":{\"gridcolor\":\"white\",\"linecolor\":\"white\",\"ticks\":\"\"},\"baxis\":{\"gridcolor\":\"white\",\"linecolor\":\"white\",\"ticks\":\"\"},\"bgcolor\":\"#E5ECF6\",\"caxis\":{\"gridcolor\":\"white\",\"linecolor\":\"white\",\"ticks\":\"\"}},\"title\":{\"x\":0.05},\"xaxis\":{\"automargin\":true,\"gridcolor\":\"white\",\"linecolor\":\"white\",\"ticks\":\"\",\"title\":{\"standoff\":15},\"zerolinecolor\":\"white\",\"zerolinewidth\":2},\"yaxis\":{\"automargin\":true,\"gridcolor\":\"white\",\"linecolor\":\"white\",\"ticks\":\"\",\"title\":{\"standoff\":15},\"zerolinecolor\":\"white\",\"zerolinewidth\":2}}}},                        {\"responsive\": true}                    ).then(function(){\n",
              "                            \n",
              "var gd = document.getElementById('f9519f4d-40cf-4e2a-bef6-6f481a2cc4b8');\n",
              "var x = new MutationObserver(function (mutations, observer) {{\n",
              "        var display = window.getComputedStyle(gd).display;\n",
              "        if (!display || display === 'none') {{\n",
              "            console.log([gd, 'removed!']);\n",
              "            Plotly.purge(gd);\n",
              "            observer.disconnect();\n",
              "        }}\n",
              "}});\n",
              "\n",
              "// Listen for the removal of the full notebook cells\n",
              "var notebookContainer = gd.closest('#notebook-container');\n",
              "if (notebookContainer) {{\n",
              "    x.observe(notebookContainer, {childList: true});\n",
              "}}\n",
              "\n",
              "// Listen for the clearing of the current output cell\n",
              "var outputEl = gd.closest('.output');\n",
              "if (outputEl) {{\n",
              "    x.observe(outputEl, {childList: true});\n",
              "}}\n",
              "\n",
              "                        })                };                            </script>        </div>\n",
              "</body>\n",
              "</html>"
            ]
          },
          "metadata": {}
        }
      ],
      "source": [
        "plot_param_importances(study_load)"
      ]
    },
    {
      "cell_type": "markdown",
      "source": [
        "From the pandas dataframe I selected the set of parameters corresponding to the highest accuracy value and stored them in the $\\texttt{best_params}$, which will be used in the following to retrain the CNN and evaluate its performances on the Test Dataset.\n",
        "\n",
        "I eventually printed the best accuracy value and the correspoonding set of best parameters."
      ],
      "metadata": {
        "id": "tyYYa56shnqA"
      }
    },
    {
      "cell_type": "code",
      "execution_count": 14,
      "metadata": {
        "colab": {
          "base_uri": "https://localhost:8080/"
        },
        "id": "Hz5nn_T9Y6T5",
        "outputId": "847080b6-66e2-4b70-a085-d1ea2d1e6ba0"
      },
      "outputs": [
        {
          "output_type": "stream",
          "name": "stdout",
          "text": [
            "Accuracy: [0.89533333] with parameters: {'cl_out1': 26, 'cl_out2': 28, 'cl_out3': 28, 'second_linear': 40, 'kernel_size': 5, 'loss': CrossEntropyLoss(), 'optimizer': 'Adam', 'learning_rate': 0.001299852048654386, 'weight_decay': 1.5579535475754423e-05}\n"
          ]
        }
      ],
      "source": [
        "#select best arch parameters\n",
        "best_trial = df_study[df_study['value']==np.max(df_study['value'])]\n",
        "\n",
        "best_params = {\n",
        "    'cl_out1' : best_trial['params_cl_out1'].values[0],\n",
        "    'cl_out2' : best_trial['params_cl_out2'].values[0],\n",
        "    'cl_out3' : best_trial['params_cl_out3'].values[0],\n",
        "    'second_linear' : best_trial['params_second_linear'].values[0],\n",
        "    'kernel_size' : best_trial['params_kernel_size'].values[0],\n",
        "    'loss': nn.CrossEntropyLoss(),\n",
        "    'optimizer' : best_trial['params_optimizer'].values[0],\n",
        "    'learning_rate' : best_trial['params_lr'].values[0],\n",
        "    'weight_decay' : best_trial['params_weight_decay'].values[0]\n",
        "}\n",
        "\n",
        "print(\"Accuracy:\",best_trial['value'].values,\"with parameters:\",best_params)"
      ]
    },
    {
      "cell_type": "code",
      "execution_count": null,
      "metadata": {
        "id": "YMBhxOGsGfYd"
      },
      "outputs": [],
      "source": [
        "#clear GPU memory\n",
        "torch.cuda.empty_cache()"
      ]
    },
    {
      "cell_type": "markdown",
      "source": [
        "### 2.5.3) Comment on parameters\n",
        "\n",
        "I tested several combination of parameters, but each of them has a unique meaning and purpose. In order to simplify, we can divide the parameters into two macro categories: Architecture and Learning.\n",
        "\n",
        "The parameters regarding the Convolutional Neural Network Architecture are the following:\n",
        "\n",
        "| Ch_conv1 | Ch_conv2 | Ch_conv3 | Second_linear | Kernel |\n",
        "| --- | --- | --- | --- | --- |\n",
        "| 26 | 28 | 28 | 40 | 5 |\n",
        "\n",
        "They only describe the structure of the CNN: once they are set, the architecture is fixed. Of course they can threaten the proper working of the CNN either by imposing an insufficient number of trainable parameters for the complexity of the task or by providing an unnecessary high number of neurons and layers, corresponding to an overparametrization of a simpler task.\n",
        "\n",
        "The Learning parameterss instead are the following:\n",
        "\n",
        "| Optimizer | Learning Rate | Weight Decay |\n",
        "| --- | --- | --- |\n",
        "| Adam | 0.00129 | $1.55*10^{-5}$ |\n",
        "\n",
        "The optimizer refers to the algorithm used to update the weights in order to move closer to the minimum available loss value. The Adam algorithm usually performs better than SGD for the kind of tasks similar to the one I am dealing with. The Learning Rate is instead a measure of the steps performed by the algorithm to reach such a minimum: while SGD moves always with the same learning rate in order to look for the minimum, Adam has a form of adaptive learning rate in the definition of its algorithm.\n",
        "\n",
        "The Weight Decay parameter is a measure of the L2 penalty applied to the computed loss values, generally used to Regularize a model and prevent it to fall into overfitting regions. Another form of regularization is usually the Dropout method, which allows us to define a non-zero probability for a neuron to fail, but I chose not to implement it in this notebook because I thought it was not needed.\n"
      ],
      "metadata": {
        "id": "BfDeHG36IcuB"
      }
    },
    {
      "cell_type": "markdown",
      "metadata": {
        "id": "zbqjwRD5TDci"
      },
      "source": [
        "## 2.7) Best Result with test dataset and confusion matrix\n",
        "\n",
        "I retrained the CNN with the set of best parameters selected by the Optuna random search and evaluated its performances on the Test dataset.\n",
        "\n",
        "I choose to train the best model for 50 epochs, giving him the chance to reach better accuracy results than the once derived in the Optuna Study."
      ]
    },
    {
      "cell_type": "code",
      "execution_count": null,
      "metadata": {
        "colab": {
          "base_uri": "https://localhost:8080/"
        },
        "id": "UwR7ZBVITDci",
        "outputId": "5ec8d39b-3584-4157-9f43-0f8f9805d8fe"
      },
      "outputs": [
        {
          "name": "stdout",
          "output_type": "stream",
          "text": [
            "Epoch: 0\n",
            "TRAINING LOSS: 1.6030968\n",
            "VALIDATION LOSS: 1.3250568\n",
            "Epoch: 1\n",
            "TRAINING LOSS: 1.2427458\n",
            "VALIDATION LOSS: 1.1951108\n",
            "Epoch: 2\n",
            "TRAINING LOSS: 1.138717\n",
            "VALIDATION LOSS: 1.1474079\n",
            "Epoch: 3\n",
            "TRAINING LOSS: 1.0869668\n",
            "VALIDATION LOSS: 1.1034257\n",
            "Epoch: 4\n",
            "TRAINING LOSS: 1.0497289\n",
            "VALIDATION LOSS: 1.0659305\n",
            "Epoch: 5\n",
            "TRAINING LOSS: 1.0276625\n",
            "VALIDATION LOSS: 1.046123\n",
            "Epoch: 6\n"
          ]
        }
      ],
      "source": [
        "#run on colab\n",
        "#TIME CONSUMING CELL\n",
        "start_time = time.time()\n",
        "\n",
        "#initialize NN\n",
        "NN = CNN(best_params)\n",
        "\n",
        "#move NN to device\n",
        "NN.to(device)\n",
        "\n",
        "# Define the optimizer\n",
        "optimizer = optim.Adam(NN.parameters())\n",
        "\n",
        "#train NN\n",
        "train_loss, test_loss = new_training(NN, num_epochs=50,loss_function=nn.CrossEntropyLoss(),\n",
        "                                     optimizer=optimizer,verbose=True,test=True)\n",
        "\n",
        "#store time\n",
        "print(\"--- %s seconds ---\" % (time.time() - start_time))"
      ]
    },
    {
      "cell_type": "code",
      "execution_count": 24,
      "metadata": {
        "id": "pz3V9Rh_zFRy"
      },
      "outputs": [],
      "source": [
        "#torch.save(NN, 'best_model_classification.h5')\n",
        "NN = torch.load('best_model_classification.h5',map_location=torch.device('cpu'))"
      ]
    },
    {
      "cell_type": "markdown",
      "source": [
        "As we can see in the plot below, the learning curves reach in the end very satisfying results.\n",
        "\n",
        "The interesting feature of this plot is clearly the sudden fall of the loss value happening around epoch 25. In my opinion, the explanation for this strange behaviour lies in some hardware features unknown to the remote user. As I previously said, I ran the notebook multiple times under different conditions and I noticed that this behaviour would emerge in random and unintentional manner."
      ],
      "metadata": {
        "id": "ZTIW28PdlIoh"
      }
    },
    {
      "cell_type": "code",
      "execution_count": null,
      "metadata": {
        "colab": {
          "base_uri": "https://localhost:8080/",
          "height": 455
        },
        "id": "eS20tEOJTDci",
        "outputId": "a19fdf4a-7814-41b9-ef4d-e829eb7bc81f"
      },
      "outputs": [
        {
          "data": {
            "image/png": "[encoded data removed]",
            "text/plain": [
              "<Figure size 864x576 with 1 Axes>"
            ]
          },
          "metadata": {
            "needs_background": "light"
          },
          "output_type": "display_data"
        }
      ],
      "source": [
        "plot_learningcurves(train_loss, test_loss)"
      ]
    },
    {
      "cell_type": "markdown",
      "source": [
        "The confusion matrix of the best model reflects my expectations. The Convolutional Neural Network is most of the time able to correctly recognize the labels of each data sample.\n",
        "\n",
        "The main source of mistakes comes from class 6 (\"shirt\"), which can be sometimes confused by the network and interpreted as class 0 (\"t-shirt\") and vice versa. "
      ],
      "metadata": {
        "id": "3dzzv_oOlTrz"
      }
    },
    {
      "cell_type": "code",
      "execution_count": null,
      "metadata": {
        "colab": {
          "base_uri": "https://localhost:8080/",
          "height": 516
        },
        "id": "LZg0lrDITDcj",
        "outputId": "2cb70cc3-e644-445d-c9df-bd1dc542618b"
      },
      "outputs": [
        {
          "data": {
            "image/png": "[encoded data removed]",
            "text/plain": [
              "<Figure size 648x504 with 2 Axes>"
            ]
          },
          "metadata": {
            "needs_background": "light"
          },
          "output_type": "display_data"
        }
      ],
      "source": [
        "#best_params = ChainMap(best_arch_params,best_learn_params)\n",
        "plot_confusion_matrix(NN,test_dataloader,test_dataset,best_params)"
      ]
    },
    {
      "cell_type": "markdown",
      "metadata": {
        "id": "HFhJgPtfTDcj"
      },
      "source": [
        "## 2.8) Visualization\n",
        "\n",
        "The last section of the notebook is dedicated to visualize the main features of the Convolutional Neural Network."
      ]
    },
    {
      "cell_type": "markdown",
      "metadata": {
        "id": "UWq5R7xxTDcj"
      },
      "source": [
        "### 2.8.1) Weight Histograms\n",
        "\n",
        "Here's the representation of the distribution of the weights in the first and second linear layers.\n",
        "\n"
      ]
    },
    {
      "cell_type": "code",
      "execution_count": 29,
      "metadata": {
        "id": "iq70QxTwzFRy",
        "outputId": "cf032f5a-fe1f-44cb-a67c-f7e55e1db090",
        "colab": {
          "base_uri": "https://localhost:8080/",
          "height": 337
        }
      },
      "outputs": [
        {
          "output_type": "display_data",
          "data": {
            "text/plain": [
              "<Figure size 1440x1080 with 2 Axes>"
            ],
            "image/png": "[encoded data removed]"
          },
          "metadata": {
            "needs_background": "light"
          }
        }
      ],
      "source": [
        "#First linear layer\n",
        "weights_fc1 = NN.linear[0].weight.data.cpu().numpy().flatten()\n",
        "#Second linear layer\n",
        "weights_fc2 = NN.linear[2].weight.data.cpu().numpy().flatten()\n",
        "\n",
        "# Weights histogram\n",
        "plt.figure(figsize=(20, 15))\n",
        "plt.subplot(311)\n",
        "plt.hist(weights_fc1, 20)\n",
        "plt.ylabel('Events',fontsize=20)\n",
        "plt.xlim(-2,2)\n",
        "plt.title(\"First Linear Layer\",fontsize=30)\n",
        "plt.subplot(312)\n",
        "plt.title(\"Second Linear Layer\",fontsize=30)\n",
        "plt.hist(weights_fc2, 50)\n",
        "plt.ylabel('Events',fontsize=20)\n",
        "plt.xlabel('Weights',fontsize=20)\n",
        "plt.xlim(-2,2)\n",
        "plt.show()"
      ]
    },
    {
      "cell_type": "markdown",
      "metadata": {
        "id": "6jSJnFepTDcj"
      },
      "source": [
        "### 2.8.2) Activation Profiles\n",
        "\n",
        "Visualizing the Activation profiles is a useful exercise to have a feeling about the level of information available at different depths in the Neural Network.\n",
        "\n",
        "As we can see from the images below, at the first convolutional layer we can still recognize the shapes of the input object and its different features. The more we go deep into the NN structure, the less the images are human readable.\n",
        "\n",
        "This is due to the fact that each convolutional layer is in some way \"summarizing\" the previous layer informations by scanning the images with different kernels."
      ]
    },
    {
      "cell_type": "code",
      "execution_count": 30,
      "metadata": {
        "id": "1tJk8dNrzFRz",
        "outputId": "b9c1c2ed-b1c9-47e5-e645-355deff86cca",
        "colab": {
          "base_uri": "https://localhost:8080/",
          "height": 197
        }
      },
      "outputs": [
        {
          "output_type": "display_data",
          "data": {
            "text/plain": [
              "<Figure size 1440x360 with 18 Axes>"
            ],
            "image/png": "[encoded data removed]"
          },
          "metadata": {
            "needs_background": "light"
          }
        }
      ],
      "source": [
        "def get_activation(layer, input, output):\n",
        "    global activation\n",
        "    activation = torch.relu(output)\n",
        "\n",
        "### Register hook  \n",
        "hook_handle_conv1 = NN.conv[0].register_forward_hook(get_activation)\n",
        "\n",
        "### Analyze activations\n",
        "NN.to(device).eval()\n",
        "inputs = torch.utils.data.DataLoader(test_dataset, batch_size = 1, shuffle = True)\n",
        "\n",
        "with torch.no_grad():\n",
        "    for inp in inputs:\n",
        "        x_batch = inp[0].to(device)\n",
        "        y = NN(x_batch)\n",
        "        out = activation\n",
        "\n",
        "conv1_act = out.cpu().numpy()\n",
        "\n",
        "\n",
        "hook_handle_conv1.remove()\n",
        "\n",
        "plt.figure(figsize=(20,5))\n",
        "for i in range(18):\n",
        "    plt.subplot(2,9,i+1)\n",
        "    plt.imshow(conv1_act[0,i,:,:], cmap='Greys')\n",
        "plt.suptitle('First convolutional layer activation profiles', size=16)\n",
        "plt.show()"
      ]
    },
    {
      "cell_type": "code",
      "execution_count": 31,
      "metadata": {
        "id": "VSwvvr2bzFRz",
        "outputId": "fc9f08aa-0224-4647-a3bc-f38ccd86ea34",
        "colab": {
          "base_uri": "https://localhost:8080/",
          "height": 197
        }
      },
      "outputs": [
        {
          "output_type": "display_data",
          "data": {
            "text/plain": [
              "<Figure size 1440x360 with 18 Axes>"
            ],
            "image/png": "[encoded data removed]"
          },
          "metadata": {
            "needs_background": "light"
          }
        }
      ],
      "source": [
        "### Register hook  \n",
        "hook_handle_conv2 = NN.conv[2].register_forward_hook(get_activation)\n",
        "\n",
        "### Analyze activations\n",
        "NN.to(device).eval()\n",
        "inputs = torch.utils.data.DataLoader(test_dataset, batch_size = 1, shuffle = True)\n",
        "\n",
        "with torch.no_grad():\n",
        "    for inp in inputs:\n",
        "        x_batch = inp[0].to(device)\n",
        "        y = NN(x_batch)\n",
        "        out = activation\n",
        "\n",
        "conv2_act = out.cpu().numpy()\n",
        "\n",
        "\n",
        "hook_handle_conv2.remove()\n",
        "\n",
        "plt.figure(figsize=(20,5))\n",
        "for i in range(18):\n",
        "    plt.subplot(2,9,i+1)\n",
        "    plt.imshow(conv2_act[0,i,:,:], cmap='Greys')\n",
        "plt.suptitle('Second convolutional layer activation profiles', size=16)\n",
        "plt.show()"
      ]
    },
    {
      "cell_type": "code",
      "execution_count": 32,
      "metadata": {
        "id": "efLm0lBWzFRz",
        "outputId": "c787331f-8b9f-4152-91ab-7672494f7948",
        "colab": {
          "base_uri": "https://localhost:8080/",
          "height": 197
        }
      },
      "outputs": [
        {
          "output_type": "display_data",
          "data": {
            "text/plain": [
              "<Figure size 1440x360 with 18 Axes>"
            ],
            "image/png": "[encoded data removed]"
          },
          "metadata": {
            "needs_background": "light"
          }
        }
      ],
      "source": [
        "### Register hook  \n",
        "hook_handle_conv3 = NN.conv[4].register_forward_hook(get_activation)\n",
        "\n",
        "### Analyze activations\n",
        "NN.to(device).eval()\n",
        "inputs = torch.utils.data.DataLoader(test_dataset, batch_size = 1, shuffle = True)\n",
        "\n",
        "with torch.no_grad():\n",
        "    for inp in inputs:\n",
        "        x_batch = inp[0].to(device)\n",
        "        y = NN(x_batch)\n",
        "        out = activation\n",
        "\n",
        "conv3_act = out.cpu().numpy()\n",
        "\n",
        "\n",
        "hook_handle_conv3.remove()\n",
        "\n",
        "plt.figure(figsize=(20,5))\n",
        "for i in range(18):\n",
        "    plt.subplot(2,9,i+1)\n",
        "    plt.imshow(conv3_act[0,i,:,:], cmap='Greys')\n",
        "plt.suptitle('Third convolutional layer activation profiles', size=16)\n",
        "plt.show()"
      ]
    },
    {
      "cell_type": "markdown",
      "metadata": {
        "id": "v0oWl6tkTDcj"
      },
      "source": [
        "### 2.8.3) Receptive Fields\n",
        "\n",
        "In the below figures, the shapes of the different filters applied at each convolutional layer are reported."
      ]
    },
    {
      "cell_type": "code",
      "execution_count": null,
      "metadata": {
        "id": "Dyo4HkOuzFR0",
        "outputId": "c6a91b79-edaa-4601-ae79-c61bc2ece3f6"
      },
      "outputs": [
        {
          "data": {
            "image/png": "[encoded data removed]",
            "text/plain": [
              "<Figure size 1440x360 with 20 Axes>"
            ]
          },
          "metadata": {
            "needs_background": "light"
          },
          "output_type": "display_data"
        },
        {
          "data": {
            "image/png": "[encoded data removed]",
            "text/plain": [
              "<Figure size 1440x360 with 20 Axes>"
            ]
          },
          "metadata": {
            "needs_background": "light"
          },
          "output_type": "display_data"
        },
        {
          "data": {
            "image/png": "[encoded data removed]",
            "text/plain": [
              "<Figure size 1440x360 with 20 Axes>"
            ]
          },
          "metadata": {
            "needs_background": "light"
          },
          "output_type": "display_data"
        }
      ],
      "source": [
        "#First convolutional layer\n",
        "weights_conv1 = NN.conv[0].weight.data.cpu().numpy()\n",
        "\n",
        "plt.figure(figsize=(20,5))\n",
        "for i in range(20):\n",
        "    plt.subplot(2,10,i+1)\n",
        "    plt.imshow(weights_conv1[i, 0, :, :], cmap='Greys')\n",
        "    plt.axis('off')\n",
        "plt.suptitle('First convolutional layer filters',size=16)\n",
        "plt.show()\n",
        "    \n",
        "#Second convolutional layer\n",
        "weights_conv2 = NN.conv[2].weight.data.cpu().numpy()\n",
        "\n",
        "plt.figure(figsize=(20,5))\n",
        "for i in range(20):\n",
        "    plt.subplot(2,10,i+1)\n",
        "    plt.imshow(weights_conv2[i, 0, :, :], cmap='Greys')\n",
        "    plt.axis('off')\n",
        "plt.suptitle('Second convolutional layer filters',size=16)\n",
        "plt.show()\n",
        "\n",
        "#Third convolutional layer\n",
        "weights_conv3 = NN.conv[4].weight.data.cpu().numpy()\n",
        "\n",
        "plt.figure(figsize=(20,5))\n",
        "for i in range(20):\n",
        "    plt.subplot(2,10,i+1)\n",
        "    plt.imshow(weights_conv3[i, 0, :, :], cmap='Greys')\n",
        "    plt.axis('off')\n",
        "plt.suptitle('Third convolutional layer filters',size=16)\n",
        "plt.show()"
      ]
    },
    {
      "cell_type": "code",
      "execution_count": null,
      "metadata": {
        "id": "JPrWKdZMTDcp"
      },
      "outputs": [],
      "source": [
        ""
      ]
    }
  ],
  "metadata": {
    "accelerator": "GPU",
    "colab": {
      "collapsed_sections": [],
      "name": "Classification_final.ipynb",
      "provenance": [],
      "toc_visible": true
    },
    "gpuClass": "standard",
    "kernelspec": {
      "display_name": "Python 3",
      "language": "python",
      "name": "python3"
    },
    "language_info": {
      "codemirror_mode": {
        "name": "ipython",
        "version": 3
      },
      "file_extension": ".py",
      "mimetype": "text/x-python",
      "name": "python",
      "nbconvert_exporter": "python",
      "pygments_lexer": "ipython3",
      "version": "3.7.6"
    },
    "widgets": {
      "application/vnd.jupyter.widget-state+json": {
        "0e5a1793c0644484b5a311db975837b8": {
          "model_module": "@jupyter-widgets/base",
          "model_module_version": "1.2.0",
          "model_name": "LayoutModel",
          "state": {
            "_model_module": "@jupyter-widgets/base",
            "_model_module_version": "1.2.0",
            "_model_name": "LayoutModel",
            "_view_count": null,
            "_view_module": "@jupyter-widgets/base",
            "_view_module_version": "1.2.0",
            "_view_name": "LayoutView",
            "align_content": null,
            "align_items": null,
            "align_self": null,
            "border": null,
            "bottom": null,
            "display": null,
            "flex": null,
            "flex_flow": null,
            "grid_area": null,
            "grid_auto_columns": null,
            "grid_auto_flow": null,
            "grid_auto_rows": null,
            "grid_column": null,
            "grid_gap": null,
            "grid_row": null,
            "grid_template_areas": null,
            "grid_template_columns": null,
            "grid_template_rows": null,
            "height": null,
            "justify_content": null,
            "justify_items": null,
            "left": null,
            "margin": null,
            "max_height": null,
            "max_width": null,
            "min_height": null,
            "min_width": null,
            "object_fit": null,
            "object_position": null,
            "order": null,
            "overflow": null,
            "overflow_x": null,
            "overflow_y": null,
            "padding": null,
            "right": null,
            "top": null,
            "visibility": null,
            "width": null
          }
        },
        "1a5e917e5040476ea2ce85d910b97373": {
          "model_module": "@jupyter-widgets/controls",
          "model_module_version": "1.5.0",
          "model_name": "HTMLModel",
          "state": {
            "_dom_classes": [],
            "_model_module": "@jupyter-widgets/controls",
            "_model_module_version": "1.5.0",
            "_model_name": "HTMLModel",
            "_view_count": null,
            "_view_module": "@jupyter-widgets/controls",
            "_view_module_version": "1.5.0",
            "_view_name": "HTMLView",
            "description": "",
            "description_tooltip": null,
            "layout": "IPY_MODEL_0e5a1793c0644484b5a311db975837b8",
            "placeholder": "​",
            "style": "IPY_MODEL_33c80bc035564ee4b850fb213692093b",
            "value": "100%"
          }
        },
        "1b2f955de2754a6bb0ec3de85fed812f": {
          "model_module": "@jupyter-widgets/base",
          "model_module_version": "1.2.0",
          "model_name": "LayoutModel",
          "state": {
            "_model_module": "@jupyter-widgets/base",
            "_model_module_version": "1.2.0",
            "_model_name": "LayoutModel",
            "_view_count": null,
            "_view_module": "@jupyter-widgets/base",
            "_view_module_version": "1.2.0",
            "_view_name": "LayoutView",
            "align_content": null,
            "align_items": null,
            "align_self": null,
            "border": null,
            "bottom": null,
            "display": null,
            "flex": null,
            "flex_flow": null,
            "grid_area": null,
            "grid_auto_columns": null,
            "grid_auto_flow": null,
            "grid_auto_rows": null,
            "grid_column": null,
            "grid_gap": null,
            "grid_row": null,
            "grid_template_areas": null,
            "grid_template_columns": null,
            "grid_template_rows": null,
            "height": null,
            "justify_content": null,
            "justify_items": null,
            "left": null,
            "margin": null,
            "max_height": null,
            "max_width": null,
            "min_height": null,
            "min_width": null,
            "object_fit": null,
            "object_position": null,
            "order": null,
            "overflow": null,
            "overflow_x": null,
            "overflow_y": null,
            "padding": null,
            "right": null,
            "top": null,
            "visibility": null,
            "width": null
          }
        },
        "33c80bc035564ee4b850fb213692093b": {
          "model_module": "@jupyter-widgets/controls",
          "model_module_version": "1.5.0",
          "model_name": "DescriptionStyleModel",
          "state": {
            "_model_module": "@jupyter-widgets/controls",
            "_model_module_version": "1.5.0",
            "_model_name": "DescriptionStyleModel",
            "_view_count": null,
            "_view_module": "@jupyter-widgets/base",
            "_view_module_version": "1.2.0",
            "_view_name": "StyleView",
            "description_width": ""
          }
        },
        "4e8a67ad507741fa9aaf6cd98482d853": {
          "model_module": "@jupyter-widgets/controls",
          "model_module_version": "1.5.0",
          "model_name": "HBoxModel",
          "state": {
            "_dom_classes": [],
            "_model_module": "@jupyter-widgets/controls",
            "_model_module_version": "1.5.0",
            "_model_name": "HBoxModel",
            "_view_count": null,
            "_view_module": "@jupyter-widgets/controls",
            "_view_module_version": "1.5.0",
            "_view_name": "HBoxView",
            "box_style": "",
            "children": [
              "IPY_MODEL_1a5e917e5040476ea2ce85d910b97373",
              "IPY_MODEL_9600caf709464e08baac2aaaf08a9ebe",
              "IPY_MODEL_c057cc677acb44a2bc84f518d8f46906"
            ],
            "layout": "IPY_MODEL_c7e7b21cf3c646a59c0e1720396fe34e"
          }
        },
        "62d1be8de23442178f1443d41808e34e": {
          "model_module": "@jupyter-widgets/controls",
          "model_module_version": "1.5.0",
          "model_name": "ProgressStyleModel",
          "state": {
            "_model_module": "@jupyter-widgets/controls",
            "_model_module_version": "1.5.0",
            "_model_name": "ProgressStyleModel",
            "_view_count": null,
            "_view_module": "@jupyter-widgets/base",
            "_view_module_version": "1.2.0",
            "_view_name": "StyleView",
            "bar_color": null,
            "description_width": ""
          }
        },
        "9600caf709464e08baac2aaaf08a9ebe": {
          "model_module": "@jupyter-widgets/controls",
          "model_module_version": "1.5.0",
          "model_name": "FloatProgressModel",
          "state": {
            "_dom_classes": [],
            "_model_module": "@jupyter-widgets/controls",
            "_model_module_version": "1.5.0",
            "_model_name": "FloatProgressModel",
            "_view_count": null,
            "_view_module": "@jupyter-widgets/controls",
            "_view_module_version": "1.5.0",
            "_view_name": "ProgressView",
            "bar_style": "success",
            "description": "",
            "description_tooltip": null,
            "layout": "IPY_MODEL_1b2f955de2754a6bb0ec3de85fed812f",
            "max": 15,
            "min": 0,
            "orientation": "horizontal",
            "style": "IPY_MODEL_62d1be8de23442178f1443d41808e34e",
            "value": 15
          }
        },
        "99da7332a9b14cc6b024dfdb1f705d99": {
          "model_module": "@jupyter-widgets/controls",
          "model_module_version": "1.5.0",
          "model_name": "DescriptionStyleModel",
          "state": {
            "_model_module": "@jupyter-widgets/controls",
            "_model_module_version": "1.5.0",
            "_model_name": "DescriptionStyleModel",
            "_view_count": null,
            "_view_module": "@jupyter-widgets/base",
            "_view_module_version": "1.2.0",
            "_view_name": "StyleView",
            "description_width": ""
          }
        },
        "9b79041f39b2423a9396e9e2c763853d": {
          "model_module": "@jupyter-widgets/base",
          "model_module_version": "1.2.0",
          "model_name": "LayoutModel",
          "state": {
            "_model_module": "@jupyter-widgets/base",
            "_model_module_version": "1.2.0",
            "_model_name": "LayoutModel",
            "_view_count": null,
            "_view_module": "@jupyter-widgets/base",
            "_view_module_version": "1.2.0",
            "_view_name": "LayoutView",
            "align_content": null,
            "align_items": null,
            "align_self": null,
            "border": null,
            "bottom": null,
            "display": null,
            "flex": null,
            "flex_flow": null,
            "grid_area": null,
            "grid_auto_columns": null,
            "grid_auto_flow": null,
            "grid_auto_rows": null,
            "grid_column": null,
            "grid_gap": null,
            "grid_row": null,
            "grid_template_areas": null,
            "grid_template_columns": null,
            "grid_template_rows": null,
            "height": null,
            "justify_content": null,
            "justify_items": null,
            "left": null,
            "margin": null,
            "max_height": null,
            "max_width": null,
            "min_height": null,
            "min_width": null,
            "object_fit": null,
            "object_position": null,
            "order": null,
            "overflow": null,
            "overflow_x": null,
            "overflow_y": null,
            "padding": null,
            "right": null,
            "top": null,
            "visibility": null,
            "width": null
          }
        },
        "c057cc677acb44a2bc84f518d8f46906": {
          "model_module": "@jupyter-widgets/controls",
          "model_module_version": "1.5.0",
          "model_name": "HTMLModel",
          "state": {
            "_dom_classes": [],
            "_model_module": "@jupyter-widgets/controls",
            "_model_module_version": "1.5.0",
            "_model_name": "HTMLModel",
            "_view_count": null,
            "_view_module": "@jupyter-widgets/controls",
            "_view_module_version": "1.5.0",
            "_view_name": "HTMLView",
            "description": "",
            "description_tooltip": null,
            "layout": "IPY_MODEL_9b79041f39b2423a9396e9e2c763853d",
            "placeholder": "​",
            "style": "IPY_MODEL_99da7332a9b14cc6b024dfdb1f705d99",
            "value": " 15/15 [19:01&lt;00:00, 66.05s/it]"
          }
        },
        "c7e7b21cf3c646a59c0e1720396fe34e": {
          "model_module": "@jupyter-widgets/base",
          "model_module_version": "1.2.0",
          "model_name": "LayoutModel",
          "state": {
            "_model_module": "@jupyter-widgets/base",
            "_model_module_version": "1.2.0",
            "_model_name": "LayoutModel",
            "_view_count": null,
            "_view_module": "@jupyter-widgets/base",
            "_view_module_version": "1.2.0",
            "_view_name": "LayoutView",
            "align_content": null,
            "align_items": null,
            "align_self": null,
            "border": null,
            "bottom": null,
            "display": null,
            "flex": null,
            "flex_flow": null,
            "grid_area": null,
            "grid_auto_columns": null,
            "grid_auto_flow": null,
            "grid_auto_rows": null,
            "grid_column": null,
            "grid_gap": null,
            "grid_row": null,
            "grid_template_areas": null,
            "grid_template_columns": null,
            "grid_template_rows": null,
            "height": null,
            "justify_content": null,
            "justify_items": null,
            "left": null,
            "margin": null,
            "max_height": null,
            "max_width": null,
            "min_height": null,
            "min_width": null,
            "object_fit": null,
            "object_position": null,
            "order": null,
            "overflow": null,
            "overflow_x": null,
            "overflow_y": null,
            "padding": null,
            "right": null,
            "top": null,
            "visibility": null,
            "width": null
          }
        },
        "c7d5df6290b244baa6db01ce790dd822": {
          "model_module": "@jupyter-widgets/controls",
          "model_name": "HBoxModel",
          "model_module_version": "1.5.0",
          "state": {
            "_dom_classes": [],
            "_model_module": "@jupyter-widgets/controls",
            "_model_module_version": "1.5.0",
            "_model_name": "HBoxModel",
            "_view_count": null,
            "_view_module": "@jupyter-widgets/controls",
            "_view_module_version": "1.5.0",
            "_view_name": "HBoxView",
            "box_style": "",
            "children": [
              "IPY_MODEL_68b3b4213b54490e93e34ca778dd6941",
              "IPY_MODEL_b303990636fe491092d1ad88e9888856",
              "IPY_MODEL_f63a6307441b4fbda32a398f595245b5"
            ],
            "layout": "IPY_MODEL_12d6188539bd40ef80a32558476ddb74"
          }
        },
        "68b3b4213b54490e93e34ca778dd6941": {
          "model_module": "@jupyter-widgets/controls",
          "model_name": "HTMLModel",
          "model_module_version": "1.5.0",
          "state": {
            "_dom_classes": [],
            "_model_module": "@jupyter-widgets/controls",
            "_model_module_version": "1.5.0",
            "_model_name": "HTMLModel",
            "_view_count": null,
            "_view_module": "@jupyter-widgets/controls",
            "_view_module_version": "1.5.0",
            "_view_name": "HTMLView",
            "description": "",
            "description_tooltip": null,
            "layout": "IPY_MODEL_9be05849ea7041868369995d3e2c2679",
            "placeholder": "​",
            "style": "IPY_MODEL_040bc90f06dc4a8e98cc1edf269d7fa2",
            "value": "100%"
          }
        },
        "b303990636fe491092d1ad88e9888856": {
          "model_module": "@jupyter-widgets/controls",
          "model_name": "FloatProgressModel",
          "model_module_version": "1.5.0",
          "state": {
            "_dom_classes": [],
            "_model_module": "@jupyter-widgets/controls",
            "_model_module_version": "1.5.0",
            "_model_name": "FloatProgressModel",
            "_view_count": null,
            "_view_module": "@jupyter-widgets/controls",
            "_view_module_version": "1.5.0",
            "_view_name": "ProgressView",
            "bar_style": "success",
            "description": "",
            "description_tooltip": null,
            "layout": "IPY_MODEL_15e6958d16f94ad5a043308488242e00",
            "max": 26421880,
            "min": 0,
            "orientation": "horizontal",
            "style": "IPY_MODEL_2c7cd54b56cb44efb279796c14f0985d",
            "value": 26421880
          }
        },
        "f63a6307441b4fbda32a398f595245b5": {
          "model_module": "@jupyter-widgets/controls",
          "model_name": "HTMLModel",
          "model_module_version": "1.5.0",
          "state": {
            "_dom_classes": [],
            "_model_module": "@jupyter-widgets/controls",
            "_model_module_version": "1.5.0",
            "_model_name": "HTMLModel",
            "_view_count": null,
            "_view_module": "@jupyter-widgets/controls",
            "_view_module_version": "1.5.0",
            "_view_name": "HTMLView",
            "description": "",
            "description_tooltip": null,
            "layout": "IPY_MODEL_c7f98fd90b25406cbe26c29a404ee1c9",
            "placeholder": "​",
            "style": "IPY_MODEL_951c91f1bdfd47e48b8c4a4986f891be",
            "value": " 26421880/26421880 [00:00&lt;00:00, 128341683.97it/s]"
          }
        },
        "12d6188539bd40ef80a32558476ddb74": {
          "model_module": "@jupyter-widgets/base",
          "model_name": "LayoutModel",
          "model_module_version": "1.2.0",
          "state": {
            "_model_module": "@jupyter-widgets/base",
            "_model_module_version": "1.2.0",
            "_model_name": "LayoutModel",
            "_view_count": null,
            "_view_module": "@jupyter-widgets/base",
            "_view_module_version": "1.2.0",
            "_view_name": "LayoutView",
            "align_content": null,
            "align_items": null,
            "align_self": null,
            "border": null,
            "bottom": null,
            "display": null,
            "flex": null,
            "flex_flow": null,
            "grid_area": null,
            "grid_auto_columns": null,
            "grid_auto_flow": null,
            "grid_auto_rows": null,
            "grid_column": null,
            "grid_gap": null,
            "grid_row": null,
            "grid_template_areas": null,
            "grid_template_columns": null,
            "grid_template_rows": null,
            "height": null,
            "justify_content": null,
            "justify_items": null,
            "left": null,
            "margin": null,
            "max_height": null,
            "max_width": null,
            "min_height": null,
            "min_width": null,
            "object_fit": null,
            "object_position": null,
            "order": null,
            "overflow": null,
            "overflow_x": null,
            "overflow_y": null,
            "padding": null,
            "right": null,
            "top": null,
            "visibility": null,
            "width": null
          }
        },
        "9be05849ea7041868369995d3e2c2679": {
          "model_module": "@jupyter-widgets/base",
          "model_name": "LayoutModel",
          "model_module_version": "1.2.0",
          "state": {
            "_model_module": "@jupyter-widgets/base",
            "_model_module_version": "1.2.0",
            "_model_name": "LayoutModel",
            "_view_count": null,
            "_view_module": "@jupyter-widgets/base",
            "_view_module_version": "1.2.0",
            "_view_name": "LayoutView",
            "align_content": null,
            "align_items": null,
            "align_self": null,
            "border": null,
            "bottom": null,
            "display": null,
            "flex": null,
            "flex_flow": null,
            "grid_area": null,
            "grid_auto_columns": null,
            "grid_auto_flow": null,
            "grid_auto_rows": null,
            "grid_column": null,
            "grid_gap": null,
            "grid_row": null,
            "grid_template_areas": null,
            "grid_template_columns": null,
            "grid_template_rows": null,
            "height": null,
            "justify_content": null,
            "justify_items": null,
            "left": null,
            "margin": null,
            "max_height": null,
            "max_width": null,
            "min_height": null,
            "min_width": null,
            "object_fit": null,
            "object_position": null,
            "order": null,
            "overflow": null,
            "overflow_x": null,
            "overflow_y": null,
            "padding": null,
            "right": null,
            "top": null,
            "visibility": null,
            "width": null
          }
        },
        "040bc90f06dc4a8e98cc1edf269d7fa2": {
          "model_module": "@jupyter-widgets/controls",
          "model_name": "DescriptionStyleModel",
          "model_module_version": "1.5.0",
          "state": {
            "_model_module": "@jupyter-widgets/controls",
            "_model_module_version": "1.5.0",
            "_model_name": "DescriptionStyleModel",
            "_view_count": null,
            "_view_module": "@jupyter-widgets/base",
            "_view_module_version": "1.2.0",
            "_view_name": "StyleView",
            "description_width": ""
          }
        },
        "15e6958d16f94ad5a043308488242e00": {
          "model_module": "@jupyter-widgets/base",
          "model_name": "LayoutModel",
          "model_module_version": "1.2.0",
          "state": {
            "_model_module": "@jupyter-widgets/base",
            "_model_module_version": "1.2.0",
            "_model_name": "LayoutModel",
            "_view_count": null,
            "_view_module": "@jupyter-widgets/base",
            "_view_module_version": "1.2.0",
            "_view_name": "LayoutView",
            "align_content": null,
            "align_items": null,
            "align_self": null,
            "border": null,
            "bottom": null,
            "display": null,
            "flex": null,
            "flex_flow": null,
            "grid_area": null,
            "grid_auto_columns": null,
            "grid_auto_flow": null,
            "grid_auto_rows": null,
            "grid_column": null,
            "grid_gap": null,
            "grid_row": null,
            "grid_template_areas": null,
            "grid_template_columns": null,
            "grid_template_rows": null,
            "height": null,
            "justify_content": null,
            "justify_items": null,
            "left": null,
            "margin": null,
            "max_height": null,
            "max_width": null,
            "min_height": null,
            "min_width": null,
            "object_fit": null,
            "object_position": null,
            "order": null,
            "overflow": null,
            "overflow_x": null,
            "overflow_y": null,
            "padding": null,
            "right": null,
            "top": null,
            "visibility": null,
            "width": null
          }
        },
        "2c7cd54b56cb44efb279796c14f0985d": {
          "model_module": "@jupyter-widgets/controls",
          "model_name": "ProgressStyleModel",
          "model_module_version": "1.5.0",
          "state": {
            "_model_module": "@jupyter-widgets/controls",
            "_model_module_version": "1.5.0",
            "_model_name": "ProgressStyleModel",
            "_view_count": null,
            "_view_module": "@jupyter-widgets/base",
            "_view_module_version": "1.2.0",
            "_view_name": "StyleView",
            "bar_color": null,
            "description_width": ""
          }
        },
        "c7f98fd90b25406cbe26c29a404ee1c9": {
          "model_module": "@jupyter-widgets/base",
          "model_name": "LayoutModel",
          "model_module_version": "1.2.0",
          "state": {
            "_model_module": "@jupyter-widgets/base",
            "_model_module_version": "1.2.0",
            "_model_name": "LayoutModel",
            "_view_count": null,
            "_view_module": "@jupyter-widgets/base",
            "_view_module_version": "1.2.0",
            "_view_name": "LayoutView",
            "align_content": null,
            "align_items": null,
            "align_self": null,
            "border": null,
            "bottom": null,
            "display": null,
            "flex": null,
            "flex_flow": null,
            "grid_area": null,
            "grid_auto_columns": null,
            "grid_auto_flow": null,
            "grid_auto_rows": null,
            "grid_column": null,
            "grid_gap": null,
            "grid_row": null,
            "grid_template_areas": null,
            "grid_template_columns": null,
            "grid_template_rows": null,
            "height": null,
            "justify_content": null,
            "justify_items": null,
            "left": null,
            "margin": null,
            "max_height": null,
            "max_width": null,
            "min_height": null,
            "min_width": null,
            "object_fit": null,
            "object_position": null,
            "order": null,
            "overflow": null,
            "overflow_x": null,
            "overflow_y": null,
            "padding": null,
            "right": null,
            "top": null,
            "visibility": null,
            "width": null
          }
        },
        "951c91f1bdfd47e48b8c4a4986f891be": {
          "model_module": "@jupyter-widgets/controls",
          "model_name": "DescriptionStyleModel",
          "model_module_version": "1.5.0",
          "state": {
            "_model_module": "@jupyter-widgets/controls",
            "_model_module_version": "1.5.0",
            "_model_name": "DescriptionStyleModel",
            "_view_count": null,
            "_view_module": "@jupyter-widgets/base",
            "_view_module_version": "1.2.0",
            "_view_name": "StyleView",
            "description_width": ""
          }
        },
        "b76a27c458ab4b99a59cc9a559198eec": {
          "model_module": "@jupyter-widgets/controls",
          "model_name": "HBoxModel",
          "model_module_version": "1.5.0",
          "state": {
            "_dom_classes": [],
            "_model_module": "@jupyter-widgets/controls",
            "_model_module_version": "1.5.0",
            "_model_name": "HBoxModel",
            "_view_count": null,
            "_view_module": "@jupyter-widgets/controls",
            "_view_module_version": "1.5.0",
            "_view_name": "HBoxView",
            "box_style": "",
            "children": [
              "IPY_MODEL_10ad9731f25346fc8cd8557aa893d7d0",
              "IPY_MODEL_c124c649733d4b0b8d4c4be88c2d974e",
              "IPY_MODEL_91e078cfd17f4165835df8570f8bb474"
            ],
            "layout": "IPY_MODEL_de43d93401ce4d58a7dd8b407f67f4a1"
          }
        },
        "10ad9731f25346fc8cd8557aa893d7d0": {
          "model_module": "@jupyter-widgets/controls",
          "model_name": "HTMLModel",
          "model_module_version": "1.5.0",
          "state": {
            "_dom_classes": [],
            "_model_module": "@jupyter-widgets/controls",
            "_model_module_version": "1.5.0",
            "_model_name": "HTMLModel",
            "_view_count": null,
            "_view_module": "@jupyter-widgets/controls",
            "_view_module_version": "1.5.0",
            "_view_name": "HTMLView",
            "description": "",
            "description_tooltip": null,
            "layout": "IPY_MODEL_6a20c3554f504d8591e01241b11b2368",
            "placeholder": "​",
            "style": "IPY_MODEL_931b2f3132be4b03b52b472df0e5c1bd",
            "value": "100%"
          }
        },
        "c124c649733d4b0b8d4c4be88c2d974e": {
          "model_module": "@jupyter-widgets/controls",
          "model_name": "FloatProgressModel",
          "model_module_version": "1.5.0",
          "state": {
            "_dom_classes": [],
            "_model_module": "@jupyter-widgets/controls",
            "_model_module_version": "1.5.0",
            "_model_name": "FloatProgressModel",
            "_view_count": null,
            "_view_module": "@jupyter-widgets/controls",
            "_view_module_version": "1.5.0",
            "_view_name": "ProgressView",
            "bar_style": "success",
            "description": "",
            "description_tooltip": null,
            "layout": "IPY_MODEL_3cc160b95d4749298258fcec809d5b28",
            "max": 29515,
            "min": 0,
            "orientation": "horizontal",
            "style": "IPY_MODEL_de5fc6a1bf35419caa8c8c8cf0af3be1",
            "value": 29515
          }
        },
        "91e078cfd17f4165835df8570f8bb474": {
          "model_module": "@jupyter-widgets/controls",
          "model_name": "HTMLModel",
          "model_module_version": "1.5.0",
          "state": {
            "_dom_classes": [],
            "_model_module": "@jupyter-widgets/controls",
            "_model_module_version": "1.5.0",
            "_model_name": "HTMLModel",
            "_view_count": null,
            "_view_module": "@jupyter-widgets/controls",
            "_view_module_version": "1.5.0",
            "_view_name": "HTMLView",
            "description": "",
            "description_tooltip": null,
            "layout": "IPY_MODEL_4cbd89b2f1a24f369a9a556c76551a66",
            "placeholder": "​",
            "style": "IPY_MODEL_46afe2b87c9b40b8ab68efcba8a7e20c",
            "value": " 29515/29515 [00:00&lt;00:00, 786383.71it/s]"
          }
        },
        "de43d93401ce4d58a7dd8b407f67f4a1": {
          "model_module": "@jupyter-widgets/base",
          "model_name": "LayoutModel",
          "model_module_version": "1.2.0",
          "state": {
            "_model_module": "@jupyter-widgets/base",
            "_model_module_version": "1.2.0",
            "_model_name": "LayoutModel",
            "_view_count": null,
            "_view_module": "@jupyter-widgets/base",
            "_view_module_version": "1.2.0",
            "_view_name": "LayoutView",
            "align_content": null,
            "align_items": null,
            "align_self": null,
            "border": null,
            "bottom": null,
            "display": null,
            "flex": null,
            "flex_flow": null,
            "grid_area": null,
            "grid_auto_columns": null,
            "grid_auto_flow": null,
            "grid_auto_rows": null,
            "grid_column": null,
            "grid_gap": null,
            "grid_row": null,
            "grid_template_areas": null,
            "grid_template_columns": null,
            "grid_template_rows": null,
            "height": null,
            "justify_content": null,
            "justify_items": null,
            "left": null,
            "margin": null,
            "max_height": null,
            "max_width": null,
            "min_height": null,
            "min_width": null,
            "object_fit": null,
            "object_position": null,
            "order": null,
            "overflow": null,
            "overflow_x": null,
            "overflow_y": null,
            "padding": null,
            "right": null,
            "top": null,
            "visibility": null,
            "width": null
          }
        },
        "6a20c3554f504d8591e01241b11b2368": {
          "model_module": "@jupyter-widgets/base",
          "model_name": "LayoutModel",
          "model_module_version": "1.2.0",
          "state": {
            "_model_module": "@jupyter-widgets/base",
            "_model_module_version": "1.2.0",
            "_model_name": "LayoutModel",
            "_view_count": null,
            "_view_module": "@jupyter-widgets/base",
            "_view_module_version": "1.2.0",
            "_view_name": "LayoutView",
            "align_content": null,
            "align_items": null,
            "align_self": null,
            "border": null,
            "bottom": null,
            "display": null,
            "flex": null,
            "flex_flow": null,
            "grid_area": null,
            "grid_auto_columns": null,
            "grid_auto_flow": null,
            "grid_auto_rows": null,
            "grid_column": null,
            "grid_gap": null,
            "grid_row": null,
            "grid_template_areas": null,
            "grid_template_columns": null,
            "grid_template_rows": null,
            "height": null,
            "justify_content": null,
            "justify_items": null,
            "left": null,
            "margin": null,
            "max_height": null,
            "max_width": null,
            "min_height": null,
            "min_width": null,
            "object_fit": null,
            "object_position": null,
            "order": null,
            "overflow": null,
            "overflow_x": null,
            "overflow_y": null,
            "padding": null,
            "right": null,
            "top": null,
            "visibility": null,
            "width": null
          }
        },
        "931b2f3132be4b03b52b472df0e5c1bd": {
          "model_module": "@jupyter-widgets/controls",
          "model_name": "DescriptionStyleModel",
          "model_module_version": "1.5.0",
          "state": {
            "_model_module": "@jupyter-widgets/controls",
            "_model_module_version": "1.5.0",
            "_model_name": "DescriptionStyleModel",
            "_view_count": null,
            "_view_module": "@jupyter-widgets/base",
            "_view_module_version": "1.2.0",
            "_view_name": "StyleView",
            "description_width": ""
          }
        },
        "3cc160b95d4749298258fcec809d5b28": {
          "model_module": "@jupyter-widgets/base",
          "model_name": "LayoutModel",
          "model_module_version": "1.2.0",
          "state": {
            "_model_module": "@jupyter-widgets/base",
            "_model_module_version": "1.2.0",
            "_model_name": "LayoutModel",
            "_view_count": null,
            "_view_module": "@jupyter-widgets/base",
            "_view_module_version": "1.2.0",
            "_view_name": "LayoutView",
            "align_content": null,
            "align_items": null,
            "align_self": null,
            "border": null,
            "bottom": null,
            "display": null,
            "flex": null,
            "flex_flow": null,
            "grid_area": null,
            "grid_auto_columns": null,
            "grid_auto_flow": null,
            "grid_auto_rows": null,
            "grid_column": null,
            "grid_gap": null,
            "grid_row": null,
            "grid_template_areas": null,
            "grid_template_columns": null,
            "grid_template_rows": null,
            "height": null,
            "justify_content": null,
            "justify_items": null,
            "left": null,
            "margin": null,
            "max_height": null,
            "max_width": null,
            "min_height": null,
            "min_width": null,
            "object_fit": null,
            "object_position": null,
            "order": null,
            "overflow": null,
            "overflow_x": null,
            "overflow_y": null,
            "padding": null,
            "right": null,
            "top": null,
            "visibility": null,
            "width": null
          }
        },
        "de5fc6a1bf35419caa8c8c8cf0af3be1": {
          "model_module": "@jupyter-widgets/controls",
          "model_name": "ProgressStyleModel",
          "model_module_version": "1.5.0",
          "state": {
            "_model_module": "@jupyter-widgets/controls",
            "_model_module_version": "1.5.0",
            "_model_name": "ProgressStyleModel",
            "_view_count": null,
            "_view_module": "@jupyter-widgets/base",
            "_view_module_version": "1.2.0",
            "_view_name": "StyleView",
            "bar_color": null,
            "description_width": ""
          }
        },
        "4cbd89b2f1a24f369a9a556c76551a66": {
          "model_module": "@jupyter-widgets/base",
          "model_name": "LayoutModel",
          "model_module_version": "1.2.0",
          "state": {
            "_model_module": "@jupyter-widgets/base",
            "_model_module_version": "1.2.0",
            "_model_name": "LayoutModel",
            "_view_count": null,
            "_view_module": "@jupyter-widgets/base",
            "_view_module_version": "1.2.0",
            "_view_name": "LayoutView",
            "align_content": null,
            "align_items": null,
            "align_self": null,
            "border": null,
            "bottom": null,
            "display": null,
            "flex": null,
            "flex_flow": null,
            "grid_area": null,
            "grid_auto_columns": null,
            "grid_auto_flow": null,
            "grid_auto_rows": null,
            "grid_column": null,
            "grid_gap": null,
            "grid_row": null,
            "grid_template_areas": null,
            "grid_template_columns": null,
            "grid_template_rows": null,
            "height": null,
            "justify_content": null,
            "justify_items": null,
            "left": null,
            "margin": null,
            "max_height": null,
            "max_width": null,
            "min_height": null,
            "min_width": null,
            "object_fit": null,
            "object_position": null,
            "order": null,
            "overflow": null,
            "overflow_x": null,
            "overflow_y": null,
            "padding": null,
            "right": null,
            "top": null,
            "visibility": null,
            "width": null
          }
        },
        "46afe2b87c9b40b8ab68efcba8a7e20c": {
          "model_module": "@jupyter-widgets/controls",
          "model_name": "DescriptionStyleModel",
          "model_module_version": "1.5.0",
          "state": {
            "_model_module": "@jupyter-widgets/controls",
            "_model_module_version": "1.5.0",
            "_model_name": "DescriptionStyleModel",
            "_view_count": null,
            "_view_module": "@jupyter-widgets/base",
            "_view_module_version": "1.2.0",
            "_view_name": "StyleView",
            "description_width": ""
          }
        },
        "2760f3ed8d894f468ca5fc7ebcaeee29": {
          "model_module": "@jupyter-widgets/controls",
          "model_name": "HBoxModel",
          "model_module_version": "1.5.0",
          "state": {
            "_dom_classes": [],
            "_model_module": "@jupyter-widgets/controls",
            "_model_module_version": "1.5.0",
            "_model_name": "HBoxModel",
            "_view_count": null,
            "_view_module": "@jupyter-widgets/controls",
            "_view_module_version": "1.5.0",
            "_view_name": "HBoxView",
            "box_style": "",
            "children": [
              "IPY_MODEL_79888dea92fe47c89683234ff498f8be",
              "IPY_MODEL_2fedffc896fb4dc9aa7056d62fd82910",
              "IPY_MODEL_78f758c4ab064663b60be37292097d97"
            ],
            "layout": "IPY_MODEL_50d5345c02434bd9b138822ae0ff0290"
          }
        },
        "79888dea92fe47c89683234ff498f8be": {
          "model_module": "@jupyter-widgets/controls",
          "model_name": "HTMLModel",
          "model_module_version": "1.5.0",
          "state": {
            "_dom_classes": [],
            "_model_module": "@jupyter-widgets/controls",
            "_model_module_version": "1.5.0",
            "_model_name": "HTMLModel",
            "_view_count": null,
            "_view_module": "@jupyter-widgets/controls",
            "_view_module_version": "1.5.0",
            "_view_name": "HTMLView",
            "description": "",
            "description_tooltip": null,
            "layout": "IPY_MODEL_1d5954bd3bb44e10a6251fbc65c1974f",
            "placeholder": "​",
            "style": "IPY_MODEL_853cb0fa3a2247c19b7ad6c50029d0cd",
            "value": "100%"
          }
        },
        "2fedffc896fb4dc9aa7056d62fd82910": {
          "model_module": "@jupyter-widgets/controls",
          "model_name": "FloatProgressModel",
          "model_module_version": "1.5.0",
          "state": {
            "_dom_classes": [],
            "_model_module": "@jupyter-widgets/controls",
            "_model_module_version": "1.5.0",
            "_model_name": "FloatProgressModel",
            "_view_count": null,
            "_view_module": "@jupyter-widgets/controls",
            "_view_module_version": "1.5.0",
            "_view_name": "ProgressView",
            "bar_style": "success",
            "description": "",
            "description_tooltip": null,
            "layout": "IPY_MODEL_798f4e41df46425c9e03d4d3382a2625",
            "max": 4422102,
            "min": 0,
            "orientation": "horizontal",
            "style": "IPY_MODEL_4984de740e38494f9720e1cdd709edf5",
            "value": 4422102
          }
        },
        "78f758c4ab064663b60be37292097d97": {
          "model_module": "@jupyter-widgets/controls",
          "model_name": "HTMLModel",
          "model_module_version": "1.5.0",
          "state": {
            "_dom_classes": [],
            "_model_module": "@jupyter-widgets/controls",
            "_model_module_version": "1.5.0",
            "_model_name": "HTMLModel",
            "_view_count": null,
            "_view_module": "@jupyter-widgets/controls",
            "_view_module_version": "1.5.0",
            "_view_name": "HTMLView",
            "description": "",
            "description_tooltip": null,
            "layout": "IPY_MODEL_9bb33b21fc9841fc82f41e9ca2910927",
            "placeholder": "​",
            "style": "IPY_MODEL_76f0d53e9bfc4599adec9966f895196b",
            "value": " 4422102/4422102 [00:00&lt;00:00, 15754305.49it/s]"
          }
        },
        "50d5345c02434bd9b138822ae0ff0290": {
          "model_module": "@jupyter-widgets/base",
          "model_name": "LayoutModel",
          "model_module_version": "1.2.0",
          "state": {
            "_model_module": "@jupyter-widgets/base",
            "_model_module_version": "1.2.0",
            "_model_name": "LayoutModel",
            "_view_count": null,
            "_view_module": "@jupyter-widgets/base",
            "_view_module_version": "1.2.0",
            "_view_name": "LayoutView",
            "align_content": null,
            "align_items": null,
            "align_self": null,
            "border": null,
            "bottom": null,
            "display": null,
            "flex": null,
            "flex_flow": null,
            "grid_area": null,
            "grid_auto_columns": null,
            "grid_auto_flow": null,
            "grid_auto_rows": null,
            "grid_column": null,
            "grid_gap": null,
            "grid_row": null,
            "grid_template_areas": null,
            "grid_template_columns": null,
            "grid_template_rows": null,
            "height": null,
            "justify_content": null,
            "justify_items": null,
            "left": null,
            "margin": null,
            "max_height": null,
            "max_width": null,
            "min_height": null,
            "min_width": null,
            "object_fit": null,
            "object_position": null,
            "order": null,
            "overflow": null,
            "overflow_x": null,
            "overflow_y": null,
            "padding": null,
            "right": null,
            "top": null,
            "visibility": null,
            "width": null
          }
        },
        "1d5954bd3bb44e10a6251fbc65c1974f": {
          "model_module": "@jupyter-widgets/base",
          "model_name": "LayoutModel",
          "model_module_version": "1.2.0",
          "state": {
            "_model_module": "@jupyter-widgets/base",
            "_model_module_version": "1.2.0",
            "_model_name": "LayoutModel",
            "_view_count": null,
            "_view_module": "@jupyter-widgets/base",
            "_view_module_version": "1.2.0",
            "_view_name": "LayoutView",
            "align_content": null,
            "align_items": null,
            "align_self": null,
            "border": null,
            "bottom": null,
            "display": null,
            "flex": null,
            "flex_flow": null,
            "grid_area": null,
            "grid_auto_columns": null,
            "grid_auto_flow": null,
            "grid_auto_rows": null,
            "grid_column": null,
            "grid_gap": null,
            "grid_row": null,
            "grid_template_areas": null,
            "grid_template_columns": null,
            "grid_template_rows": null,
            "height": null,
            "justify_content": null,
            "justify_items": null,
            "left": null,
            "margin": null,
            "max_height": null,
            "max_width": null,
            "min_height": null,
            "min_width": null,
            "object_fit": null,
            "object_position": null,
            "order": null,
            "overflow": null,
            "overflow_x": null,
            "overflow_y": null,
            "padding": null,
            "right": null,
            "top": null,
            "visibility": null,
            "width": null
          }
        },
        "853cb0fa3a2247c19b7ad6c50029d0cd": {
          "model_module": "@jupyter-widgets/controls",
          "model_name": "DescriptionStyleModel",
          "model_module_version": "1.5.0",
          "state": {
            "_model_module": "@jupyter-widgets/controls",
            "_model_module_version": "1.5.0",
            "_model_name": "DescriptionStyleModel",
            "_view_count": null,
            "_view_module": "@jupyter-widgets/base",
            "_view_module_version": "1.2.0",
            "_view_name": "StyleView",
            "description_width": ""
          }
        },
        "798f4e41df46425c9e03d4d3382a2625": {
          "model_module": "@jupyter-widgets/base",
          "model_name": "LayoutModel",
          "model_module_version": "1.2.0",
          "state": {
            "_model_module": "@jupyter-widgets/base",
            "_model_module_version": "1.2.0",
            "_model_name": "LayoutModel",
            "_view_count": null,
            "_view_module": "@jupyter-widgets/base",
            "_view_module_version": "1.2.0",
            "_view_name": "LayoutView",
            "align_content": null,
            "align_items": null,
            "align_self": null,
            "border": null,
            "bottom": null,
            "display": null,
            "flex": null,
            "flex_flow": null,
            "grid_area": null,
            "grid_auto_columns": null,
            "grid_auto_flow": null,
            "grid_auto_rows": null,
            "grid_column": null,
            "grid_gap": null,
            "grid_row": null,
            "grid_template_areas": null,
            "grid_template_columns": null,
            "grid_template_rows": null,
            "height": null,
            "justify_content": null,
            "justify_items": null,
            "left": null,
            "margin": null,
            "max_height": null,
            "max_width": null,
            "min_height": null,
            "min_width": null,
            "object_fit": null,
            "object_position": null,
            "order": null,
            "overflow": null,
            "overflow_x": null,
            "overflow_y": null,
            "padding": null,
            "right": null,
            "top": null,
            "visibility": null,
            "width": null
          }
        },
        "4984de740e38494f9720e1cdd709edf5": {
          "model_module": "@jupyter-widgets/controls",
          "model_name": "ProgressStyleModel",
          "model_module_version": "1.5.0",
          "state": {
            "_model_module": "@jupyter-widgets/controls",
            "_model_module_version": "1.5.0",
            "_model_name": "ProgressStyleModel",
            "_view_count": null,
            "_view_module": "@jupyter-widgets/base",
            "_view_module_version": "1.2.0",
            "_view_name": "StyleView",
            "bar_color": null,
            "description_width": ""
          }
        },
        "9bb33b21fc9841fc82f41e9ca2910927": {
          "model_module": "@jupyter-widgets/base",
          "model_name": "LayoutModel",
          "model_module_version": "1.2.0",
          "state": {
            "_model_module": "@jupyter-widgets/base",
            "_model_module_version": "1.2.0",
            "_model_name": "LayoutModel",
            "_view_count": null,
            "_view_module": "@jupyter-widgets/base",
            "_view_module_version": "1.2.0",
            "_view_name": "LayoutView",
            "align_content": null,
            "align_items": null,
            "align_self": null,
            "border": null,
            "bottom": null,
            "display": null,
            "flex": null,
            "flex_flow": null,
            "grid_area": null,
            "grid_auto_columns": null,
            "grid_auto_flow": null,
            "grid_auto_rows": null,
            "grid_column": null,
            "grid_gap": null,
            "grid_row": null,
            "grid_template_areas": null,
            "grid_template_columns": null,
            "grid_template_rows": null,
            "height": null,
            "justify_content": null,
            "justify_items": null,
            "left": null,
            "margin": null,
            "max_height": null,
            "max_width": null,
            "min_height": null,
            "min_width": null,
            "object_fit": null,
            "object_position": null,
            "order": null,
            "overflow": null,
            "overflow_x": null,
            "overflow_y": null,
            "padding": null,
            "right": null,
            "top": null,
            "visibility": null,
            "width": null
          }
        },
        "76f0d53e9bfc4599adec9966f895196b": {
          "model_module": "@jupyter-widgets/controls",
          "model_name": "DescriptionStyleModel",
          "model_module_version": "1.5.0",
          "state": {
            "_model_module": "@jupyter-widgets/controls",
            "_model_module_version": "1.5.0",
            "_model_name": "DescriptionStyleModel",
            "_view_count": null,
            "_view_module": "@jupyter-widgets/base",
            "_view_module_version": "1.2.0",
            "_view_name": "StyleView",
            "description_width": ""
          }
        },
        "9700cf4e53a84141a6f58205981d5fdc": {
          "model_module": "@jupyter-widgets/controls",
          "model_name": "HBoxModel",
          "model_module_version": "1.5.0",
          "state": {
            "_dom_classes": [],
            "_model_module": "@jupyter-widgets/controls",
            "_model_module_version": "1.5.0",
            "_model_name": "HBoxModel",
            "_view_count": null,
            "_view_module": "@jupyter-widgets/controls",
            "_view_module_version": "1.5.0",
            "_view_name": "HBoxView",
            "box_style": "",
            "children": [
              "IPY_MODEL_2012fc3d4b33408d95fdd1aaf9e8ff13",
              "IPY_MODEL_86681b4f6bcd493fa10c9eeca692f6bf",
              "IPY_MODEL_47c7b70f48df4e97aee0c18188725f73"
            ],
            "layout": "IPY_MODEL_9afb60ca2b40444aa236a79b3a646a09"
          }
        },
        "2012fc3d4b33408d95fdd1aaf9e8ff13": {
          "model_module": "@jupyter-widgets/controls",
          "model_name": "HTMLModel",
          "model_module_version": "1.5.0",
          "state": {
            "_dom_classes": [],
            "_model_module": "@jupyter-widgets/controls",
            "_model_module_version": "1.5.0",
            "_model_name": "HTMLModel",
            "_view_count": null,
            "_view_module": "@jupyter-widgets/controls",
            "_view_module_version": "1.5.0",
            "_view_name": "HTMLView",
            "description": "",
            "description_tooltip": null,
            "layout": "IPY_MODEL_be1189d7975e4b62850a3a2bc8bc57ff",
            "placeholder": "​",
            "style": "IPY_MODEL_71c517b3dd9448c6a9a6b042213bcf92",
            "value": "100%"
          }
        },
        "86681b4f6bcd493fa10c9eeca692f6bf": {
          "model_module": "@jupyter-widgets/controls",
          "model_name": "FloatProgressModel",
          "model_module_version": "1.5.0",
          "state": {
            "_dom_classes": [],
            "_model_module": "@jupyter-widgets/controls",
            "_model_module_version": "1.5.0",
            "_model_name": "FloatProgressModel",
            "_view_count": null,
            "_view_module": "@jupyter-widgets/controls",
            "_view_module_version": "1.5.0",
            "_view_name": "ProgressView",
            "bar_style": "success",
            "description": "",
            "description_tooltip": null,
            "layout": "IPY_MODEL_72e1236e312d464b8e504e62b40e5710",
            "max": 5148,
            "min": 0,
            "orientation": "horizontal",
            "style": "IPY_MODEL_52af89ac89864709baadd20f14abd18b",
            "value": 5148
          }
        },
        "47c7b70f48df4e97aee0c18188725f73": {
          "model_module": "@jupyter-widgets/controls",
          "model_name": "HTMLModel",
          "model_module_version": "1.5.0",
          "state": {
            "_dom_classes": [],
            "_model_module": "@jupyter-widgets/controls",
            "_model_module_version": "1.5.0",
            "_model_name": "HTMLModel",
            "_view_count": null,
            "_view_module": "@jupyter-widgets/controls",
            "_view_module_version": "1.5.0",
            "_view_name": "HTMLView",
            "description": "",
            "description_tooltip": null,
            "layout": "IPY_MODEL_e4ab702ffc9049a5a210a3fe2b661de1",
            "placeholder": "​",
            "style": "IPY_MODEL_2640e330bc7e4ab98c46981251dfec0a",
            "value": " 5148/5148 [00:00&lt;00:00, 80415.77it/s]"
          }
        },
        "9afb60ca2b40444aa236a79b3a646a09": {
          "model_module": "@jupyter-widgets/base",
          "model_name": "LayoutModel",
          "model_module_version": "1.2.0",
          "state": {
            "_model_module": "@jupyter-widgets/base",
            "_model_module_version": "1.2.0",
            "_model_name": "LayoutModel",
            "_view_count": null,
            "_view_module": "@jupyter-widgets/base",
            "_view_module_version": "1.2.0",
            "_view_name": "LayoutView",
            "align_content": null,
            "align_items": null,
            "align_self": null,
            "border": null,
            "bottom": null,
            "display": null,
            "flex": null,
            "flex_flow": null,
            "grid_area": null,
            "grid_auto_columns": null,
            "grid_auto_flow": null,
            "grid_auto_rows": null,
            "grid_column": null,
            "grid_gap": null,
            "grid_row": null,
            "grid_template_areas": null,
            "grid_template_columns": null,
            "grid_template_rows": null,
            "height": null,
            "justify_content": null,
            "justify_items": null,
            "left": null,
            "margin": null,
            "max_height": null,
            "max_width": null,
            "min_height": null,
            "min_width": null,
            "object_fit": null,
            "object_position": null,
            "order": null,
            "overflow": null,
            "overflow_x": null,
            "overflow_y": null,
            "padding": null,
            "right": null,
            "top": null,
            "visibility": null,
            "width": null
          }
        },
        "be1189d7975e4b62850a3a2bc8bc57ff": {
          "model_module": "@jupyter-widgets/base",
          "model_name": "LayoutModel",
          "model_module_version": "1.2.0",
          "state": {
            "_model_module": "@jupyter-widgets/base",
            "_model_module_version": "1.2.0",
            "_model_name": "LayoutModel",
            "_view_count": null,
            "_view_module": "@jupyter-widgets/base",
            "_view_module_version": "1.2.0",
            "_view_name": "LayoutView",
            "align_content": null,
            "align_items": null,
            "align_self": null,
            "border": null,
            "bottom": null,
            "display": null,
            "flex": null,
            "flex_flow": null,
            "grid_area": null,
            "grid_auto_columns": null,
            "grid_auto_flow": null,
            "grid_auto_rows": null,
            "grid_column": null,
            "grid_gap": null,
            "grid_row": null,
            "grid_template_areas": null,
            "grid_template_columns": null,
            "grid_template_rows": null,
            "height": null,
            "justify_content": null,
            "justify_items": null,
            "left": null,
            "margin": null,
            "max_height": null,
            "max_width": null,
            "min_height": null,
            "min_width": null,
            "object_fit": null,
            "object_position": null,
            "order": null,
            "overflow": null,
            "overflow_x": null,
            "overflow_y": null,
            "padding": null,
            "right": null,
            "top": null,
            "visibility": null,
            "width": null
          }
        },
        "71c517b3dd9448c6a9a6b042213bcf92": {
          "model_module": "@jupyter-widgets/controls",
          "model_name": "DescriptionStyleModel",
          "model_module_version": "1.5.0",
          "state": {
            "_model_module": "@jupyter-widgets/controls",
            "_model_module_version": "1.5.0",
            "_model_name": "DescriptionStyleModel",
            "_view_count": null,
            "_view_module": "@jupyter-widgets/base",
            "_view_module_version": "1.2.0",
            "_view_name": "StyleView",
            "description_width": ""
          }
        },
        "72e1236e312d464b8e504e62b40e5710": {
          "model_module": "@jupyter-widgets/base",
          "model_name": "LayoutModel",
          "model_module_version": "1.2.0",
          "state": {
            "_model_module": "@jupyter-widgets/base",
            "_model_module_version": "1.2.0",
            "_model_name": "LayoutModel",
            "_view_count": null,
            "_view_module": "@jupyter-widgets/base",
            "_view_module_version": "1.2.0",
            "_view_name": "LayoutView",
            "align_content": null,
            "align_items": null,
            "align_self": null,
            "border": null,
            "bottom": null,
            "display": null,
            "flex": null,
            "flex_flow": null,
            "grid_area": null,
            "grid_auto_columns": null,
            "grid_auto_flow": null,
            "grid_auto_rows": null,
            "grid_column": null,
            "grid_gap": null,
            "grid_row": null,
            "grid_template_areas": null,
            "grid_template_columns": null,
            "grid_template_rows": null,
            "height": null,
            "justify_content": null,
            "justify_items": null,
            "left": null,
            "margin": null,
            "max_height": null,
            "max_width": null,
            "min_height": null,
            "min_width": null,
            "object_fit": null,
            "object_position": null,
            "order": null,
            "overflow": null,
            "overflow_x": null,
            "overflow_y": null,
            "padding": null,
            "right": null,
            "top": null,
            "visibility": null,
            "width": null
          }
        },
        "52af89ac89864709baadd20f14abd18b": {
          "model_module": "@jupyter-widgets/controls",
          "model_name": "ProgressStyleModel",
          "model_module_version": "1.5.0",
          "state": {
            "_model_module": "@jupyter-widgets/controls",
            "_model_module_version": "1.5.0",
            "_model_name": "ProgressStyleModel",
            "_view_count": null,
            "_view_module": "@jupyter-widgets/base",
            "_view_module_version": "1.2.0",
            "_view_name": "StyleView",
            "bar_color": null,
            "description_width": ""
          }
        },
        "e4ab702ffc9049a5a210a3fe2b661de1": {
          "model_module": "@jupyter-widgets/base",
          "model_name": "LayoutModel",
          "model_module_version": "1.2.0",
          "state": {
            "_model_module": "@jupyter-widgets/base",
            "_model_module_version": "1.2.0",
            "_model_name": "LayoutModel",
            "_view_count": null,
            "_view_module": "@jupyter-widgets/base",
            "_view_module_version": "1.2.0",
            "_view_name": "LayoutView",
            "align_content": null,
            "align_items": null,
            "align_self": null,
            "border": null,
            "bottom": null,
            "display": null,
            "flex": null,
            "flex_flow": null,
            "grid_area": null,
            "grid_auto_columns": null,
            "grid_auto_flow": null,
            "grid_auto_rows": null,
            "grid_column": null,
            "grid_gap": null,
            "grid_row": null,
            "grid_template_areas": null,
            "grid_template_columns": null,
            "grid_template_rows": null,
            "height": null,
            "justify_content": null,
            "justify_items": null,
            "left": null,
            "margin": null,
            "max_height": null,
            "max_width": null,
            "min_height": null,
            "min_width": null,
            "object_fit": null,
            "object_position": null,
            "order": null,
            "overflow": null,
            "overflow_x": null,
            "overflow_y": null,
            "padding": null,
            "right": null,
            "top": null,
            "visibility": null,
            "width": null
          }
        },
        "2640e330bc7e4ab98c46981251dfec0a": {
          "model_module": "@jupyter-widgets/controls",
          "model_name": "DescriptionStyleModel",
          "model_module_version": "1.5.0",
          "state": {
            "_model_module": "@jupyter-widgets/controls",
            "_model_module_version": "1.5.0",
            "_model_name": "DescriptionStyleModel",
            "_view_count": null,
            "_view_module": "@jupyter-widgets/base",
            "_view_module_version": "1.2.0",
            "_view_name": "StyleView",
            "description_width": ""
          }
        }
      }
    }
  },
  "nbformat": 4,
  "nbformat_minor": 0
}